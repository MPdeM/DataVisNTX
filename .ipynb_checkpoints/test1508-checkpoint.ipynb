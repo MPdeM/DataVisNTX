{
 "cells": [
  {
   "cell_type": "markdown",
   "metadata": {
    "colab_type": "text",
    "id": "iUaNRmYzxKcy"
   },
   "source": [
    "## ETL \n",
    "Data for stroke deaths is extracted from CDC open data ( https://www.cdc.gov/dhdsp/maps/atlas/data-sources.html)\n",
    "The source of Stroke Mortality data among Adults (35+) by State/Territory and County is the NVSS Deaths National Vital Statistics System. Bridged-Race Postcensal Population Estimates from National Center for Health Statistics. For the mortality the total number follows  International Classification of Diseases, 10th Revision (ICD-10) codes All Stroke: I60-I69; underlying cause of death and includes Ischemic (I63, I65-I66)  and Hemorrhagic (I60-I62). "
   ]
  },
  {
   "cell_type": "code",
   "execution_count": 1,
   "metadata": {
    "colab": {
     "base_uri": "https://localhost:8080/",
     "height": 51
    },
    "colab_type": "code",
    "id": "hfUjuXLlZtbf",
    "outputId": "de98bc27-b569-4408-843d-03fccc3f3fbf"
   },
   "outputs": [],
   "source": [
    "import pandas as pd\n",
    "pd.set_option('display.max_columns', 20)\n",
    "import numpy as np\n",
    "import seaborn as sns"
   ]
  },
  {
   "cell_type": "code",
   "execution_count": 44,
   "metadata": {
    "scrolled": true
   },
   "outputs": [
    {
     "data": {
      "text/plain": [
       "0        1001.0\n",
       "1        1001.0\n",
       "2        1001.0\n",
       "3        1001.0\n",
       "4        1001.0\n",
       "          ...  \n",
       "31539       NaN\n",
       "31540       NaN\n",
       "31541       NaN\n",
       "31542       NaN\n",
       "31543       NaN\n",
       "Name: County Code, Length: 31544, dtype: float64"
      ]
     },
     "execution_count": 44,
     "metadata": {},
     "output_type": "execute_result"
    }
   ],
   "source": [
    "\n",
    "\n",
    "# Read School and Student Data File and store into Pandas Data Frames\n",
    "data_df = pd.read_csv(\"assets/data/UnderlyingCauseofDeath2014_2018.txt\", sep=\"\\t\", header=0)\n",
    "data_df['County Code']"
   ]
  },
  {
   "cell_type": "code",
   "execution_count": 45,
   "metadata": {
    "colab": {},
    "colab_type": "code",
    "id": "NaWtMr0fZtbi"
   },
   "outputs": [
    {
     "data": {
      "text/plain": [
       "Notes                 object\n",
       "State                 object\n",
       "State Code           float64\n",
       "County                object\n",
       "County Code          float64\n",
       "Gender                object\n",
       "Gender Code           object\n",
       "Year                 float64\n",
       "Year Code            float64\n",
       "Deaths                object\n",
       "Population            object\n",
       "Crude Rate            object\n",
       "% of Total Deaths     object\n",
       "dtype: object"
      ]
     },
     "execution_count": 45,
     "metadata": {},
     "output_type": "execute_result"
    }
   ],
   "source": [
    "data_df.dtypes\n"
   ]
  },
  {
   "cell_type": "code",
   "execution_count": 35,
   "metadata": {
    "colab": {},
    "colab_type": "code",
    "id": "x5JsJysqa8Ll"
   },
   "outputs": [
    {
     "data": {
      "text/plain": [
       "3147"
      ]
     },
     "execution_count": 35,
     "metadata": {},
     "output_type": "execute_result"
    }
   ],
   "source": [
    "data_df['County Code'].nunique()"
   ]
  },
  {
   "cell_type": "code",
   "execution_count": 22,
   "metadata": {
    "colab": {
     "base_uri": "https://localhost:8080/",
     "height": 391
    },
    "colab_type": "code",
    "id": "f1gFXlTzPLGU",
    "outputId": "5a1b5d30-d814-409b-d880-c6c326de8235"
   },
   "outputs": [
    {
     "data": {
      "text/plain": [
       "Notes                   74\n",
       "State                31470\n",
       "State Code           31470\n",
       "County               31470\n",
       "County Code          31470\n",
       "Gender               31470\n",
       "Gender Code          31470\n",
       "Year                 31470\n",
       "Year Code            31470\n",
       "Deaths               31470\n",
       "Population           31470\n",
       "Crude Rate           31470\n",
       "% of Total Deaths    31470\n",
       "dtype: int64"
      ]
     },
     "execution_count": 22,
     "metadata": {},
     "output_type": "execute_result"
    }
   ],
   "source": [
    "# Check datacounts\n",
    "data_df.count()"
   ]
  },
  {
   "cell_type": "code",
   "execution_count": null,
   "metadata": {
    "colab": {
     "base_uri": "https://localhost:8080/",
     "height": 374
    },
    "colab_type": "code",
    "id": "nTWui3eLZtbl",
    "outputId": "2a778127-36b7-404e-8af5-8c1224362b85",
    "scrolled": true
   },
   "outputs": [
    {
     "data": {
      "text/plain": [
       "year                          object\n",
       "locationabbr                  object\n",
       "locationdesc                  object\n",
       "geographiclevel               object\n",
       "datasource                    object\n",
       "class                         object\n",
       "topic                         object\n",
       "data_value                    object\n",
       "data_value_unit               object\n",
       "data_value_type               object\n",
       "stratificationcategory1       object\n",
       "stratification1               object\n",
       "stratificationcategory2       object\n",
       "stratification2               object\n",
       "topicid                       object\n",
       "locationid                    object\n",
       "y_lat                         object\n",
       "x_lon                         object\n",
       "data_value_footnote_symbol    object\n",
       "data_value_footnote           object\n",
       "dtype: object"
      ]
     },
     "execution_count": 48,
     "metadata": {
      "tags": []
     },
     "output_type": "execute_result"
    }
   ],
   "source": [
    "# Check datatypes\n",
    "data_df.dtypes"
   ]
  },
  {
   "cell_type": "code",
   "execution_count": null,
   "metadata": {
    "colab": {},
    "colab_type": "code",
    "id": "N5JMAQIzr53K"
   },
   "outputs": [],
   "source": [
    "datasub_df['Deaths']= datasub_df(['data_value'].fillna('')"
   ]
  },
  {
   "cell_type": "code",
   "execution_count": 18,
   "metadata": {
    "colab": {
     "base_uri": "https://localhost:8080/",
     "height": 374
    },
    "colab_type": "code",
    "id": "bmBqPOQ7qDLe",
    "outputId": "11d1f789-6be9-4a1e-89e6-1d3833a0f544"
   },
   "outputs": [
    {
     "ename": "ValueError",
     "evalue": "Unable to parse string \"Suppressed\" at position 0",
     "output_type": "error",
     "traceback": [
      "\u001b[1;31m---------------------------------------------------------------------------\u001b[0m",
      "\u001b[1;31mValueError\u001b[0m                                Traceback (most recent call last)",
      "\u001b[1;32mpandas\\_libs\\lib.pyx\u001b[0m in \u001b[0;36mpandas._libs.lib.maybe_convert_numeric\u001b[1;34m()\u001b[0m\n",
      "\u001b[1;31mValueError\u001b[0m: Unable to parse string \"Suppressed\"",
      "\nDuring handling of the above exception, another exception occurred:\n",
      "\u001b[1;31mValueError\u001b[0m                                Traceback (most recent call last)",
      "\u001b[1;32m<ipython-input-18-f7ad7cf60ae4>\u001b[0m in \u001b[0;36m<module>\u001b[1;34m\u001b[0m\n\u001b[0;32m      1\u001b[0m \u001b[1;31m# change the data types\u001b[0m\u001b[1;33m\u001b[0m\u001b[1;33m\u001b[0m\u001b[1;33m\u001b[0m\u001b[0m\n\u001b[1;32m----> 2\u001b[1;33m \u001b[0mdata_df\u001b[0m\u001b[1;33m[\u001b[0m\u001b[1;34m'Deaths'\u001b[0m\u001b[1;33m]\u001b[0m \u001b[1;33m=\u001b[0m \u001b[0mpd\u001b[0m\u001b[1;33m.\u001b[0m\u001b[0mto_numeric\u001b[0m\u001b[1;33m(\u001b[0m\u001b[0mdata_df\u001b[0m\u001b[1;33m[\u001b[0m\u001b[1;34m'Deaths'\u001b[0m\u001b[1;33m]\u001b[0m\u001b[1;33m)\u001b[0m\u001b[1;33m\u001b[0m\u001b[1;33m\u001b[0m\u001b[0m\n\u001b[0m\u001b[0;32m      3\u001b[0m \u001b[1;31m# data_df['locationid'] = pd.to_numeric(data_df['locationid'])\u001b[0m\u001b[1;33m\u001b[0m\u001b[1;33m\u001b[0m\u001b[1;33m\u001b[0m\u001b[0m\n\u001b[0;32m      4\u001b[0m \u001b[0mdata_df\u001b[0m\u001b[1;33m[\u001b[0m\u001b[1;34m'Population'\u001b[0m\u001b[1;33m]\u001b[0m \u001b[1;33m=\u001b[0m \u001b[0mpd\u001b[0m\u001b[1;33m.\u001b[0m\u001b[0mto_numeric\u001b[0m\u001b[1;33m(\u001b[0m\u001b[0mdata_df\u001b[0m\u001b[1;33m[\u001b[0m\u001b[1;34m'Population'\u001b[0m\u001b[1;33m]\u001b[0m\u001b[1;33m)\u001b[0m\u001b[1;33m\u001b[0m\u001b[1;33m\u001b[0m\u001b[0m\n\u001b[0;32m      5\u001b[0m \u001b[0mdata_df\u001b[0m\u001b[1;33m[\u001b[0m\u001b[1;34m'Crude Rate'\u001b[0m\u001b[1;33m]\u001b[0m \u001b[1;33m=\u001b[0m \u001b[0mpd\u001b[0m\u001b[1;33m.\u001b[0m\u001b[0mto_numeric\u001b[0m\u001b[1;33m(\u001b[0m\u001b[0mdata_df\u001b[0m\u001b[1;33m[\u001b[0m\u001b[1;34m'Crude Rate'\u001b[0m\u001b[1;33m]\u001b[0m\u001b[1;33m)\u001b[0m\u001b[1;33m\u001b[0m\u001b[1;33m\u001b[0m\u001b[0m\n",
      "\u001b[1;32m~\\Anaconda3\\lib\\site-packages\\pandas\\core\\tools\\numeric.py\u001b[0m in \u001b[0;36mto_numeric\u001b[1;34m(arg, errors, downcast)\u001b[0m\n\u001b[0;32m    148\u001b[0m         \u001b[1;32mtry\u001b[0m\u001b[1;33m:\u001b[0m\u001b[1;33m\u001b[0m\u001b[1;33m\u001b[0m\u001b[0m\n\u001b[0;32m    149\u001b[0m             values = lib.maybe_convert_numeric(\n\u001b[1;32m--> 150\u001b[1;33m                 \u001b[0mvalues\u001b[0m\u001b[1;33m,\u001b[0m \u001b[0mset\u001b[0m\u001b[1;33m(\u001b[0m\u001b[1;33m)\u001b[0m\u001b[1;33m,\u001b[0m \u001b[0mcoerce_numeric\u001b[0m\u001b[1;33m=\u001b[0m\u001b[0mcoerce_numeric\u001b[0m\u001b[1;33m\u001b[0m\u001b[1;33m\u001b[0m\u001b[0m\n\u001b[0m\u001b[0;32m    151\u001b[0m             )\n\u001b[0;32m    152\u001b[0m         \u001b[1;32mexcept\u001b[0m \u001b[1;33m(\u001b[0m\u001b[0mValueError\u001b[0m\u001b[1;33m,\u001b[0m \u001b[0mTypeError\u001b[0m\u001b[1;33m)\u001b[0m\u001b[1;33m:\u001b[0m\u001b[1;33m\u001b[0m\u001b[1;33m\u001b[0m\u001b[0m\n",
      "\u001b[1;32mpandas\\_libs\\lib.pyx\u001b[0m in \u001b[0;36mpandas._libs.lib.maybe_convert_numeric\u001b[1;34m()\u001b[0m\n",
      "\u001b[1;31mValueError\u001b[0m: Unable to parse string \"Suppressed\" at position 0"
     ]
    }
   ],
   "source": [
    "# change the data types \n",
    "data_df['Deaths'] = pd.to_numeric(data_df['Deaths'])\n",
    "# data_df['locationid'] = pd.to_numeric(data_df['locationid'])\n",
    "data_df['Population'] = pd.to_numeric(data_df['Population'])\n",
    "data_df['Crude Rate'] = pd.to_numeric(data_df['Crude Rate'])\n",
    "data_df['% of Total Deaths'] = pd.to_numeric(data_df['% of Total Deaths'])\n",
    "data_df.dtypes"
   ]
  },
  {
   "cell_type": "code",
   "execution_count": null,
   "metadata": {
    "colab": {
     "base_uri": "https://localhost:8080/",
     "height": 309
    },
    "colab_type": "code",
    "id": "PVVwYTAdZtbs",
    "outputId": "8ba17d8c-8057-4251-9920-1370c2d157ff"
   },
   "outputs": [
    {
     "data": {
      "text/html": [
       "<div>\n",
       "<style scoped>\n",
       "    .dataframe tbody tr th:only-of-type {\n",
       "        vertical-align: middle;\n",
       "    }\n",
       "\n",
       "    .dataframe tbody tr th {\n",
       "        vertical-align: top;\n",
       "    }\n",
       "\n",
       "    .dataframe thead th {\n",
       "        text-align: right;\n",
       "    }\n",
       "</style>\n",
       "<table border=\"1\" class=\"dataframe\">\n",
       "  <thead>\n",
       "    <tr style=\"text-align: right;\">\n",
       "      <th></th>\n",
       "      <th>locationid</th>\n",
       "      <th>locationabbr</th>\n",
       "      <th>locationdesc</th>\n",
       "      <th>y_lat</th>\n",
       "      <th>x_lon</th>\n",
       "      <th>class</th>\n",
       "      <th>topic</th>\n",
       "      <th>stratificationcategory1</th>\n",
       "      <th>stratification1</th>\n",
       "      <th>stratificationcategory2</th>\n",
       "      <th>stratification2</th>\n",
       "      <th>year</th>\n",
       "      <th>data_value</th>\n",
       "      <th>data_value_unit</th>\n",
       "    </tr>\n",
       "  </thead>\n",
       "  <tbody>\n",
       "    <tr>\n",
       "      <th>0</th>\n",
       "      <td>02013</td>\n",
       "      <td>AK</td>\n",
       "      <td>Aleutians East</td>\n",
       "      <td>55.442393</td>\n",
       "      <td>-161.959930</td>\n",
       "      <td>Cardiovascular Diseases</td>\n",
       "      <td>Stroke Mortality</td>\n",
       "      <td>Gender</td>\n",
       "      <td>Overall</td>\n",
       "      <td>Race/Ethnicity</td>\n",
       "      <td>Overall</td>\n",
       "      <td>2017</td>\n",
       "      <td>2.0</td>\n",
       "      <td>per 100,000 population</td>\n",
       "    </tr>\n",
       "    <tr>\n",
       "      <th>1</th>\n",
       "      <td>02016</td>\n",
       "      <td>AK</td>\n",
       "      <td>Aleutians West</td>\n",
       "      <td>53.648343</td>\n",
       "      <td>-166.917533</td>\n",
       "      <td>Cardiovascular Diseases</td>\n",
       "      <td>Stroke Mortality</td>\n",
       "      <td>Gender</td>\n",
       "      <td>Overall</td>\n",
       "      <td>Race/Ethnicity</td>\n",
       "      <td>Overall</td>\n",
       "      <td>2017</td>\n",
       "      <td>0.0</td>\n",
       "      <td>per 100,000 population</td>\n",
       "    </tr>\n",
       "    <tr>\n",
       "      <th>2</th>\n",
       "      <td>02020</td>\n",
       "      <td>AK</td>\n",
       "      <td>Anchorage</td>\n",
       "      <td>61.159145</td>\n",
       "      <td>-149.104559</td>\n",
       "      <td>Cardiovascular Diseases</td>\n",
       "      <td>Stroke Mortality</td>\n",
       "      <td>Gender</td>\n",
       "      <td>Overall</td>\n",
       "      <td>Race/Ethnicity</td>\n",
       "      <td>Overall</td>\n",
       "      <td>2017</td>\n",
       "      <td>67.2</td>\n",
       "      <td>per 100,000 population</td>\n",
       "    </tr>\n",
       "    <tr>\n",
       "      <th>3</th>\n",
       "      <td>02050</td>\n",
       "      <td>AK</td>\n",
       "      <td>Bethel</td>\n",
       "      <td>60.923648</td>\n",
       "      <td>-159.753262</td>\n",
       "      <td>Cardiovascular Diseases</td>\n",
       "      <td>Stroke Mortality</td>\n",
       "      <td>Gender</td>\n",
       "      <td>Overall</td>\n",
       "      <td>Race/Ethnicity</td>\n",
       "      <td>Overall</td>\n",
       "      <td>2017</td>\n",
       "      <td>104.6</td>\n",
       "      <td>per 100,000 population</td>\n",
       "    </tr>\n",
       "    <tr>\n",
       "      <th>4</th>\n",
       "      <td>02060</td>\n",
       "      <td>AK</td>\n",
       "      <td>Bristol Bay</td>\n",
       "      <td>58.753496</td>\n",
       "      <td>-156.694662</td>\n",
       "      <td>Cardiovascular Diseases</td>\n",
       "      <td>Stroke Mortality</td>\n",
       "      <td>Gender</td>\n",
       "      <td>Overall</td>\n",
       "      <td>Race/Ethnicity</td>\n",
       "      <td>Overall</td>\n",
       "      <td>2017</td>\n",
       "      <td>NaN</td>\n",
       "      <td>per 100,000 population</td>\n",
       "    </tr>\n",
       "  </tbody>\n",
       "</table>\n",
       "</div>"
      ],
      "text/plain": [
       "  locationid locationabbr    locationdesc      y_lat       x_lon  \\\n",
       "0      02013           AK  Aleutians East  55.442393 -161.959930   \n",
       "1      02016           AK  Aleutians West  53.648343 -166.917533   \n",
       "2      02020           AK       Anchorage  61.159145 -149.104559   \n",
       "3      02050           AK          Bethel  60.923648 -159.753262   \n",
       "4      02060           AK     Bristol Bay  58.753496 -156.694662   \n",
       "\n",
       "                     class             topic stratificationcategory1  \\\n",
       "0  Cardiovascular Diseases  Stroke Mortality                  Gender   \n",
       "1  Cardiovascular Diseases  Stroke Mortality                  Gender   \n",
       "2  Cardiovascular Diseases  Stroke Mortality                  Gender   \n",
       "3  Cardiovascular Diseases  Stroke Mortality                  Gender   \n",
       "4  Cardiovascular Diseases  Stroke Mortality                  Gender   \n",
       "\n",
       "  stratification1 stratificationcategory2 stratification2  year  data_value  \\\n",
       "0         Overall          Race/Ethnicity         Overall  2017         2.0   \n",
       "1         Overall          Race/Ethnicity         Overall  2017         0.0   \n",
       "2         Overall          Race/Ethnicity         Overall  2017        67.2   \n",
       "3         Overall          Race/Ethnicity         Overall  2017       104.6   \n",
       "4         Overall          Race/Ethnicity         Overall  2017         NaN   \n",
       "\n",
       "          data_value_unit  \n",
       "0  per 100,000 population  \n",
       "1  per 100,000 population  \n",
       "2  per 100,000 population  \n",
       "3  per 100,000 population  \n",
       "4  per 100,000 population  "
      ]
     },
     "execution_count": 75,
     "metadata": {
      "tags": []
     },
     "output_type": "execute_result"
    }
   ],
   "source": [
    "# reorganize columns\n",
    "datasub_df = data_df[['locationid','locationabbr','locationdesc','y_lat','x_lon',\n",
    "                      'class','topic','stratificationcategory1', 'stratification1' ,\n",
    "                      'stratificationcategory2' , 'stratification2' ,'year','data_value','data_value_unit']]          \n",
    "\n",
    "datasub_df.head()"
   ]
  },
  {
   "cell_type": "code",
   "execution_count": null,
   "metadata": {
    "colab": {
     "base_uri": "https://localhost:8080/",
     "height": 309
    },
    "colab_type": "code",
    "id": "EOCiJ2XuZtbv",
    "outputId": "714186b1-9023-4342-8c42-16855fcdc64a"
   },
   "outputs": [
    {
     "data": {
      "text/html": [
       "<div>\n",
       "<style scoped>\n",
       "    .dataframe tbody tr th:only-of-type {\n",
       "        vertical-align: middle;\n",
       "    }\n",
       "\n",
       "    .dataframe tbody tr th {\n",
       "        vertical-align: top;\n",
       "    }\n",
       "\n",
       "    .dataframe thead th {\n",
       "        text-align: right;\n",
       "    }\n",
       "</style>\n",
       "<table border=\"1\" class=\"dataframe\">\n",
       "  <thead>\n",
       "    <tr style=\"text-align: right;\">\n",
       "      <th></th>\n",
       "      <th>locationID</th>\n",
       "      <th>state</th>\n",
       "      <th>county</th>\n",
       "      <th>lat</th>\n",
       "      <th>lon</th>\n",
       "      <th>class</th>\n",
       "      <th>topic</th>\n",
       "      <th>param1</th>\n",
       "      <th>param1sub</th>\n",
       "      <th>param2</th>\n",
       "      <th>param2sub</th>\n",
       "      <th>year</th>\n",
       "      <th>data_value</th>\n",
       "      <th>data_value_unit</th>\n",
       "    </tr>\n",
       "  </thead>\n",
       "  <tbody>\n",
       "    <tr>\n",
       "      <th>0</th>\n",
       "      <td>02013</td>\n",
       "      <td>AK</td>\n",
       "      <td>Aleutians East</td>\n",
       "      <td>55.442393</td>\n",
       "      <td>-161.959930</td>\n",
       "      <td>Cardiovascular Diseases</td>\n",
       "      <td>Stroke Mortality</td>\n",
       "      <td>Gender</td>\n",
       "      <td>Overall</td>\n",
       "      <td>Race/Ethnicity</td>\n",
       "      <td>Overall</td>\n",
       "      <td>2017</td>\n",
       "      <td>2.0</td>\n",
       "      <td>per 100,000 population</td>\n",
       "    </tr>\n",
       "    <tr>\n",
       "      <th>1</th>\n",
       "      <td>02016</td>\n",
       "      <td>AK</td>\n",
       "      <td>Aleutians West</td>\n",
       "      <td>53.648343</td>\n",
       "      <td>-166.917533</td>\n",
       "      <td>Cardiovascular Diseases</td>\n",
       "      <td>Stroke Mortality</td>\n",
       "      <td>Gender</td>\n",
       "      <td>Overall</td>\n",
       "      <td>Race/Ethnicity</td>\n",
       "      <td>Overall</td>\n",
       "      <td>2017</td>\n",
       "      <td>0.0</td>\n",
       "      <td>per 100,000 population</td>\n",
       "    </tr>\n",
       "    <tr>\n",
       "      <th>2</th>\n",
       "      <td>02020</td>\n",
       "      <td>AK</td>\n",
       "      <td>Anchorage</td>\n",
       "      <td>61.159145</td>\n",
       "      <td>-149.104559</td>\n",
       "      <td>Cardiovascular Diseases</td>\n",
       "      <td>Stroke Mortality</td>\n",
       "      <td>Gender</td>\n",
       "      <td>Overall</td>\n",
       "      <td>Race/Ethnicity</td>\n",
       "      <td>Overall</td>\n",
       "      <td>2017</td>\n",
       "      <td>67.2</td>\n",
       "      <td>per 100,000 population</td>\n",
       "    </tr>\n",
       "    <tr>\n",
       "      <th>3</th>\n",
       "      <td>02050</td>\n",
       "      <td>AK</td>\n",
       "      <td>Bethel</td>\n",
       "      <td>60.923648</td>\n",
       "      <td>-159.753262</td>\n",
       "      <td>Cardiovascular Diseases</td>\n",
       "      <td>Stroke Mortality</td>\n",
       "      <td>Gender</td>\n",
       "      <td>Overall</td>\n",
       "      <td>Race/Ethnicity</td>\n",
       "      <td>Overall</td>\n",
       "      <td>2017</td>\n",
       "      <td>104.6</td>\n",
       "      <td>per 100,000 population</td>\n",
       "    </tr>\n",
       "    <tr>\n",
       "      <th>4</th>\n",
       "      <td>02060</td>\n",
       "      <td>AK</td>\n",
       "      <td>Bristol Bay</td>\n",
       "      <td>58.753496</td>\n",
       "      <td>-156.694662</td>\n",
       "      <td>Cardiovascular Diseases</td>\n",
       "      <td>Stroke Mortality</td>\n",
       "      <td>Gender</td>\n",
       "      <td>Overall</td>\n",
       "      <td>Race/Ethnicity</td>\n",
       "      <td>Overall</td>\n",
       "      <td>2017</td>\n",
       "      <td>NaN</td>\n",
       "      <td>per 100,000 population</td>\n",
       "    </tr>\n",
       "  </tbody>\n",
       "</table>\n",
       "</div>"
      ],
      "text/plain": [
       "  locationID state          county        lat         lon  \\\n",
       "0      02013    AK  Aleutians East  55.442393 -161.959930   \n",
       "1      02016    AK  Aleutians West  53.648343 -166.917533   \n",
       "2      02020    AK       Anchorage  61.159145 -149.104559   \n",
       "3      02050    AK          Bethel  60.923648 -159.753262   \n",
       "4      02060    AK     Bristol Bay  58.753496 -156.694662   \n",
       "\n",
       "                     class             topic  param1 param1sub  \\\n",
       "0  Cardiovascular Diseases  Stroke Mortality  Gender   Overall   \n",
       "1  Cardiovascular Diseases  Stroke Mortality  Gender   Overall   \n",
       "2  Cardiovascular Diseases  Stroke Mortality  Gender   Overall   \n",
       "3  Cardiovascular Diseases  Stroke Mortality  Gender   Overall   \n",
       "4  Cardiovascular Diseases  Stroke Mortality  Gender   Overall   \n",
       "\n",
       "           param2 param2sub  year  data_value         data_value_unit  \n",
       "0  Race/Ethnicity   Overall  2017         2.0  per 100,000 population  \n",
       "1  Race/Ethnicity   Overall  2017         0.0  per 100,000 population  \n",
       "2  Race/Ethnicity   Overall  2017        67.2  per 100,000 population  \n",
       "3  Race/Ethnicity   Overall  2017       104.6  per 100,000 population  \n",
       "4  Race/Ethnicity   Overall  2017         NaN  per 100,000 population  "
      ]
     },
     "execution_count": 76,
     "metadata": {
      "tags": []
     },
     "output_type": "execute_result"
    }
   ],
   "source": [
    "#Rename columns \n",
    "datasub_df = datasub_df.rename(columns={\"locationid\":\"locationID\", \"y_lat\":\"lat\", \"x_lon\":\"lon\",\"locationabbr\":\"state\", \"locationdesc\": \"county\",\n",
    "                                        \"stratificationcategory1\":\"param1\",\"stratification1\":\"param1sub\",\n",
    "                                        \"stratificationcategory2\":\"param2\",\"stratification2\":\"param2sub\"})\n",
    "\n",
    "datasub_df.head() "
   ]
  },
  {
   "cell_type": "code",
   "execution_count": null,
   "metadata": {
    "colab": {
     "base_uri": "https://localhost:8080/",
     "height": 356
    },
    "colab_type": "code",
    "id": "_KBaiORSZtby",
    "outputId": "e9a6f436-da79-4601-d63b-79c7e34caa6f"
   },
   "outputs": [
    {
     "data": {
      "text/plain": [
       "<matplotlib.axes._subplots.AxesSubplot at 0x7fd957b35ef0>"
      ]
     },
     "execution_count": 13,
     "metadata": {
      "tags": []
     },
     "output_type": "execute_result"
    },
    {
     "data": {
      "image/png": "[encoded data removed]",
      "text/plain": [
       "<Figure size 432x288 with 2 Axes>"
      ]
     },
     "metadata": {
      "needs_background": "light",
      "tags": []
     },
     "output_type": "display_data"
    }
   ],
   "source": [
    "#cleaning data: first explore how many are missing \n",
    "\n",
    "cols = datasub_df.columns[:20] # first 30 columns\n",
    "colours = ['green', 'orange'] # specify the colours - orange is missing. green is not missing.\n",
    "sns.heatmap(datasub_df[cols].isnull(), cmap=sns.color_palette(colours))"
   ]
  },
  {
   "cell_type": "code",
   "execution_count": null,
   "metadata": {
    "colab": {},
    "colab_type": "code",
    "id": "m0E-Q8fGZtb1"
   },
   "outputs": [],
   "source": [
    "# if it's a larger dataset and the visualization takes too long can do this.\n",
    "# % of missing.\n",
    "for col in datasub_df.columns:\n",
    "    pct_missing = np.mean(datasub_df[col].isnull())\n",
    "    print('{} - {}%'.format(col, round(pct_missing*100)))"
   ]
  },
  {
   "cell_type": "code",
   "execution_count": null,
   "metadata": {
    "colab": {
     "base_uri": "https://localhost:8080/",
     "height": 309
    },
    "colab_type": "code",
    "id": "7WaA6de-Ztb7",
    "outputId": "b1bcd30e-9cd3-455e-ad99-c625a13bde4a",
    "scrolled": true
   },
   "outputs": [
    {
     "data": {
      "text/html": [
       "<div>\n",
       "<style scoped>\n",
       "    .dataframe tbody tr th:only-of-type {\n",
       "        vertical-align: middle;\n",
       "    }\n",
       "\n",
       "    .dataframe tbody tr th {\n",
       "        vertical-align: top;\n",
       "    }\n",
       "\n",
       "    .dataframe thead th {\n",
       "        text-align: right;\n",
       "    }\n",
       "</style>\n",
       "<table border=\"1\" class=\"dataframe\">\n",
       "  <thead>\n",
       "    <tr style=\"text-align: right;\">\n",
       "      <th></th>\n",
       "      <th>locationID</th>\n",
       "      <th>state</th>\n",
       "      <th>county</th>\n",
       "      <th>lat</th>\n",
       "      <th>lon</th>\n",
       "      <th>class</th>\n",
       "      <th>topic</th>\n",
       "      <th>param1</th>\n",
       "      <th>param1sub</th>\n",
       "      <th>param2</th>\n",
       "      <th>param2sub</th>\n",
       "      <th>year</th>\n",
       "      <th>data_value</th>\n",
       "      <th>data_value_unit</th>\n",
       "    </tr>\n",
       "  </thead>\n",
       "  <tbody>\n",
       "    <tr>\n",
       "      <th>0</th>\n",
       "      <td>02013</td>\n",
       "      <td>AK</td>\n",
       "      <td>Aleutians East</td>\n",
       "      <td>55.442393</td>\n",
       "      <td>-161.959930</td>\n",
       "      <td>Cardiovascular Diseases</td>\n",
       "      <td>Stroke Mortality</td>\n",
       "      <td>Gender</td>\n",
       "      <td>Overall</td>\n",
       "      <td>Race/Ethnicity</td>\n",
       "      <td>Overall</td>\n",
       "      <td>2017</td>\n",
       "      <td>2</td>\n",
       "      <td>per 100,000 population</td>\n",
       "    </tr>\n",
       "    <tr>\n",
       "      <th>1</th>\n",
       "      <td>02016</td>\n",
       "      <td>AK</td>\n",
       "      <td>Aleutians West</td>\n",
       "      <td>53.648343</td>\n",
       "      <td>-166.917533</td>\n",
       "      <td>Cardiovascular Diseases</td>\n",
       "      <td>Stroke Mortality</td>\n",
       "      <td>Gender</td>\n",
       "      <td>Overall</td>\n",
       "      <td>Race/Ethnicity</td>\n",
       "      <td>Overall</td>\n",
       "      <td>2017</td>\n",
       "      <td>0</td>\n",
       "      <td>per 100,000 population</td>\n",
       "    </tr>\n",
       "    <tr>\n",
       "      <th>2</th>\n",
       "      <td>02020</td>\n",
       "      <td>AK</td>\n",
       "      <td>Anchorage</td>\n",
       "      <td>61.159145</td>\n",
       "      <td>-149.104559</td>\n",
       "      <td>Cardiovascular Diseases</td>\n",
       "      <td>Stroke Mortality</td>\n",
       "      <td>Gender</td>\n",
       "      <td>Overall</td>\n",
       "      <td>Race/Ethnicity</td>\n",
       "      <td>Overall</td>\n",
       "      <td>2017</td>\n",
       "      <td>67.2</td>\n",
       "      <td>per 100,000 population</td>\n",
       "    </tr>\n",
       "    <tr>\n",
       "      <th>3</th>\n",
       "      <td>02050</td>\n",
       "      <td>AK</td>\n",
       "      <td>Bethel</td>\n",
       "      <td>60.923648</td>\n",
       "      <td>-159.753262</td>\n",
       "      <td>Cardiovascular Diseases</td>\n",
       "      <td>Stroke Mortality</td>\n",
       "      <td>Gender</td>\n",
       "      <td>Overall</td>\n",
       "      <td>Race/Ethnicity</td>\n",
       "      <td>Overall</td>\n",
       "      <td>2017</td>\n",
       "      <td>104.6</td>\n",
       "      <td>per 100,000 population</td>\n",
       "    </tr>\n",
       "    <tr>\n",
       "      <th>4</th>\n",
       "      <td>02060</td>\n",
       "      <td>AK</td>\n",
       "      <td>Bristol Bay</td>\n",
       "      <td>58.753496</td>\n",
       "      <td>-156.694662</td>\n",
       "      <td>Cardiovascular Diseases</td>\n",
       "      <td>Stroke Mortality</td>\n",
       "      <td>Gender</td>\n",
       "      <td>Overall</td>\n",
       "      <td>Race/Ethnicity</td>\n",
       "      <td>Overall</td>\n",
       "      <td>2017</td>\n",
       "      <td></td>\n",
       "      <td>per 100,000 population</td>\n",
       "    </tr>\n",
       "  </tbody>\n",
       "</table>\n",
       "</div>"
      ],
      "text/plain": [
       "  locationID state          county        lat         lon  \\\n",
       "0      02013    AK  Aleutians East  55.442393 -161.959930   \n",
       "1      02016    AK  Aleutians West  53.648343 -166.917533   \n",
       "2      02020    AK       Anchorage  61.159145 -149.104559   \n",
       "3      02050    AK          Bethel  60.923648 -159.753262   \n",
       "4      02060    AK     Bristol Bay  58.753496 -156.694662   \n",
       "\n",
       "                     class             topic  param1 param1sub  \\\n",
       "0  Cardiovascular Diseases  Stroke Mortality  Gender   Overall   \n",
       "1  Cardiovascular Diseases  Stroke Mortality  Gender   Overall   \n",
       "2  Cardiovascular Diseases  Stroke Mortality  Gender   Overall   \n",
       "3  Cardiovascular Diseases  Stroke Mortality  Gender   Overall   \n",
       "4  Cardiovascular Diseases  Stroke Mortality  Gender   Overall   \n",
       "\n",
       "           param2 param2sub  year data_value         data_value_unit  \n",
       "0  Race/Ethnicity   Overall  2017          2  per 100,000 population  \n",
       "1  Race/Ethnicity   Overall  2017          0  per 100,000 population  \n",
       "2  Race/Ethnicity   Overall  2017       67.2  per 100,000 population  \n",
       "3  Race/Ethnicity   Overall  2017      104.6  per 100,000 population  \n",
       "4  Race/Ethnicity   Overall  2017             per 100,000 population  "
      ]
     },
     "execution_count": 77,
     "metadata": {
      "tags": []
     },
     "output_type": "execute_result"
    }
   ],
   "source": [
    "#In this case the counties that had missing values will be changed by -1 to be easily recognizable\n",
    "datasub_df['data_value']= datasub_df['data_value'].fillna('')\n",
    "datasub_df.head()"
   ]
  },
  {
   "cell_type": "code",
   "execution_count": null,
   "metadata": {
    "colab": {},
    "colab_type": "code",
    "id": "-6TU-pPCtmMY"
   },
   "outputs": [],
   "source": [
    "datasub_df.dtypes"
   ]
  },
  {
   "cell_type": "code",
   "execution_count": null,
   "metadata": {
    "colab": {
     "base_uri": "https://localhost:8080/",
     "height": 35
    },
    "colab_type": "code",
    "id": "d0RSb6LN-7cE",
    "outputId": "fc2b35ad-584e-4b1e-efcc-e1411ff1fc4c"
   },
   "outputs": [
    {
     "data": {
      "application/vnd.google.colaboratory.intrinsic+json": {
       "type": "string"
      },
      "text/plain": [
       "'2017'"
      ]
     },
     "execution_count": 55,
     "metadata": {
      "tags": []
     },
     "output_type": "execute_result"
    }
   ],
   "source": [
    "#re-name the file\n",
    "datayear= datasub_df['year'][1]\n",
    "datayear"
   ]
  },
  {
   "cell_type": "code",
   "execution_count": null,
   "metadata": {
    "colab": {},
    "colab_type": "code",
    "id": "lOdrnZGYB8Ko"
   },
   "outputs": [],
   "source": [
    "data2017_df=datasub_df"
   ]
  },
  {
   "cell_type": "code",
   "execution_count": null,
   "metadata": {
    "colab": {
     "base_uri": "https://localhost:8080/",
     "height": 272
    },
    "colab_type": "code",
    "id": "RMKKGn3gpMk1",
    "outputId": "d0e08e31-b96e-44be-ddf3-7f34ea5d8edd"
   },
   "outputs": [
    {
     "data": {
      "text/plain": [
       "locationID         59094\n",
       "state              59094\n",
       "county             59094\n",
       "lat                59076\n",
       "lon                59076\n",
       "class              59094\n",
       "topic              59094\n",
       "param1             59094\n",
       "param1sub          59094\n",
       "param2             59094\n",
       "param2sub          59094\n",
       "year               59094\n",
       "data_value         59094\n",
       "data_value_unit    59094\n",
       "dtype: int64"
      ]
     },
     "execution_count": 79,
     "metadata": {
      "tags": []
     },
     "output_type": "execute_result"
    }
   ],
   "source": [
    "data2017_df.count()"
   ]
  },
  {
   "cell_type": "code",
   "execution_count": null,
   "metadata": {
    "colab": {
     "base_uri": "https://localhost:8080/",
     "height": 68
    },
    "colab_type": "code",
    "id": "-CY8pXcPGjBn",
    "outputId": "2f661c8b-6a12-4336-af03-57d8f12d2ecc"
   },
   "outputs": [
    {
     "data": {
      "text/plain": [
       "array(['Black', 'Asian and Pacific Islander',\n",
       "       'American Indian and Alaskan Native', 'Overall', 'White',\n",
       "       'Hispanic'], dtype=object)"
      ]
     },
     "execution_count": 59,
     "metadata": {
      "tags": []
     },
     "output_type": "execute_result"
    }
   ],
   "source": [
    "data_df.stratification2.unique()"
   ]
  },
  {
   "cell_type": "code",
   "execution_count": null,
   "metadata": {
    "colab": {},
    "colab_type": "code",
    "id": "SJOd20zcT9WQ"
   },
   "outputs": [],
   "source": [
    "data_df['year'] = pd.to_numeric(data_df['year'])\n",
    "# data_df['locationid'] = pd.to_numeric(data_df['locationid'])\n",
    "data_df['data_value'] = pd.to_numeric(data_df['data_value'])\n",
    "data_df['location_1.latitude'] = pd.to_numeric(data_df['location_1.latitude'])\n",
    "data_df['location_1.longitude'] = pd.to_numeric(data_df['location_1.longitude'])"
   ]
  },
  {
   "cell_type": "code",
   "execution_count": null,
   "metadata": {
    "colab": {
     "base_uri": "https://localhost:8080/",
     "height": 111
    },
    "colab_type": "code",
    "id": "A288I3AzT0Oe",
    "outputId": "63300e79-bafa-4221-9144-d77ddcd22fc7"
   },
   "outputs": [
    {
     "data": {
      "text/html": [
       "<div>\n",
       "<style scoped>\n",
       "    .dataframe tbody tr th:only-of-type {\n",
       "        vertical-align: middle;\n",
       "    }\n",
       "\n",
       "    .dataframe tbody tr th {\n",
       "        vertical-align: top;\n",
       "    }\n",
       "\n",
       "    .dataframe thead th {\n",
       "        text-align: right;\n",
       "    }\n",
       "</style>\n",
       "<table border=\"1\" class=\"dataframe\">\n",
       "  <thead>\n",
       "    <tr style=\"text-align: right;\">\n",
       "      <th></th>\n",
       "      <th>locationID</th>\n",
       "      <th>state</th>\n",
       "      <th>county</th>\n",
       "      <th>lat</th>\n",
       "      <th>lon</th>\n",
       "      <th>class</th>\n",
       "      <th>topic</th>\n",
       "      <th>param1</th>\n",
       "      <th>param1sub</th>\n",
       "      <th>param2</th>\n",
       "      <th>param2sub</th>\n",
       "      <th>year</th>\n",
       "      <th>data_value</th>\n",
       "      <th>data_value_unit</th>\n",
       "    </tr>\n",
       "  </thead>\n",
       "  <tbody>\n",
       "    <tr>\n",
       "      <th>0</th>\n",
       "      <td>21151</td>\n",
       "      <td>KY</td>\n",
       "      <td>Madison County</td>\n",
       "      <td>37.717847</td>\n",
       "      <td>-84.286105</td>\n",
       "      <td>Cardiovascular Diseases</td>\n",
       "      <td>Stroke Mortality</td>\n",
       "      <td>Gender</td>\n",
       "      <td>Male</td>\n",
       "      <td>Race/Ethnicity</td>\n",
       "      <td>Black</td>\n",
       "      <td>2015</td>\n",
       "      <td></td>\n",
       "      <td>per 100,000 population</td>\n",
       "    </tr>\n",
       "    <tr>\n",
       "      <th>1</th>\n",
       "      <td>29123</td>\n",
       "      <td>MO</td>\n",
       "      <td>Madison County</td>\n",
       "      <td>37.477119</td>\n",
       "      <td>-90.350376</td>\n",
       "      <td>Cardiovascular Diseases</td>\n",
       "      <td>Stroke Mortality</td>\n",
       "      <td>Gender</td>\n",
       "      <td>Male</td>\n",
       "      <td>Race/Ethnicity</td>\n",
       "      <td>Asian and Pacific Islander</td>\n",
       "      <td>2015</td>\n",
       "      <td></td>\n",
       "      <td>per 100,000 population</td>\n",
       "    </tr>\n",
       "  </tbody>\n",
       "</table>\n",
       "</div>"
      ],
      "text/plain": [
       "  locationID state          county        lat        lon  \\\n",
       "0      21151    KY  Madison County  37.717847 -84.286105   \n",
       "1      29123    MO  Madison County  37.477119 -90.350376   \n",
       "\n",
       "                     class             topic  param1 param1sub  \\\n",
       "0  Cardiovascular Diseases  Stroke Mortality  Gender      Male   \n",
       "1  Cardiovascular Diseases  Stroke Mortality  Gender      Male   \n",
       "\n",
       "           param2                   param2sub  year data_value  \\\n",
       "0  Race/Ethnicity                       Black  2015              \n",
       "1  Race/Ethnicity  Asian and Pacific Islander  2015              \n",
       "\n",
       "          data_value_unit  \n",
       "0  per 100,000 population  \n",
       "1  per 100,000 population  "
      ]
     },
     "execution_count": 82,
     "metadata": {
      "tags": []
     },
     "output_type": "execute_result"
    }
   ],
   "source": [
    "# reorganize columns\n",
    "datasub_df = data_df[['locationid','locationabbr','locationdesc','location_1.latitude','location_1.longitude',\n",
    "                      'class','topic','stratificationcategory1', 'stratification1' ,\n",
    "                      'stratificationcategory2','stratification2','year','data_value','data_value_unit']] \n",
    "\n",
    "#Rename columns \n",
    "datasub_df = datasub_df.rename(columns={\"locationid\":\"locationID\", \"location_1.latitude\":\"lat\", \"location_1.longitude\":\"lon\",\"locationabbr\":\"state\", \"locationdesc\": \"county\",\n",
    "                                        \"stratificationcategory1\":\"param1\",\"stratification1\":\"param1sub\",\n",
    "                                        \"stratificationcategory2\":\"param2\",\"stratification2\":\"param2sub\"})\n",
    "\n",
    "#In this case the counties that had missing values will be changed by -1 to be easily recognizable\n",
    "datasub_df['data_value']= datasub_df['data_value'].fillna('')\n",
    "datasub_df.head(2)\n"
   ]
  },
  {
   "cell_type": "code",
   "execution_count": null,
   "metadata": {
    "colab": {},
    "colab_type": "code",
    "id": "B5_MoIjyGBdl"
   },
   "outputs": [],
   "source": [
    "data2015_df=datasub_df"
   ]
  },
  {
   "cell_type": "code",
   "execution_count": null,
   "metadata": {
    "colab": {
     "base_uri": "https://localhost:8080/",
     "height": 272
    },
    "colab_type": "code",
    "id": "_mFH1qfrqyOt",
    "outputId": "ac80256a-569a-49e1-dbab-2c7d36762436"
   },
   "outputs": [
    {
     "data": {
      "text/plain": [
       "locationID         59076\n",
       "state              59076\n",
       "county             59076\n",
       "lat                59058\n",
       "lon                59058\n",
       "class              59076\n",
       "topic              59076\n",
       "param1             59076\n",
       "param1sub          59076\n",
       "param2             59076\n",
       "param2sub          59076\n",
       "year               59076\n",
       "data_value         59076\n",
       "data_value_unit    59076\n",
       "dtype: int64"
      ]
     },
     "execution_count": 84,
     "metadata": {
      "tags": []
     },
     "output_type": "execute_result"
    }
   ],
   "source": [
    "data2015_df.count()"
   ]
  },
  {
   "cell_type": "code",
   "execution_count": null,
   "metadata": {
    "colab": {},
    "colab_type": "code",
    "id": "OtOkm--rGcYn"
   },
   "outputs": [],
   "source": []
  },
  {
   "cell_type": "code",
   "execution_count": null,
   "metadata": {
    "colab": {
     "base_uri": "https://localhost:8080/",
     "height": 204
    },
    "colab_type": "code",
    "id": "1NML4JuaTRG4",
    "outputId": "a0265b6b-ff01-42d4-e3d6-0df7e2fb1569"
   },
   "outputs": [
    {
     "data": {
      "text/html": [
       "<div>\n",
       "<style scoped>\n",
       "    .dataframe tbody tr th:only-of-type {\n",
       "        vertical-align: middle;\n",
       "    }\n",
       "\n",
       "    .dataframe tbody tr th {\n",
       "        vertical-align: top;\n",
       "    }\n",
       "\n",
       "    .dataframe thead th {\n",
       "        text-align: right;\n",
       "    }\n",
       "</style>\n",
       "<table border=\"1\" class=\"dataframe\">\n",
       "  <thead>\n",
       "    <tr style=\"text-align: right;\">\n",
       "      <th></th>\n",
       "      <th>locationID</th>\n",
       "      <th>state</th>\n",
       "      <th>county_2017</th>\n",
       "      <th>lat</th>\n",
       "      <th>lon</th>\n",
       "      <th>class</th>\n",
       "      <th>topic</th>\n",
       "      <th>param1</th>\n",
       "      <th>param1sub</th>\n",
       "      <th>param2</th>\n",
       "      <th>param2sub</th>\n",
       "      <th>2017</th>\n",
       "      <th>county_2016</th>\n",
       "      <th>2016</th>\n",
       "      <th>county</th>\n",
       "      <th>lat_2015</th>\n",
       "      <th>lon_2015</th>\n",
       "      <th>2015</th>\n",
       "    </tr>\n",
       "  </thead>\n",
       "  <tbody>\n",
       "    <tr>\n",
       "      <th>0</th>\n",
       "      <td>02013</td>\n",
       "      <td>AK</td>\n",
       "      <td>Aleutians East</td>\n",
       "      <td>55.442393</td>\n",
       "      <td>-161.959930</td>\n",
       "      <td>Cardiovascular Diseases</td>\n",
       "      <td>Stroke Mortality</td>\n",
       "      <td>Gender</td>\n",
       "      <td>Overall</td>\n",
       "      <td>Race/Ethnicity</td>\n",
       "      <td>Overall</td>\n",
       "      <td>2</td>\n",
       "      <td>Aleutians East</td>\n",
       "      <td>2</td>\n",
       "      <td>Aleutians East</td>\n",
       "      <td>55.440626</td>\n",
       "      <td>-161.962562</td>\n",
       "      <td>3</td>\n",
       "    </tr>\n",
       "    <tr>\n",
       "      <th>1</th>\n",
       "      <td>02016</td>\n",
       "      <td>AK</td>\n",
       "      <td>Aleutians West</td>\n",
       "      <td>53.648343</td>\n",
       "      <td>-166.917533</td>\n",
       "      <td>Cardiovascular Diseases</td>\n",
       "      <td>Stroke Mortality</td>\n",
       "      <td>Gender</td>\n",
       "      <td>Overall</td>\n",
       "      <td>Race/Ethnicity</td>\n",
       "      <td>Overall</td>\n",
       "      <td>0</td>\n",
       "      <td>Aleutians West</td>\n",
       "      <td>0</td>\n",
       "      <td>Aleutians West</td>\n",
       "      <td>52.995403</td>\n",
       "      <td>-170.251538</td>\n",
       "      <td>6.1</td>\n",
       "    </tr>\n",
       "    <tr>\n",
       "      <th>2</th>\n",
       "      <td>02020</td>\n",
       "      <td>AK</td>\n",
       "      <td>Anchorage</td>\n",
       "      <td>61.159145</td>\n",
       "      <td>-149.104559</td>\n",
       "      <td>Cardiovascular Diseases</td>\n",
       "      <td>Stroke Mortality</td>\n",
       "      <td>Gender</td>\n",
       "      <td>Overall</td>\n",
       "      <td>Race/Ethnicity</td>\n",
       "      <td>Overall</td>\n",
       "      <td>67.2</td>\n",
       "      <td>Anchorage</td>\n",
       "      <td>65.3</td>\n",
       "      <td>Anchorage</td>\n",
       "      <td>61.159049</td>\n",
       "      <td>-149.103905</td>\n",
       "      <td>63.8</td>\n",
       "    </tr>\n",
       "    <tr>\n",
       "      <th>3</th>\n",
       "      <td>02050</td>\n",
       "      <td>AK</td>\n",
       "      <td>Bethel</td>\n",
       "      <td>60.923648</td>\n",
       "      <td>-159.753262</td>\n",
       "      <td>Cardiovascular Diseases</td>\n",
       "      <td>Stroke Mortality</td>\n",
       "      <td>Gender</td>\n",
       "      <td>Overall</td>\n",
       "      <td>Race/Ethnicity</td>\n",
       "      <td>Overall</td>\n",
       "      <td>104.6</td>\n",
       "      <td>Bethel</td>\n",
       "      <td>101.4</td>\n",
       "      <td>Bethel</td>\n",
       "      <td>60.924483</td>\n",
       "      <td>-159.749655</td>\n",
       "      <td>105.8</td>\n",
       "    </tr>\n",
       "    <tr>\n",
       "      <th>4</th>\n",
       "      <td>02060</td>\n",
       "      <td>AK</td>\n",
       "      <td>Bristol Bay</td>\n",
       "      <td>58.753496</td>\n",
       "      <td>-156.694662</td>\n",
       "      <td>Cardiovascular Diseases</td>\n",
       "      <td>Stroke Mortality</td>\n",
       "      <td>Gender</td>\n",
       "      <td>Overall</td>\n",
       "      <td>Race/Ethnicity</td>\n",
       "      <td>Overall</td>\n",
       "      <td></td>\n",
       "      <td>Bristol Bay</td>\n",
       "      <td></td>\n",
       "      <td>Bristol Bay</td>\n",
       "      <td>58.754192</td>\n",
       "      <td>-156.694709</td>\n",
       "      <td></td>\n",
       "    </tr>\n",
       "  </tbody>\n",
       "</table>\n",
       "</div>"
      ],
      "text/plain": [
       "  locationID state     county_2017        lat         lon  \\\n",
       "0      02013    AK  Aleutians East  55.442393 -161.959930   \n",
       "1      02016    AK  Aleutians West  53.648343 -166.917533   \n",
       "2      02020    AK       Anchorage  61.159145 -149.104559   \n",
       "3      02050    AK          Bethel  60.923648 -159.753262   \n",
       "4      02060    AK     Bristol Bay  58.753496 -156.694662   \n",
       "\n",
       "                     class             topic  param1 param1sub  \\\n",
       "0  Cardiovascular Diseases  Stroke Mortality  Gender   Overall   \n",
       "1  Cardiovascular Diseases  Stroke Mortality  Gender   Overall   \n",
       "2  Cardiovascular Diseases  Stroke Mortality  Gender   Overall   \n",
       "3  Cardiovascular Diseases  Stroke Mortality  Gender   Overall   \n",
       "4  Cardiovascular Diseases  Stroke Mortality  Gender   Overall   \n",
       "\n",
       "           param2 param2sub   2017     county_2016   2016          county  \\\n",
       "0  Race/Ethnicity   Overall      2  Aleutians East      2  Aleutians East   \n",
       "1  Race/Ethnicity   Overall      0  Aleutians West      0  Aleutians West   \n",
       "2  Race/Ethnicity   Overall   67.2       Anchorage   65.3       Anchorage   \n",
       "3  Race/Ethnicity   Overall  104.6          Bethel  101.4          Bethel   \n",
       "4  Race/Ethnicity   Overall            Bristol Bay            Bristol Bay   \n",
       "\n",
       "    lat_2015    lon_2015   2015  \n",
       "0  55.440626 -161.962562      3  \n",
       "1  52.995403 -170.251538    6.1  \n",
       "2  61.159049 -149.103905   63.8  \n",
       "3  60.924483 -159.749655  105.8  \n",
       "4  58.754192 -156.694709         "
      ]
     },
     "execution_count": 124,
     "metadata": {
      "tags": []
     },
     "output_type": "execute_result"
    }
   ],
   "source": []
  },
  {
   "cell_type": "code",
   "execution_count": null,
   "metadata": {
    "colab": {
     "base_uri": "https://localhost:8080/",
     "height": 408
    },
    "colab_type": "code",
    "id": "2d_N6mEYP8Hz",
    "outputId": "d9ebfbb2-fd22-4834-89b8-89420531f0e7"
   },
   "outputs": [
    {
     "data": {
      "text/plain": [
       "locationID         59076\n",
       "state              59076\n",
       "county_2017        58968\n",
       "lat                58950\n",
       "lon                58950\n",
       "class              59076\n",
       "topic              59076\n",
       "param1             59076\n",
       "param1sub          59076\n",
       "param2             59076\n",
       "param2sub          59076\n",
       "year_2017          58968\n",
       "2017               58968\n",
       "county_2016        58968\n",
       "year_2016          58968\n",
       "2016               58968\n",
       "county             59076\n",
       "lat_2015           59058\n",
       "lon_2015           59058\n",
       "year               59076\n",
       "data_value         59076\n",
       "data_value_unit    59076\n",
       "dtype: int64"
      ]
     },
     "execution_count": 120,
     "metadata": {
      "tags": []
     },
     "output_type": "execute_result"
    }
   ],
   "source": [
    "semicombined3_df.count()"
   ]
  },
  {
   "cell_type": "code",
   "execution_count": null,
   "metadata": {
    "colab": {
     "base_uri": "https://localhost:8080/",
     "height": 180
    },
    "colab_type": "code",
    "id": "G_MvWpI8TSFG",
    "outputId": "21e69666-4d00-47c1-b0e0-1e8e343964f0"
   },
   "outputs": [
    {
     "data": {
      "text/html": [
       "<div>\n",
       "<style scoped>\n",
       "    .dataframe tbody tr th:only-of-type {\n",
       "        vertical-align: middle;\n",
       "    }\n",
       "\n",
       "    .dataframe tbody tr th {\n",
       "        vertical-align: top;\n",
       "    }\n",
       "\n",
       "    .dataframe thead th {\n",
       "        text-align: right;\n",
       "    }\n",
       "</style>\n",
       "<table border=\"1\" class=\"dataframe\">\n",
       "  <thead>\n",
       "    <tr style=\"text-align: right;\">\n",
       "      <th></th>\n",
       "      <th>year</th>\n",
       "      <th>locationabbr</th>\n",
       "      <th>locationdesc</th>\n",
       "      <th>geographiclevel</th>\n",
       "      <th>datasource</th>\n",
       "      <th>class</th>\n",
       "      <th>topic</th>\n",
       "      <th>data_value</th>\n",
       "      <th>data_value_unit</th>\n",
       "      <th>data_value_type</th>\n",
       "      <th>...</th>\n",
       "      <th>stratificationcategory2</th>\n",
       "      <th>stratification2</th>\n",
       "      <th>topicid</th>\n",
       "      <th>locationid</th>\n",
       "      <th>:@computed_region_bxsw_vy29</th>\n",
       "      <th>:@computed_region_he4y_prf8</th>\n",
       "      <th>location_1.latitude</th>\n",
       "      <th>location_1.longitude</th>\n",
       "      <th>data_value_footnote_symbol</th>\n",
       "      <th>data_value_footnote</th>\n",
       "    </tr>\n",
       "  </thead>\n",
       "  <tbody>\n",
       "    <tr>\n",
       "      <th>0</th>\n",
       "      <td>2014</td>\n",
       "      <td>AK</td>\n",
       "      <td>Anchorage</td>\n",
       "      <td>County</td>\n",
       "      <td>NVSS</td>\n",
       "      <td>Cardiovascular Diseases</td>\n",
       "      <td>Stroke Mortality</td>\n",
       "      <td>71.7</td>\n",
       "      <td>per 100,000 population</td>\n",
       "      <td>Age-adjusted, Spatially Smoothed, 3-year Avera...</td>\n",
       "      <td>...</td>\n",
       "      <td>Race/Ethnicity</td>\n",
       "      <td>Overall</td>\n",
       "      <td>T6</td>\n",
       "      <td>02020</td>\n",
       "      <td>51</td>\n",
       "      <td>1669</td>\n",
       "      <td>61.159049</td>\n",
       "      <td>-149.103905</td>\n",
       "      <td>NaN</td>\n",
       "      <td>NaN</td>\n",
       "    </tr>\n",
       "  </tbody>\n",
       "</table>\n",
       "<p>1 rows × 22 columns</p>\n",
       "</div>"
      ],
      "text/plain": [
       "   year locationabbr locationdesc geographiclevel datasource  \\\n",
       "0  2014           AK    Anchorage          County       NVSS   \n",
       "\n",
       "                     class             topic data_value  \\\n",
       "0  Cardiovascular Diseases  Stroke Mortality       71.7   \n",
       "\n",
       "          data_value_unit                                    data_value_type  \\\n",
       "0  per 100,000 population  Age-adjusted, Spatially Smoothed, 3-year Avera...   \n",
       "\n",
       "   ... stratificationcategory2 stratification2 topicid locationid  \\\n",
       "0  ...          Race/Ethnicity         Overall      T6      02020   \n",
       "\n",
       "  :@computed_region_bxsw_vy29 :@computed_region_he4y_prf8 location_1.latitude  \\\n",
       "0                          51                        1669           61.159049   \n",
       "\n",
       "  location_1.longitude data_value_footnote_symbol data_value_footnote  \n",
       "0          -149.103905                        NaN                 NaN  \n",
       "\n",
       "[1 rows x 22 columns]"
      ]
     },
     "execution_count": 125,
     "metadata": {
      "tags": []
     },
     "output_type": "execute_result"
    }
   ],
   "source": []
  },
  {
   "cell_type": "code",
   "execution_count": null,
   "metadata": {
    "colab": {},
    "colab_type": "code",
    "id": "DYiOWTjNi_U2"
   },
   "outputs": [],
   "source": []
  },
  {
   "cell_type": "code",
   "execution_count": null,
   "metadata": {
    "colab": {},
    "colab_type": "code",
    "id": "mLxo6JL-i_53"
   },
   "outputs": [],
   "source": []
  },
  {
   "cell_type": "code",
   "execution_count": null,
   "metadata": {
    "colab": {
     "base_uri": "https://localhost:8080/",
     "height": 204
    },
    "colab_type": "code",
    "id": "CWCq6kFCR6t5",
    "outputId": "9c698aa1-3d7e-44e9-c497-0c07bc49e2aa"
   },
   "outputs": [
    {
     "data": {
      "text/html": [
       "<div>\n",
       "<style scoped>\n",
       "    .dataframe tbody tr th:only-of-type {\n",
       "        vertical-align: middle;\n",
       "    }\n",
       "\n",
       "    .dataframe tbody tr th {\n",
       "        vertical-align: top;\n",
       "    }\n",
       "\n",
       "    .dataframe thead th {\n",
       "        text-align: right;\n",
       "    }\n",
       "</style>\n",
       "<table border=\"1\" class=\"dataframe\">\n",
       "  <thead>\n",
       "    <tr style=\"text-align: right;\">\n",
       "      <th></th>\n",
       "      <th>locationID</th>\n",
       "      <th>state</th>\n",
       "      <th>county</th>\n",
       "      <th>lat</th>\n",
       "      <th>lon</th>\n",
       "      <th>class</th>\n",
       "      <th>topic</th>\n",
       "      <th>param1</th>\n",
       "      <th>param1sub</th>\n",
       "      <th>param2</th>\n",
       "      <th>param2sub</th>\n",
       "      <th>year</th>\n",
       "      <th>data_value</th>\n",
       "      <th>data_value_unit</th>\n",
       "    </tr>\n",
       "  </thead>\n",
       "  <tbody>\n",
       "    <tr>\n",
       "      <th>0</th>\n",
       "      <td>02020</td>\n",
       "      <td>AK</td>\n",
       "      <td>Anchorage</td>\n",
       "      <td>61.159049</td>\n",
       "      <td>-149.103905</td>\n",
       "      <td>Cardiovascular Diseases</td>\n",
       "      <td>Stroke Mortality</td>\n",
       "      <td>Gender</td>\n",
       "      <td>Overall</td>\n",
       "      <td>Race/Ethnicity</td>\n",
       "      <td>Overall</td>\n",
       "      <td>2014</td>\n",
       "      <td>71.7</td>\n",
       "      <td>per 100,000 population</td>\n",
       "    </tr>\n",
       "    <tr>\n",
       "      <th>1</th>\n",
       "      <td>02050</td>\n",
       "      <td>AK</td>\n",
       "      <td>Bethel</td>\n",
       "      <td>60.924483</td>\n",
       "      <td>-159.749655</td>\n",
       "      <td>Cardiovascular Diseases</td>\n",
       "      <td>Stroke Mortality</td>\n",
       "      <td>Gender</td>\n",
       "      <td>Overall</td>\n",
       "      <td>Race/Ethnicity</td>\n",
       "      <td>Overall</td>\n",
       "      <td>2014</td>\n",
       "      <td>97</td>\n",
       "      <td>per 100,000 population</td>\n",
       "    </tr>\n",
       "    <tr>\n",
       "      <th>2</th>\n",
       "      <td>02060</td>\n",
       "      <td>AK</td>\n",
       "      <td>Bristol Bay</td>\n",
       "      <td>58.754192</td>\n",
       "      <td>-156.694709</td>\n",
       "      <td>Cardiovascular Diseases</td>\n",
       "      <td>Stroke Mortality</td>\n",
       "      <td>Gender</td>\n",
       "      <td>Overall</td>\n",
       "      <td>Race/Ethnicity</td>\n",
       "      <td>Overall</td>\n",
       "      <td>2014</td>\n",
       "      <td></td>\n",
       "      <td>per 100,000 population</td>\n",
       "    </tr>\n",
       "    <tr>\n",
       "      <th>3</th>\n",
       "      <td>02068</td>\n",
       "      <td>AK</td>\n",
       "      <td>Denali</td>\n",
       "      <td>63.678399</td>\n",
       "      <td>-149.962076</td>\n",
       "      <td>Cardiovascular Diseases</td>\n",
       "      <td>Stroke Mortality</td>\n",
       "      <td>Gender</td>\n",
       "      <td>Overall</td>\n",
       "      <td>Race/Ethnicity</td>\n",
       "      <td>Overall</td>\n",
       "      <td>2014</td>\n",
       "      <td>63.9</td>\n",
       "      <td>per 100,000 population</td>\n",
       "    </tr>\n",
       "    <tr>\n",
       "      <th>4</th>\n",
       "      <td>02070</td>\n",
       "      <td>AK</td>\n",
       "      <td>Dillingham</td>\n",
       "      <td>59.803151</td>\n",
       "      <td>-158.181608</td>\n",
       "      <td>Cardiovascular Diseases</td>\n",
       "      <td>Stroke Mortality</td>\n",
       "      <td>Gender</td>\n",
       "      <td>Overall</td>\n",
       "      <td>Race/Ethnicity</td>\n",
       "      <td>Overall</td>\n",
       "      <td>2014</td>\n",
       "      <td>125.2</td>\n",
       "      <td>per 100,000 population</td>\n",
       "    </tr>\n",
       "  </tbody>\n",
       "</table>\n",
       "</div>"
      ],
      "text/plain": [
       "  locationID state       county        lat         lon  \\\n",
       "0      02020    AK    Anchorage  61.159049 -149.103905   \n",
       "1      02050    AK       Bethel  60.924483 -159.749655   \n",
       "2      02060    AK  Bristol Bay  58.754192 -156.694709   \n",
       "3      02068    AK       Denali  63.678399 -149.962076   \n",
       "4      02070    AK   Dillingham  59.803151 -158.181608   \n",
       "\n",
       "                     class             topic  param1 param1sub  \\\n",
       "0  Cardiovascular Diseases  Stroke Mortality  Gender   Overall   \n",
       "1  Cardiovascular Diseases  Stroke Mortality  Gender   Overall   \n",
       "2  Cardiovascular Diseases  Stroke Mortality  Gender   Overall   \n",
       "3  Cardiovascular Diseases  Stroke Mortality  Gender   Overall   \n",
       "4  Cardiovascular Diseases  Stroke Mortality  Gender   Overall   \n",
       "\n",
       "           param2 param2sub  year data_value         data_value_unit  \n",
       "0  Race/Ethnicity   Overall  2014       71.7  per 100,000 population  \n",
       "1  Race/Ethnicity   Overall  2014         97  per 100,000 population  \n",
       "2  Race/Ethnicity   Overall  2014             per 100,000 population  \n",
       "3  Race/Ethnicity   Overall  2014       63.9  per 100,000 population  \n",
       "4  Race/Ethnicity   Overall  2014      125.2  per 100,000 population  "
      ]
     },
     "execution_count": 131,
     "metadata": {
      "tags": []
     },
     "output_type": "execute_result"
    }
   ],
   "source": []
  },
  {
   "cell_type": "code",
   "execution_count": null,
   "metadata": {
    "colab": {
     "base_uri": "https://localhost:8080/",
     "height": 204
    },
    "colab_type": "code",
    "id": "mQJ1iTtbTSeZ",
    "outputId": "d5d3d966-c1ce-40cd-c1cc-14cafaf6f0ea"
   },
   "outputs": [
    {
     "data": {
      "text/html": [
       "<div>\n",
       "<style scoped>\n",
       "    .dataframe tbody tr th:only-of-type {\n",
       "        vertical-align: middle;\n",
       "    }\n",
       "\n",
       "    .dataframe tbody tr th {\n",
       "        vertical-align: top;\n",
       "    }\n",
       "\n",
       "    .dataframe thead th {\n",
       "        text-align: right;\n",
       "    }\n",
       "</style>\n",
       "<table border=\"1\" class=\"dataframe\">\n",
       "  <thead>\n",
       "    <tr style=\"text-align: right;\">\n",
       "      <th></th>\n",
       "      <th>locationID</th>\n",
       "      <th>state</th>\n",
       "      <th>county_2017</th>\n",
       "      <th>lat</th>\n",
       "      <th>lon</th>\n",
       "      <th>class</th>\n",
       "      <th>topic</th>\n",
       "      <th>param1</th>\n",
       "      <th>param1sub</th>\n",
       "      <th>param2</th>\n",
       "      <th>param2sub</th>\n",
       "      <th>2017</th>\n",
       "      <th>county_2016</th>\n",
       "      <th>2016</th>\n",
       "      <th>county</th>\n",
       "      <th>lat_2015</th>\n",
       "      <th>lon_2015</th>\n",
       "      <th>2015</th>\n",
       "    </tr>\n",
       "  </thead>\n",
       "  <tbody>\n",
       "    <tr>\n",
       "      <th>0</th>\n",
       "      <td>02013</td>\n",
       "      <td>AK</td>\n",
       "      <td>Aleutians East</td>\n",
       "      <td>55.442393</td>\n",
       "      <td>-161.959930</td>\n",
       "      <td>Cardiovascular Diseases</td>\n",
       "      <td>Stroke Mortality</td>\n",
       "      <td>Gender</td>\n",
       "      <td>Overall</td>\n",
       "      <td>Race/Ethnicity</td>\n",
       "      <td>Overall</td>\n",
       "      <td>2</td>\n",
       "      <td>Aleutians East</td>\n",
       "      <td>2</td>\n",
       "      <td>Aleutians East</td>\n",
       "      <td>55.440626</td>\n",
       "      <td>-161.962562</td>\n",
       "      <td>3</td>\n",
       "    </tr>\n",
       "    <tr>\n",
       "      <th>1</th>\n",
       "      <td>02016</td>\n",
       "      <td>AK</td>\n",
       "      <td>Aleutians West</td>\n",
       "      <td>53.648343</td>\n",
       "      <td>-166.917533</td>\n",
       "      <td>Cardiovascular Diseases</td>\n",
       "      <td>Stroke Mortality</td>\n",
       "      <td>Gender</td>\n",
       "      <td>Overall</td>\n",
       "      <td>Race/Ethnicity</td>\n",
       "      <td>Overall</td>\n",
       "      <td>0</td>\n",
       "      <td>Aleutians West</td>\n",
       "      <td>0</td>\n",
       "      <td>Aleutians West</td>\n",
       "      <td>52.995403</td>\n",
       "      <td>-170.251538</td>\n",
       "      <td>6.1</td>\n",
       "    </tr>\n",
       "    <tr>\n",
       "      <th>2</th>\n",
       "      <td>02020</td>\n",
       "      <td>AK</td>\n",
       "      <td>Anchorage</td>\n",
       "      <td>61.159145</td>\n",
       "      <td>-149.104559</td>\n",
       "      <td>Cardiovascular Diseases</td>\n",
       "      <td>Stroke Mortality</td>\n",
       "      <td>Gender</td>\n",
       "      <td>Overall</td>\n",
       "      <td>Race/Ethnicity</td>\n",
       "      <td>Overall</td>\n",
       "      <td>67.2</td>\n",
       "      <td>Anchorage</td>\n",
       "      <td>65.3</td>\n",
       "      <td>Anchorage</td>\n",
       "      <td>61.159049</td>\n",
       "      <td>-149.103905</td>\n",
       "      <td>63.8</td>\n",
       "    </tr>\n",
       "    <tr>\n",
       "      <th>3</th>\n",
       "      <td>02050</td>\n",
       "      <td>AK</td>\n",
       "      <td>Bethel</td>\n",
       "      <td>60.923648</td>\n",
       "      <td>-159.753262</td>\n",
       "      <td>Cardiovascular Diseases</td>\n",
       "      <td>Stroke Mortality</td>\n",
       "      <td>Gender</td>\n",
       "      <td>Overall</td>\n",
       "      <td>Race/Ethnicity</td>\n",
       "      <td>Overall</td>\n",
       "      <td>104.6</td>\n",
       "      <td>Bethel</td>\n",
       "      <td>101.4</td>\n",
       "      <td>Bethel</td>\n",
       "      <td>60.924483</td>\n",
       "      <td>-159.749655</td>\n",
       "      <td>105.8</td>\n",
       "    </tr>\n",
       "    <tr>\n",
       "      <th>4</th>\n",
       "      <td>02060</td>\n",
       "      <td>AK</td>\n",
       "      <td>Bristol Bay</td>\n",
       "      <td>58.753496</td>\n",
       "      <td>-156.694662</td>\n",
       "      <td>Cardiovascular Diseases</td>\n",
       "      <td>Stroke Mortality</td>\n",
       "      <td>Gender</td>\n",
       "      <td>Overall</td>\n",
       "      <td>Race/Ethnicity</td>\n",
       "      <td>Overall</td>\n",
       "      <td></td>\n",
       "      <td>Bristol Bay</td>\n",
       "      <td></td>\n",
       "      <td>Bristol Bay</td>\n",
       "      <td>58.754192</td>\n",
       "      <td>-156.694709</td>\n",
       "      <td></td>\n",
       "    </tr>\n",
       "  </tbody>\n",
       "</table>\n",
       "</div>"
      ],
      "text/plain": [
       "  locationID state     county_2017        lat         lon  \\\n",
       "0      02013    AK  Aleutians East  55.442393 -161.959930   \n",
       "1      02016    AK  Aleutians West  53.648343 -166.917533   \n",
       "2      02020    AK       Anchorage  61.159145 -149.104559   \n",
       "3      02050    AK          Bethel  60.923648 -159.753262   \n",
       "4      02060    AK     Bristol Bay  58.753496 -156.694662   \n",
       "\n",
       "                     class             topic  param1 param1sub  \\\n",
       "0  Cardiovascular Diseases  Stroke Mortality  Gender   Overall   \n",
       "1  Cardiovascular Diseases  Stroke Mortality  Gender   Overall   \n",
       "2  Cardiovascular Diseases  Stroke Mortality  Gender   Overall   \n",
       "3  Cardiovascular Diseases  Stroke Mortality  Gender   Overall   \n",
       "4  Cardiovascular Diseases  Stroke Mortality  Gender   Overall   \n",
       "\n",
       "           param2 param2sub   2017     county_2016   2016          county  \\\n",
       "0  Race/Ethnicity   Overall      2  Aleutians East      2  Aleutians East   \n",
       "1  Race/Ethnicity   Overall      0  Aleutians West      0  Aleutians West   \n",
       "2  Race/Ethnicity   Overall   67.2       Anchorage   65.3       Anchorage   \n",
       "3  Race/Ethnicity   Overall  104.6          Bethel  101.4          Bethel   \n",
       "4  Race/Ethnicity   Overall            Bristol Bay            Bristol Bay   \n",
       "\n",
       "    lat_2015    lon_2015   2015  \n",
       "0  55.440626 -161.962562      3  \n",
       "1  52.995403 -170.251538    6.1  \n",
       "2  61.159049 -149.103905   63.8  \n",
       "3  60.924483 -159.749655  105.8  \n",
       "4  58.754192 -156.694709         "
      ]
     },
     "execution_count": 139,
     "metadata": {
      "tags": []
     },
     "output_type": "execute_result"
    }
   ],
   "source": []
  },
  {
   "cell_type": "code",
   "execution_count": null,
   "metadata": {
    "colab": {
     "base_uri": "https://localhost:8080/",
     "height": 442
    },
    "colab_type": "code",
    "id": "x-zDUWHznbPC",
    "outputId": "0cd38438-6bf6-4e6f-fccc-91dfaddba94d"
   },
   "outputs": [
    {
     "data": {
      "text/plain": [
       "locationID         59076\n",
       "state              59076\n",
       "county_2017        58968\n",
       "lat                58950\n",
       "lon                58950\n",
       "class              59076\n",
       "topic              59076\n",
       "param1             59076\n",
       "param1sub          59076\n",
       "param2             59076\n",
       "param2sub          59076\n",
       "2017               58968\n",
       "county_2016        58968\n",
       "2016               58968\n",
       "county             59076\n",
       "lat_2015           59058\n",
       "lon_2015           59058\n",
       "2015               59076\n",
       "county_2014        59076\n",
       "lat_2014           59058\n",
       "lon_2014           59058\n",
       "year               59076\n",
       "data_value         59076\n",
       "data_value_unit    59076\n",
       "dtype: int64"
      ]
     },
     "execution_count": 136,
     "metadata": {
      "tags": []
     },
     "output_type": "execute_result"
    }
   ],
   "source": []
  },
  {
   "cell_type": "code",
   "execution_count": null,
   "metadata": {
    "colab": {
     "base_uri": "https://localhost:8080/",
     "height": 180
    },
    "colab_type": "code",
    "id": "5GLxfFW7na9O",
    "outputId": "022470dd-a5ab-44e4-a2ed-dd39cf97562a"
   },
   "outputs": [
    {
     "data": {
      "text/html": [
       "<div>\n",
       "<style scoped>\n",
       "    .dataframe tbody tr th:only-of-type {\n",
       "        vertical-align: middle;\n",
       "    }\n",
       "\n",
       "    .dataframe tbody tr th {\n",
       "        vertical-align: top;\n",
       "    }\n",
       "\n",
       "    .dataframe thead th {\n",
       "        text-align: right;\n",
       "    }\n",
       "</style>\n",
       "<table border=\"1\" class=\"dataframe\">\n",
       "  <thead>\n",
       "    <tr style=\"text-align: right;\">\n",
       "      <th></th>\n",
       "      <th>year</th>\n",
       "      <th>locationabbr</th>\n",
       "      <th>locationdesc</th>\n",
       "      <th>geographiclevel</th>\n",
       "      <th>datasource</th>\n",
       "      <th>class</th>\n",
       "      <th>topic</th>\n",
       "      <th>data_value_unit</th>\n",
       "      <th>data_value_type</th>\n",
       "      <th>data_value_footnote_symbol</th>\n",
       "      <th>...</th>\n",
       "      <th>stratification1</th>\n",
       "      <th>stratificationcategory2</th>\n",
       "      <th>stratification2</th>\n",
       "      <th>topicid</th>\n",
       "      <th>locationid</th>\n",
       "      <th>:@computed_region_he4y_prf8</th>\n",
       "      <th>:@computed_region_bxsw_vy29</th>\n",
       "      <th>location_1.latitude</th>\n",
       "      <th>location_1.longitude</th>\n",
       "      <th>data_value</th>\n",
       "    </tr>\n",
       "  </thead>\n",
       "  <tbody>\n",
       "    <tr>\n",
       "      <th>0</th>\n",
       "      <td>2013</td>\n",
       "      <td>AK</td>\n",
       "      <td>Aleutians East</td>\n",
       "      <td>County</td>\n",
       "      <td>NVSS</td>\n",
       "      <td>Cardiovascular Diseases</td>\n",
       "      <td>Stroke Mortality</td>\n",
       "      <td>per 100,000 population</td>\n",
       "      <td>Age-adjusted, Spatially Smoothed, 3-year Avera...</td>\n",
       "      <td>~</td>\n",
       "      <td>...</td>\n",
       "      <td>Overall</td>\n",
       "      <td>Race/Ethnicity</td>\n",
       "      <td>Overall</td>\n",
       "      <td>T6</td>\n",
       "      <td>02013</td>\n",
       "      <td>107</td>\n",
       "      <td>51</td>\n",
       "      <td>55.440626</td>\n",
       "      <td>-161.962562</td>\n",
       "      <td>NaN</td>\n",
       "    </tr>\n",
       "  </tbody>\n",
       "</table>\n",
       "<p>1 rows × 22 columns</p>\n",
       "</div>"
      ],
      "text/plain": [
       "   year locationabbr    locationdesc geographiclevel datasource  \\\n",
       "0  2013           AK  Aleutians East          County       NVSS   \n",
       "\n",
       "                     class             topic         data_value_unit  \\\n",
       "0  Cardiovascular Diseases  Stroke Mortality  per 100,000 population   \n",
       "\n",
       "                                     data_value_type  \\\n",
       "0  Age-adjusted, Spatially Smoothed, 3-year Avera...   \n",
       "\n",
       "  data_value_footnote_symbol  ... stratification1 stratificationcategory2  \\\n",
       "0                          ~  ...         Overall          Race/Ethnicity   \n",
       "\n",
       "  stratification2 topicid locationid :@computed_region_he4y_prf8  \\\n",
       "0         Overall      T6      02013                         107   \n",
       "\n",
       "  :@computed_region_bxsw_vy29 location_1.latitude location_1.longitude  \\\n",
       "0                          51           55.440626          -161.962562   \n",
       "\n",
       "  data_value  \n",
       "0        NaN  \n",
       "\n",
       "[1 rows x 22 columns]"
      ]
     },
     "execution_count": 140,
     "metadata": {
      "tags": []
     },
     "output_type": "execute_result"
    }
   ],
   "source": []
  },
  {
   "cell_type": "code",
   "execution_count": null,
   "metadata": {
    "colab": {},
    "colab_type": "code",
    "id": "U-8b2W4Vnaq8"
   },
   "outputs": [],
   "source": []
  },
  {
   "cell_type": "code",
   "execution_count": null,
   "metadata": {
    "colab": {},
    "colab_type": "code",
    "id": "8XbPkgRvnaXZ"
   },
   "outputs": [],
   "source": []
  },
  {
   "cell_type": "code",
   "execution_count": null,
   "metadata": {
    "colab": {
     "base_uri": "https://localhost:8080/",
     "height": 204
    },
    "colab_type": "code",
    "id": "FFKf6pmpTtS9",
    "outputId": "a34d8668-713e-435f-f0c9-0c83a2ef92be"
   },
   "outputs": [
    {
     "data": {
      "text/html": [
       "<div>\n",
       "<style scoped>\n",
       "    .dataframe tbody tr th:only-of-type {\n",
       "        vertical-align: middle;\n",
       "    }\n",
       "\n",
       "    .dataframe tbody tr th {\n",
       "        vertical-align: top;\n",
       "    }\n",
       "\n",
       "    .dataframe thead th {\n",
       "        text-align: right;\n",
       "    }\n",
       "</style>\n",
       "<table border=\"1\" class=\"dataframe\">\n",
       "  <thead>\n",
       "    <tr style=\"text-align: right;\">\n",
       "      <th></th>\n",
       "      <th>locationID</th>\n",
       "      <th>state</th>\n",
       "      <th>county</th>\n",
       "      <th>lat</th>\n",
       "      <th>lon</th>\n",
       "      <th>class</th>\n",
       "      <th>topic</th>\n",
       "      <th>param1</th>\n",
       "      <th>param1sub</th>\n",
       "      <th>param2</th>\n",
       "      <th>param2sub</th>\n",
       "      <th>year</th>\n",
       "      <th>data_value</th>\n",
       "      <th>data_value_unit</th>\n",
       "    </tr>\n",
       "  </thead>\n",
       "  <tbody>\n",
       "    <tr>\n",
       "      <th>0</th>\n",
       "      <td>02013</td>\n",
       "      <td>AK</td>\n",
       "      <td>Aleutians East</td>\n",
       "      <td>55.440626</td>\n",
       "      <td>-161.962562</td>\n",
       "      <td>Cardiovascular Diseases</td>\n",
       "      <td>Stroke Mortality</td>\n",
       "      <td>Gender</td>\n",
       "      <td>Overall</td>\n",
       "      <td>Race/Ethnicity</td>\n",
       "      <td>Overall</td>\n",
       "      <td>2013</td>\n",
       "      <td></td>\n",
       "      <td>per 100,000 population</td>\n",
       "    </tr>\n",
       "    <tr>\n",
       "      <th>1</th>\n",
       "      <td>02016</td>\n",
       "      <td>AK</td>\n",
       "      <td>Aleutians West</td>\n",
       "      <td>52.995403</td>\n",
       "      <td>-170.251538</td>\n",
       "      <td>Cardiovascular Diseases</td>\n",
       "      <td>Stroke Mortality</td>\n",
       "      <td>Gender</td>\n",
       "      <td>Overall</td>\n",
       "      <td>Race/Ethnicity</td>\n",
       "      <td>Overall</td>\n",
       "      <td>2013</td>\n",
       "      <td></td>\n",
       "      <td>per 100,000 population</td>\n",
       "    </tr>\n",
       "    <tr>\n",
       "      <th>2</th>\n",
       "      <td>02020</td>\n",
       "      <td>AK</td>\n",
       "      <td>Anchorage</td>\n",
       "      <td>61.159049</td>\n",
       "      <td>-149.103905</td>\n",
       "      <td>Cardiovascular Diseases</td>\n",
       "      <td>Stroke Mortality</td>\n",
       "      <td>Gender</td>\n",
       "      <td>Overall</td>\n",
       "      <td>Race/Ethnicity</td>\n",
       "      <td>Overall</td>\n",
       "      <td>2013</td>\n",
       "      <td>70.7</td>\n",
       "      <td>per 100,000 population</td>\n",
       "    </tr>\n",
       "    <tr>\n",
       "      <th>3</th>\n",
       "      <td>02050</td>\n",
       "      <td>AK</td>\n",
       "      <td>Bethel</td>\n",
       "      <td>60.924483</td>\n",
       "      <td>-159.749655</td>\n",
       "      <td>Cardiovascular Diseases</td>\n",
       "      <td>Stroke Mortality</td>\n",
       "      <td>Gender</td>\n",
       "      <td>Overall</td>\n",
       "      <td>Race/Ethnicity</td>\n",
       "      <td>Overall</td>\n",
       "      <td>2013</td>\n",
       "      <td>95</td>\n",
       "      <td>per 100,000 population</td>\n",
       "    </tr>\n",
       "    <tr>\n",
       "      <th>4</th>\n",
       "      <td>02060</td>\n",
       "      <td>AK</td>\n",
       "      <td>Bristol Bay</td>\n",
       "      <td>58.754192</td>\n",
       "      <td>-156.694709</td>\n",
       "      <td>Cardiovascular Diseases</td>\n",
       "      <td>Stroke Mortality</td>\n",
       "      <td>Gender</td>\n",
       "      <td>Overall</td>\n",
       "      <td>Race/Ethnicity</td>\n",
       "      <td>Overall</td>\n",
       "      <td>2013</td>\n",
       "      <td></td>\n",
       "      <td>per 100,000 population</td>\n",
       "    </tr>\n",
       "  </tbody>\n",
       "</table>\n",
       "</div>"
      ],
      "text/plain": [
       "  locationID state          county        lat         lon  \\\n",
       "0      02013    AK  Aleutians East  55.440626 -161.962562   \n",
       "1      02016    AK  Aleutians West  52.995403 -170.251538   \n",
       "2      02020    AK       Anchorage  61.159049 -149.103905   \n",
       "3      02050    AK          Bethel  60.924483 -159.749655   \n",
       "4      02060    AK     Bristol Bay  58.754192 -156.694709   \n",
       "\n",
       "                     class             topic  param1 param1sub  \\\n",
       "0  Cardiovascular Diseases  Stroke Mortality  Gender   Overall   \n",
       "1  Cardiovascular Diseases  Stroke Mortality  Gender   Overall   \n",
       "2  Cardiovascular Diseases  Stroke Mortality  Gender   Overall   \n",
       "3  Cardiovascular Diseases  Stroke Mortality  Gender   Overall   \n",
       "4  Cardiovascular Diseases  Stroke Mortality  Gender   Overall   \n",
       "\n",
       "           param2 param2sub  year data_value         data_value_unit  \n",
       "0  Race/Ethnicity   Overall  2013             per 100,000 population  \n",
       "1  Race/Ethnicity   Overall  2013             per 100,000 population  \n",
       "2  Race/Ethnicity   Overall  2013       70.7  per 100,000 population  \n",
       "3  Race/Ethnicity   Overall  2013         95  per 100,000 population  \n",
       "4  Race/Ethnicity   Overall  2013             per 100,000 population  "
      ]
     },
     "execution_count": 143,
     "metadata": {
      "tags": []
     },
     "output_type": "execute_result"
    }
   ],
   "source": []
  },
  {
   "cell_type": "code",
   "execution_count": null,
   "metadata": {
    "colab": {
     "base_uri": "https://localhost:8080/",
     "height": 126
    },
    "colab_type": "code",
    "id": "ek6bmmN7naBD",
    "outputId": "7478ad87-7ca1-4d15-f15b-4e4fb4696b63"
   },
   "outputs": [
    {
     "data": {
      "text/html": [
       "<div>\n",
       "<style scoped>\n",
       "    .dataframe tbody tr th:only-of-type {\n",
       "        vertical-align: middle;\n",
       "    }\n",
       "\n",
       "    .dataframe tbody tr th {\n",
       "        vertical-align: top;\n",
       "    }\n",
       "\n",
       "    .dataframe thead th {\n",
       "        text-align: right;\n",
       "    }\n",
       "</style>\n",
       "<table border=\"1\" class=\"dataframe\">\n",
       "  <thead>\n",
       "    <tr style=\"text-align: right;\">\n",
       "      <th></th>\n",
       "      <th>locationID</th>\n",
       "      <th>state</th>\n",
       "      <th>county_2017</th>\n",
       "      <th>lat</th>\n",
       "      <th>lon</th>\n",
       "      <th>class</th>\n",
       "      <th>topic</th>\n",
       "      <th>param1</th>\n",
       "      <th>param1sub</th>\n",
       "      <th>param2</th>\n",
       "      <th>...</th>\n",
       "      <th>2017</th>\n",
       "      <th>county_2016</th>\n",
       "      <th>2016</th>\n",
       "      <th>county</th>\n",
       "      <th>lat_2015</th>\n",
       "      <th>lon_2015</th>\n",
       "      <th>2015</th>\n",
       "      <th>county_2013</th>\n",
       "      <th>2013</th>\n",
       "      <th>data_value_unit</th>\n",
       "    </tr>\n",
       "  </thead>\n",
       "  <tbody>\n",
       "    <tr>\n",
       "      <th>0</th>\n",
       "      <td>02013</td>\n",
       "      <td>AK</td>\n",
       "      <td>Aleutians East</td>\n",
       "      <td>55.442393</td>\n",
       "      <td>-161.95993</td>\n",
       "      <td>Cardiovascular Diseases</td>\n",
       "      <td>Stroke Mortality</td>\n",
       "      <td>Gender</td>\n",
       "      <td>Overall</td>\n",
       "      <td>Race/Ethnicity</td>\n",
       "      <td>...</td>\n",
       "      <td>2</td>\n",
       "      <td>Aleutians East</td>\n",
       "      <td>2</td>\n",
       "      <td>Aleutians East</td>\n",
       "      <td>55.440626</td>\n",
       "      <td>-161.962562</td>\n",
       "      <td>3</td>\n",
       "      <td>Aleutians East</td>\n",
       "      <td>66.7</td>\n",
       "      <td>per 100,000 population</td>\n",
       "    </tr>\n",
       "  </tbody>\n",
       "</table>\n",
       "<p>1 rows × 21 columns</p>\n",
       "</div>"
      ],
      "text/plain": [
       "  locationID state     county_2017        lat        lon  \\\n",
       "0      02013    AK  Aleutians East  55.442393 -161.95993   \n",
       "\n",
       "                     class             topic  param1 param1sub  \\\n",
       "0  Cardiovascular Diseases  Stroke Mortality  Gender   Overall   \n",
       "\n",
       "           param2  ... 2017     county_2016 2016          county   lat_2015  \\\n",
       "0  Race/Ethnicity  ...    2  Aleutians East    2  Aleutians East  55.440626   \n",
       "\n",
       "     lon_2015  2015     county_2013  2013         data_value_unit  \n",
       "0 -161.962562     3  Aleutians East  66.7  per 100,000 population  \n",
       "\n",
       "[1 rows x 21 columns]"
      ]
     },
     "execution_count": 146,
     "metadata": {
      "tags": []
     },
     "output_type": "execute_result"
    }
   ],
   "source": []
  },
  {
   "cell_type": "code",
   "execution_count": null,
   "metadata": {
    "colab": {
     "base_uri": "https://localhost:8080/",
     "height": 391
    },
    "colab_type": "code",
    "id": "-a94wLbLooy_",
    "outputId": "0e20df5c-7aaa-48b1-8c9b-cf184ed4aa79"
   },
   "outputs": [
    {
     "data": {
      "text/plain": [
       "locationID         59076\n",
       "state              59076\n",
       "county_2017        58968\n",
       "lat                58950\n",
       "lon                58950\n",
       "class              59076\n",
       "topic              59076\n",
       "param1             59076\n",
       "param1sub          59076\n",
       "param2             59076\n",
       "param2sub          59076\n",
       "2017               58968\n",
       "county_2016        58968\n",
       "2016               58968\n",
       "county             59076\n",
       "lat_2015           59058\n",
       "lon_2015           59058\n",
       "2015               59076\n",
       "county_2013        59076\n",
       "2013               59076\n",
       "data_value_unit    59076\n",
       "dtype: int64"
      ]
     },
     "execution_count": 147,
     "metadata": {
      "tags": []
     },
     "output_type": "execute_result"
    }
   ],
   "source": []
  },
  {
   "cell_type": "code",
   "execution_count": null,
   "metadata": {
    "colab": {
     "base_uri": "https://localhost:8080/",
     "height": 122
    },
    "colab_type": "code",
    "id": "vIV9hq0iVo-4",
    "outputId": "8a0e17b6-ee25-4e23-9f58-a361872884d6"
   },
   "outputs": [
    {
     "name": "stdout",
     "output_type": "stream",
     "text": [
      "Go to this URL in a browser: https://accounts.google.com/o/oauth2/auth?client_id=947318989803-6bn6qk8qdgf4n4g3pfee6491hc0brc4i.apps.googleusercontent.com&redirect_uri=urn%3aietf%3awg%3aoauth%3a2.0%3aoob&scope=email%20https%3a%2f%2fwww.googleapis.com%2fauth%2fdocs.test%20https%3a%2f%2fwww.googleapis.com%2fauth%2fdrive%20https%3a%2f%2fwww.googleapis.com%2fauth%2fdrive.photos.readonly%20https%3a%2f%2fwww.googleapis.com%2fauth%2fpeopleapi.readonly&response_type=code\n",
      "\n",
      "Enter your authorization code:\n",
      "··········\n",
      "Mounted at /content/drive\n"
     ]
    }
   ],
   "source": []
  },
  {
   "cell_type": "code",
   "execution_count": null,
   "metadata": {
    "colab": {},
    "colab_type": "code",
    "id": "V1QrMU1nZtb9"
   },
   "outputs": [],
   "source": []
  },
  {
   "cell_type": "code",
   "execution_count": null,
   "metadata": {
    "colab": {},
    "colab_type": "code",
    "id": "37r4h_lqZtcA"
   },
   "outputs": [],
   "source": []
  },
  {
   "cell_type": "code",
   "execution_count": null,
   "metadata": {
    "colab": {},
    "colab_type": "code",
    "id": "ZxIKYRgKZtcD"
   },
   "outputs": [],
   "source": []
  },
  {
   "cell_type": "code",
   "execution_count": null,
   "metadata": {
    "colab": {},
    "colab_type": "code",
    "id": "aufuKPvJZtcG"
   },
   "outputs": [],
   "source": []
  },
  {
   "cell_type": "code",
   "execution_count": null,
   "metadata": {
    "colab": {},
    "colab_type": "code",
    "id": "sCQHt2VBZtcI"
   },
   "outputs": [],
   "source": []
  }
 ],
 "metadata": {
  "colab": {
   "collapsed_sections": [],
   "name": "dataDesign.ipynb",
   "provenance": []
  },
  "kernelspec": {
   "display_name": "Python 3",
   "language": "python",
   "name": "python3"
  },
  "language_info": {
   "codemirror_mode": {
    "name": "ipython",
    "version": 3
   },
   "file_extension": ".py",
   "mimetype": "text/x-python",
   "name": "python",
   "nbconvert_exporter": "python",
   "pygments_lexer": "ipython3",
   "version": "3.7.3"
  }
 },
 "nbformat": 4,
 "nbformat_minor": 1
}
