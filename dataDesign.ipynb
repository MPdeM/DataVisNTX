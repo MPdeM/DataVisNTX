{
  "nbformat": 4,
  "nbformat_minor": 0,
  "metadata": {
    "kernelspec": {
      "display_name": "Python 3",
      "language": "python",
      "name": "python3"
    },
    "language_info": {
      "codemirror_mode": {
        "name": "ipython",
        "version": 3
      },
      "file_extension": ".py",
      "mimetype": "text/x-python",
      "name": "python",
      "nbconvert_exporter": "python",
      "pygments_lexer": "ipython3",
      "version": "3.7.3"
    },
    "colab": {
      "name": "dataDesign.ipynb",
      "provenance": [],
      "collapsed_sections": []
    }
  },
  "cells": [
    {
      "cell_type": "markdown",
      "metadata": {
        "id": "iUaNRmYzxKcy",
        "colab_type": "text"
      },
      "source": [
        "## ETL \n",
        "Data for stroke deaths is extracted from CDC open data ( https://www.cdc.gov/dhdsp/maps/atlas/data-sources.html)\n",
        "The source of Stroke Mortality data among Adults (35+) by State/Territory and County is the NVSS Deaths National Vital Statistics System. Bridged-Race Postcensal Population Estimates from National Center for Health Statistics. For the mortality the total number follows  International Classification of Diseases, 10th Revision (ICD-10) codes All Stroke: I60-I69; underlying cause of death and includes Ischemic (I63, I65-I66)  and Hemorrhagic (I60-I62). "
      ]
    },
    {
      "cell_type": "code",
      "metadata": {
        "scrolled": true,
        "id": "J_zeRJKLZtbZ",
        "colab_type": "code",
        "colab": {
          "base_uri": "https://localhost:8080/",
          "height": 190
        },
        "outputId": "1d5053c9-d4d8-4d81-b63e-a08344f53fcb"
      },
      "source": [
        "# make sure to install this package before running:\n",
        "# python -m pip install --upgrade pip\n",
        "!pip install sodapy"
      ],
      "execution_count": 1,
      "outputs": [
        {
          "output_type": "stream",
          "text": [
            "Collecting sodapy\n",
            "  Downloading https://files.pythonhosted.org/packages/9e/74/95fb7d45bbe7f1de43caac45d7dd4807ef1e15881564a00eef489a3bb5c6/sodapy-2.1.0-py2.py3-none-any.whl\n",
            "Requirement already satisfied: requests>=2.20.0 in /usr/local/lib/python3.6/dist-packages (from sodapy) (2.23.0)\n",
            "Requirement already satisfied: certifi>=2017.4.17 in /usr/local/lib/python3.6/dist-packages (from requests>=2.20.0->sodapy) (2020.6.20)\n",
            "Requirement already satisfied: chardet<4,>=3.0.2 in /usr/local/lib/python3.6/dist-packages (from requests>=2.20.0->sodapy) (3.0.4)\n",
            "Requirement already satisfied: urllib3!=1.25.0,!=1.25.1,<1.26,>=1.21.1 in /usr/local/lib/python3.6/dist-packages (from requests>=2.20.0->sodapy) (1.24.3)\n",
            "Requirement already satisfied: idna<3,>=2.5 in /usr/local/lib/python3.6/dist-packages (from requests>=2.20.0->sodapy) (2.10)\n",
            "Installing collected packages: sodapy\n",
            "Successfully installed sodapy-2.1.0\n"
          ],
          "name": "stdout"
        }
      ]
    },
    {
      "cell_type": "code",
      "metadata": {
        "id": "hfUjuXLlZtbf",
        "colab_type": "code",
        "colab": {
          "base_uri": "https://localhost:8080/",
          "height": 71
        },
        "outputId": "d9867e98-1ac3-4d9a-c3f8-da83227f061f"
      },
      "source": [
        "import pandas as pd\n",
        "pd.set_option('display.max_columns', 30)\n",
        "import numpy as np\n",
        "import seaborn as sns\n",
        "import warnings\n",
        "warnings.filterwarnings(\"ignore\")\n",
        "\n",
        "from sodapy import Socrata"
      ],
      "execution_count": 2,
      "outputs": [
        {
          "output_type": "stream",
          "text": [
            "/usr/local/lib/python3.6/dist-packages/statsmodels/tools/_testing.py:19: FutureWarning: pandas.util.testing is deprecated. Use the functions in the public API at pandas.testing instead.\n",
            "  import pandas.util.testing as tm\n"
          ],
          "name": "stderr"
        }
      ]
    },
    {
      "cell_type": "code",
      "metadata": {
        "id": "NaWtMr0fZtbi",
        "colab_type": "code",
        "colab": {}
      },
      "source": [
        "# data\n",
        "# data = \"assets/data/Stroke_Mortality_Data_Among_US_Adults__35___by_State_Territory_and_County___2016-2018.csv\"\n",
        "\n",
        "# The Host Name for the API endpoint (the https:// part will be added automatically)\n",
        "data_url='chronicdata.cdc.gov'\n",
        "# The app token created in the prior steps\n",
        "MyAppToken='px7JjOQLMt0zT2f5o7utbLBcj'\n",
        "username=\"mpmarinkovic@gmail.com\"\n",
        "password=\"!00Hagase\"\n",
        "\n",
        "# The data set at the API endpoint \n",
        "\n",
        "data_set_lib = [\"tqwu-4a7k\",'v246-z5tb','kgsi-35re', 'kpwh-eddm ','dhsy-4sea']\n",
        "\n",
        "data_set=\"tqwu-4a7k\" \n",
        "# Create the client to point to the API endpoint\n",
        "client = Socrata(data_url,\n",
        "                 MyAppToken,\n",
        "                 username=username,\n",
        "                 password=password)\n",
        "\n",
        "     \n",
        "# Set the timeout to 60 seconds    \n",
        "client.timeout = 60\n"
      ],
      "execution_count": 69,
      "outputs": []
    },
    {
      "cell_type": "code",
      "metadata": {
        "id": "x5JsJysqa8Ll",
        "colab_type": "code",
        "colab": {
          "base_uri": "https://localhost:8080/",
          "height": 357
        },
        "outputId": "b1e6f4d2-e19d-4970-cab6-99103960e97e"
      },
      "source": [
        "# Get metadata about the target data set\n",
        "metadata = client.get_metadata(data_set)\n",
        "[x['name'] for x in metadata['columns']]"
      ],
      "execution_count": 70,
      "outputs": [
        {
          "output_type": "execute_result",
          "data": {
            "text/plain": [
              "['Year',\n",
              " 'LocationAbbr',\n",
              " 'LocationDesc',\n",
              " 'GeographicLevel',\n",
              " 'DataSource',\n",
              " 'Class',\n",
              " 'Topic',\n",
              " 'Data_Value',\n",
              " 'Data_Value_Unit',\n",
              " 'Data_Value_Type',\n",
              " 'Data_Value_Footnote_Symbol',\n",
              " 'Data_Value_Footnote',\n",
              " 'StratificationCategory1',\n",
              " 'Stratification1',\n",
              " 'StratificationCategory2',\n",
              " 'Stratification2',\n",
              " 'TopicID',\n",
              " 'LocationID',\n",
              " 'Y_lat',\n",
              " 'X_lon']"
            ]
          },
          "metadata": {
            "tags": []
          },
          "execution_count": 70
        }
      ]
    },
    {
      "cell_type": "code",
      "metadata": {
        "id": "0V1r_CvddKZY",
        "colab_type": "code",
        "colab": {}
      },
      "source": [
        "# The SoDaPy library converts this JSON object to a Python list of dictionaries\n",
        "# SODA APIs are paged, and return a maximum of 50,000 records per page\n",
        "# good practice to split up the request into multiple smaller queries \n",
        "\n",
        "# Get the total number of records in our target data set\n",
        "record_count = client.get(data_set, select=\"COUNT(*)\")\n",
        "record_count\n",
        "# while loop to fectch the record_limit during each iteration\n",
        "start = 0             # Start at 0\n",
        "record_limit = 10000     # Fetch 2000 rows at a time\n",
        "results =[]           # Empty out our result list\n",
        "while True:\n",
        "     # Fetch the set of records starting at 'start'\n",
        "     results.extend( client.get(data_set, offset=start, limit=record_limit))\n",
        "     # Move up the starting record\n",
        "     start = start + record_limit\n",
        "     # If we have fetched all of the records, bail out\n",
        "     if (start > int(record_count[0]['COUNT']) ):\n",
        "        break\n"
      ],
      "execution_count": 71,
      "outputs": []
    },
    {
      "cell_type": "code",
      "metadata": {
        "id": "ATqWNoFCKYe9",
        "colab_type": "code",
        "colab": {
          "base_uri": "https://localhost:8080/",
          "height": 479
        },
        "outputId": "af5d825d-723c-4678-a31a-f8c82bbc2517"
      },
      "source": [
        "# Convert the list of dictionaries to a Pandas data frame\n",
        "# data_df = pd.DataFrame.from_records(results, coerce_float=True)\n",
        "data_df = pd.DataFrame.from_records(results)\n",
        "\n",
        "data_df.head(5)"
      ],
      "execution_count": 72,
      "outputs": [
        {
          "output_type": "execute_result",
          "data": {
            "text/html": [
              "<div>\n",
              "<style scoped>\n",
              "    .dataframe tbody tr th:only-of-type {\n",
              "        vertical-align: middle;\n",
              "    }\n",
              "\n",
              "    .dataframe tbody tr th {\n",
              "        vertical-align: top;\n",
              "    }\n",
              "\n",
              "    .dataframe thead th {\n",
              "        text-align: right;\n",
              "    }\n",
              "</style>\n",
              "<table border=\"1\" class=\"dataframe\">\n",
              "  <thead>\n",
              "    <tr style=\"text-align: right;\">\n",
              "      <th></th>\n",
              "      <th>year</th>\n",
              "      <th>locationabbr</th>\n",
              "      <th>locationdesc</th>\n",
              "      <th>geographiclevel</th>\n",
              "      <th>datasource</th>\n",
              "      <th>class</th>\n",
              "      <th>topic</th>\n",
              "      <th>data_value</th>\n",
              "      <th>data_value_unit</th>\n",
              "      <th>data_value_type</th>\n",
              "      <th>stratificationcategory1</th>\n",
              "      <th>stratification1</th>\n",
              "      <th>stratificationcategory2</th>\n",
              "      <th>stratification2</th>\n",
              "      <th>topicid</th>\n",
              "      <th>locationid</th>\n",
              "      <th>y_lat</th>\n",
              "      <th>x_lon</th>\n",
              "      <th>data_value_footnote_symbol</th>\n",
              "      <th>data_value_footnote</th>\n",
              "    </tr>\n",
              "  </thead>\n",
              "  <tbody>\n",
              "    <tr>\n",
              "      <th>0</th>\n",
              "      <td>2017</td>\n",
              "      <td>AK</td>\n",
              "      <td>Aleutians East</td>\n",
              "      <td>County</td>\n",
              "      <td>NVSS</td>\n",
              "      <td>Cardiovascular Diseases</td>\n",
              "      <td>Stroke Mortality</td>\n",
              "      <td>2</td>\n",
              "      <td>per 100,000 population</td>\n",
              "      <td>Age-adjusted, Spatially Smoothed, 3-year Avera...</td>\n",
              "      <td>Gender</td>\n",
              "      <td>Overall</td>\n",
              "      <td>Race/Ethnicity</td>\n",
              "      <td>Overall</td>\n",
              "      <td>T6</td>\n",
              "      <td>02013</td>\n",
              "      <td>55.442393334</td>\n",
              "      <td>-161.9599296</td>\n",
              "      <td>NaN</td>\n",
              "      <td>NaN</td>\n",
              "    </tr>\n",
              "    <tr>\n",
              "      <th>1</th>\n",
              "      <td>2017</td>\n",
              "      <td>AK</td>\n",
              "      <td>Aleutians West</td>\n",
              "      <td>County</td>\n",
              "      <td>NVSS</td>\n",
              "      <td>Cardiovascular Diseases</td>\n",
              "      <td>Stroke Mortality</td>\n",
              "      <td>0</td>\n",
              "      <td>per 100,000 population</td>\n",
              "      <td>Age-adjusted, Spatially Smoothed, 3-year Avera...</td>\n",
              "      <td>Gender</td>\n",
              "      <td>Overall</td>\n",
              "      <td>Race/Ethnicity</td>\n",
              "      <td>Overall</td>\n",
              "      <td>T6</td>\n",
              "      <td>02016</td>\n",
              "      <td>53.648343064</td>\n",
              "      <td>-166.9175329</td>\n",
              "      <td>NaN</td>\n",
              "      <td>NaN</td>\n",
              "    </tr>\n",
              "    <tr>\n",
              "      <th>2</th>\n",
              "      <td>2017</td>\n",
              "      <td>AK</td>\n",
              "      <td>Anchorage</td>\n",
              "      <td>County</td>\n",
              "      <td>NVSS</td>\n",
              "      <td>Cardiovascular Diseases</td>\n",
              "      <td>Stroke Mortality</td>\n",
              "      <td>67.2</td>\n",
              "      <td>per 100,000 population</td>\n",
              "      <td>Age-adjusted, Spatially Smoothed, 3-year Avera...</td>\n",
              "      <td>Gender</td>\n",
              "      <td>Overall</td>\n",
              "      <td>Race/Ethnicity</td>\n",
              "      <td>Overall</td>\n",
              "      <td>T6</td>\n",
              "      <td>02020</td>\n",
              "      <td>61.159144533</td>\n",
              "      <td>-149.1045591</td>\n",
              "      <td>NaN</td>\n",
              "      <td>NaN</td>\n",
              "    </tr>\n",
              "    <tr>\n",
              "      <th>3</th>\n",
              "      <td>2017</td>\n",
              "      <td>AK</td>\n",
              "      <td>Bethel</td>\n",
              "      <td>County</td>\n",
              "      <td>NVSS</td>\n",
              "      <td>Cardiovascular Diseases</td>\n",
              "      <td>Stroke Mortality</td>\n",
              "      <td>104.6</td>\n",
              "      <td>per 100,000 population</td>\n",
              "      <td>Age-adjusted, Spatially Smoothed, 3-year Avera...</td>\n",
              "      <td>Gender</td>\n",
              "      <td>Overall</td>\n",
              "      <td>Race/Ethnicity</td>\n",
              "      <td>Overall</td>\n",
              "      <td>T6</td>\n",
              "      <td>02050</td>\n",
              "      <td>60.923647647</td>\n",
              "      <td>-159.7532618</td>\n",
              "      <td>NaN</td>\n",
              "      <td>NaN</td>\n",
              "    </tr>\n",
              "    <tr>\n",
              "      <th>4</th>\n",
              "      <td>2017</td>\n",
              "      <td>AK</td>\n",
              "      <td>Bristol Bay</td>\n",
              "      <td>County</td>\n",
              "      <td>NVSS</td>\n",
              "      <td>Cardiovascular Diseases</td>\n",
              "      <td>Stroke Mortality</td>\n",
              "      <td>NaN</td>\n",
              "      <td>per 100,000 population</td>\n",
              "      <td>Age-adjusted, Spatially Smoothed, 3-year Avera...</td>\n",
              "      <td>Gender</td>\n",
              "      <td>Overall</td>\n",
              "      <td>Race/Ethnicity</td>\n",
              "      <td>Overall</td>\n",
              "      <td>T6</td>\n",
              "      <td>02060</td>\n",
              "      <td>58.753495988</td>\n",
              "      <td>-156.694662</td>\n",
              "      <td>~</td>\n",
              "      <td>Insufficient Data</td>\n",
              "    </tr>\n",
              "  </tbody>\n",
              "</table>\n",
              "</div>"
            ],
            "text/plain": [
              "   year locationabbr    locationdesc geographiclevel datasource  \\\n",
              "0  2017           AK  Aleutians East          County       NVSS   \n",
              "1  2017           AK  Aleutians West          County       NVSS   \n",
              "2  2017           AK       Anchorage          County       NVSS   \n",
              "3  2017           AK          Bethel          County       NVSS   \n",
              "4  2017           AK     Bristol Bay          County       NVSS   \n",
              "\n",
              "                     class             topic data_value  \\\n",
              "0  Cardiovascular Diseases  Stroke Mortality          2   \n",
              "1  Cardiovascular Diseases  Stroke Mortality          0   \n",
              "2  Cardiovascular Diseases  Stroke Mortality       67.2   \n",
              "3  Cardiovascular Diseases  Stroke Mortality      104.6   \n",
              "4  Cardiovascular Diseases  Stroke Mortality        NaN   \n",
              "\n",
              "          data_value_unit                                    data_value_type  \\\n",
              "0  per 100,000 population  Age-adjusted, Spatially Smoothed, 3-year Avera...   \n",
              "1  per 100,000 population  Age-adjusted, Spatially Smoothed, 3-year Avera...   \n",
              "2  per 100,000 population  Age-adjusted, Spatially Smoothed, 3-year Avera...   \n",
              "3  per 100,000 population  Age-adjusted, Spatially Smoothed, 3-year Avera...   \n",
              "4  per 100,000 population  Age-adjusted, Spatially Smoothed, 3-year Avera...   \n",
              "\n",
              "  stratificationcategory1 stratification1 stratificationcategory2  \\\n",
              "0                  Gender         Overall          Race/Ethnicity   \n",
              "1                  Gender         Overall          Race/Ethnicity   \n",
              "2                  Gender         Overall          Race/Ethnicity   \n",
              "3                  Gender         Overall          Race/Ethnicity   \n",
              "4                  Gender         Overall          Race/Ethnicity   \n",
              "\n",
              "  stratification2 topicid locationid         y_lat         x_lon  \\\n",
              "0         Overall      T6      02013  55.442393334  -161.9599296   \n",
              "1         Overall      T6      02016  53.648343064  -166.9175329   \n",
              "2         Overall      T6      02020  61.159144533  -149.1045591   \n",
              "3         Overall      T6      02050  60.923647647  -159.7532618   \n",
              "4         Overall      T6      02060  58.753495988   -156.694662   \n",
              "\n",
              "  data_value_footnote_symbol data_value_footnote  \n",
              "0                        NaN                 NaN  \n",
              "1                        NaN                 NaN  \n",
              "2                        NaN                 NaN  \n",
              "3                        NaN                 NaN  \n",
              "4                          ~   Insufficient Data  "
            ]
          },
          "metadata": {
            "tags": []
          },
          "execution_count": 72
        }
      ]
    },
    {
      "cell_type": "code",
      "metadata": {
        "id": "f1gFXlTzPLGU",
        "colab_type": "code",
        "colab": {
          "base_uri": "https://localhost:8080/",
          "height": 374
        },
        "outputId": "ffcea0d9-9e32-4961-abd9-bb8135c85006"
      },
      "source": [
        "# Check datacounts\n",
        "data_df.count()"
      ],
      "execution_count": 73,
      "outputs": [
        {
          "output_type": "execute_result",
          "data": {
            "text/plain": [
              "year                          59094\n",
              "locationabbr                  59094\n",
              "locationdesc                  59094\n",
              "geographiclevel               59094\n",
              "datasource                    59094\n",
              "class                         59094\n",
              "topic                         59094\n",
              "data_value                    28095\n",
              "data_value_unit               59094\n",
              "data_value_type               59094\n",
              "stratificationcategory1       59094\n",
              "stratification1               59094\n",
              "stratificationcategory2       59094\n",
              "stratification2               59094\n",
              "topicid                       59094\n",
              "locationid                    59094\n",
              "y_lat                         59076\n",
              "x_lon                         59076\n",
              "data_value_footnote_symbol    30999\n",
              "data_value_footnote           30999\n",
              "dtype: int64"
            ]
          },
          "metadata": {
            "tags": []
          },
          "execution_count": 73
        }
      ]
    },
    {
      "cell_type": "code",
      "metadata": {
        "scrolled": true,
        "id": "nTWui3eLZtbl",
        "colab_type": "code",
        "colab": {
          "base_uri": "https://localhost:8080/",
          "height": 374
        },
        "outputId": "90da8286-52f7-4307-aa0c-ca092a6e020d"
      },
      "source": [
        "# Check datatypes\n",
        "data_df.dtypes"
      ],
      "execution_count": 74,
      "outputs": [
        {
          "output_type": "execute_result",
          "data": {
            "text/plain": [
              "year                          object\n",
              "locationabbr                  object\n",
              "locationdesc                  object\n",
              "geographiclevel               object\n",
              "datasource                    object\n",
              "class                         object\n",
              "topic                         object\n",
              "data_value                    object\n",
              "data_value_unit               object\n",
              "data_value_type               object\n",
              "stratificationcategory1       object\n",
              "stratification1               object\n",
              "stratificationcategory2       object\n",
              "stratification2               object\n",
              "topicid                       object\n",
              "locationid                    object\n",
              "y_lat                         object\n",
              "x_lon                         object\n",
              "data_value_footnote_symbol    object\n",
              "data_value_footnote           object\n",
              "dtype: object"
            ]
          },
          "metadata": {
            "tags": []
          },
          "execution_count": 74
        }
      ]
    },
    {
      "cell_type": "code",
      "metadata": {
        "id": "N5JMAQIzr53K",
        "colab_type": "code",
        "colab": {}
      },
      "source": [
        "# client.close()"
      ],
      "execution_count": 75,
      "outputs": []
    },
    {
      "cell_type": "code",
      "metadata": {
        "id": "bmBqPOQ7qDLe",
        "colab_type": "code",
        "colab": {
          "base_uri": "https://localhost:8080/",
          "height": 374
        },
        "outputId": "38a320bb-de55-4e57-8507-4ed40bdf244e"
      },
      "source": [
        "\n",
        "data_df['year'] = pd.to_numeric(data_df['year'])\n",
        "data_df['locationid'] = pd.to_numeric(data_df['locationid'])\n",
        "data_df['data_value'] = pd.to_numeric(data_df['data_value'])\n",
        "data_df['y_lat'] = pd.to_numeric(data_df['y_lat'])\n",
        "data_df['x_lon'] = pd.to_numeric(data_df['x_lon'])\n",
        "data_df.dtypes"
      ],
      "execution_count": 77,
      "outputs": [
        {
          "output_type": "execute_result",
          "data": {
            "text/plain": [
              "year                            int64\n",
              "locationabbr                   object\n",
              "locationdesc                   object\n",
              "geographiclevel                object\n",
              "datasource                     object\n",
              "class                          object\n",
              "topic                          object\n",
              "data_value                    float64\n",
              "data_value_unit                object\n",
              "data_value_type                object\n",
              "stratificationcategory1        object\n",
              "stratification1                object\n",
              "stratificationcategory2        object\n",
              "stratification2                object\n",
              "topicid                        object\n",
              "locationid                      int64\n",
              "y_lat                         float64\n",
              "x_lon                         float64\n",
              "data_value_footnote_symbol     object\n",
              "data_value_footnote            object\n",
              "dtype: object"
            ]
          },
          "metadata": {
            "tags": []
          },
          "execution_count": 77
        }
      ]
    },
    {
      "cell_type": "code",
      "metadata": {
        "id": "PVVwYTAdZtbs",
        "colab_type": "code",
        "colab": {
          "base_uri": "https://localhost:8080/",
          "height": 309
        },
        "outputId": "bd0c87d3-20a2-453c-86a2-ba23fa43cacd"
      },
      "source": [
        "# reorganize columns\n",
        "datasub_df = data_df[['locationid','locationabbr','locationdesc','y_lat','x_lon',\n",
        "                      'class','topic','stratificationcategory1', 'stratification1' ,\n",
        "                      'stratificationcategory2' , 'stratification2' ,'year','data_value','data_value_unit']]          \n",
        "\n",
        "datasub_df.head()"
      ],
      "execution_count": 78,
      "outputs": [
        {
          "output_type": "execute_result",
          "data": {
            "text/html": [
              "<div>\n",
              "<style scoped>\n",
              "    .dataframe tbody tr th:only-of-type {\n",
              "        vertical-align: middle;\n",
              "    }\n",
              "\n",
              "    .dataframe tbody tr th {\n",
              "        vertical-align: top;\n",
              "    }\n",
              "\n",
              "    .dataframe thead th {\n",
              "        text-align: right;\n",
              "    }\n",
              "</style>\n",
              "<table border=\"1\" class=\"dataframe\">\n",
              "  <thead>\n",
              "    <tr style=\"text-align: right;\">\n",
              "      <th></th>\n",
              "      <th>locationid</th>\n",
              "      <th>locationabbr</th>\n",
              "      <th>locationdesc</th>\n",
              "      <th>y_lat</th>\n",
              "      <th>x_lon</th>\n",
              "      <th>class</th>\n",
              "      <th>topic</th>\n",
              "      <th>stratificationcategory1</th>\n",
              "      <th>stratification1</th>\n",
              "      <th>stratificationcategory2</th>\n",
              "      <th>stratification2</th>\n",
              "      <th>year</th>\n",
              "      <th>data_value</th>\n",
              "      <th>data_value_unit</th>\n",
              "    </tr>\n",
              "  </thead>\n",
              "  <tbody>\n",
              "    <tr>\n",
              "      <th>0</th>\n",
              "      <td>2013</td>\n",
              "      <td>AK</td>\n",
              "      <td>Aleutians East</td>\n",
              "      <td>55.442393</td>\n",
              "      <td>-161.959930</td>\n",
              "      <td>Cardiovascular Diseases</td>\n",
              "      <td>Stroke Mortality</td>\n",
              "      <td>Gender</td>\n",
              "      <td>Overall</td>\n",
              "      <td>Race/Ethnicity</td>\n",
              "      <td>Overall</td>\n",
              "      <td>2017</td>\n",
              "      <td>2.0</td>\n",
              "      <td>per 100,000 population</td>\n",
              "    </tr>\n",
              "    <tr>\n",
              "      <th>1</th>\n",
              "      <td>2016</td>\n",
              "      <td>AK</td>\n",
              "      <td>Aleutians West</td>\n",
              "      <td>53.648343</td>\n",
              "      <td>-166.917533</td>\n",
              "      <td>Cardiovascular Diseases</td>\n",
              "      <td>Stroke Mortality</td>\n",
              "      <td>Gender</td>\n",
              "      <td>Overall</td>\n",
              "      <td>Race/Ethnicity</td>\n",
              "      <td>Overall</td>\n",
              "      <td>2017</td>\n",
              "      <td>0.0</td>\n",
              "      <td>per 100,000 population</td>\n",
              "    </tr>\n",
              "    <tr>\n",
              "      <th>2</th>\n",
              "      <td>2020</td>\n",
              "      <td>AK</td>\n",
              "      <td>Anchorage</td>\n",
              "      <td>61.159145</td>\n",
              "      <td>-149.104559</td>\n",
              "      <td>Cardiovascular Diseases</td>\n",
              "      <td>Stroke Mortality</td>\n",
              "      <td>Gender</td>\n",
              "      <td>Overall</td>\n",
              "      <td>Race/Ethnicity</td>\n",
              "      <td>Overall</td>\n",
              "      <td>2017</td>\n",
              "      <td>67.2</td>\n",
              "      <td>per 100,000 population</td>\n",
              "    </tr>\n",
              "    <tr>\n",
              "      <th>3</th>\n",
              "      <td>2050</td>\n",
              "      <td>AK</td>\n",
              "      <td>Bethel</td>\n",
              "      <td>60.923648</td>\n",
              "      <td>-159.753262</td>\n",
              "      <td>Cardiovascular Diseases</td>\n",
              "      <td>Stroke Mortality</td>\n",
              "      <td>Gender</td>\n",
              "      <td>Overall</td>\n",
              "      <td>Race/Ethnicity</td>\n",
              "      <td>Overall</td>\n",
              "      <td>2017</td>\n",
              "      <td>104.6</td>\n",
              "      <td>per 100,000 population</td>\n",
              "    </tr>\n",
              "    <tr>\n",
              "      <th>4</th>\n",
              "      <td>2060</td>\n",
              "      <td>AK</td>\n",
              "      <td>Bristol Bay</td>\n",
              "      <td>58.753496</td>\n",
              "      <td>-156.694662</td>\n",
              "      <td>Cardiovascular Diseases</td>\n",
              "      <td>Stroke Mortality</td>\n",
              "      <td>Gender</td>\n",
              "      <td>Overall</td>\n",
              "      <td>Race/Ethnicity</td>\n",
              "      <td>Overall</td>\n",
              "      <td>2017</td>\n",
              "      <td>NaN</td>\n",
              "      <td>per 100,000 population</td>\n",
              "    </tr>\n",
              "  </tbody>\n",
              "</table>\n",
              "</div>"
            ],
            "text/plain": [
              "   locationid locationabbr    locationdesc      y_lat       x_lon  \\\n",
              "0        2013           AK  Aleutians East  55.442393 -161.959930   \n",
              "1        2016           AK  Aleutians West  53.648343 -166.917533   \n",
              "2        2020           AK       Anchorage  61.159145 -149.104559   \n",
              "3        2050           AK          Bethel  60.923648 -159.753262   \n",
              "4        2060           AK     Bristol Bay  58.753496 -156.694662   \n",
              "\n",
              "                     class             topic stratificationcategory1  \\\n",
              "0  Cardiovascular Diseases  Stroke Mortality                  Gender   \n",
              "1  Cardiovascular Diseases  Stroke Mortality                  Gender   \n",
              "2  Cardiovascular Diseases  Stroke Mortality                  Gender   \n",
              "3  Cardiovascular Diseases  Stroke Mortality                  Gender   \n",
              "4  Cardiovascular Diseases  Stroke Mortality                  Gender   \n",
              "\n",
              "  stratification1 stratificationcategory2 stratification2  year  data_value  \\\n",
              "0         Overall          Race/Ethnicity         Overall  2017         2.0   \n",
              "1         Overall          Race/Ethnicity         Overall  2017         0.0   \n",
              "2         Overall          Race/Ethnicity         Overall  2017        67.2   \n",
              "3         Overall          Race/Ethnicity         Overall  2017       104.6   \n",
              "4         Overall          Race/Ethnicity         Overall  2017         NaN   \n",
              "\n",
              "          data_value_unit  \n",
              "0  per 100,000 population  \n",
              "1  per 100,000 population  \n",
              "2  per 100,000 population  \n",
              "3  per 100,000 population  \n",
              "4  per 100,000 population  "
            ]
          },
          "metadata": {
            "tags": []
          },
          "execution_count": 78
        }
      ]
    },
    {
      "cell_type": "code",
      "metadata": {
        "id": "EOCiJ2XuZtbv",
        "colab_type": "code",
        "colab": {
          "base_uri": "https://localhost:8080/",
          "height": 309
        },
        "outputId": "e9c877ec-71db-4193-b319-dd03fd924763"
      },
      "source": [
        "#Rename columns \n",
        "datasub_df = datasub_df.rename(columns={\"locationid\":\"locationID\", \"y_lat\":\"lat\", \"x_lon\":\"lon\",\"locationabbr\":\"state\", \"locationdesc\": \"county\"})\n",
        "\n",
        "datasub_df.head() "
      ],
      "execution_count": 79,
      "outputs": [
        {
          "output_type": "execute_result",
          "data": {
            "text/html": [
              "<div>\n",
              "<style scoped>\n",
              "    .dataframe tbody tr th:only-of-type {\n",
              "        vertical-align: middle;\n",
              "    }\n",
              "\n",
              "    .dataframe tbody tr th {\n",
              "        vertical-align: top;\n",
              "    }\n",
              "\n",
              "    .dataframe thead th {\n",
              "        text-align: right;\n",
              "    }\n",
              "</style>\n",
              "<table border=\"1\" class=\"dataframe\">\n",
              "  <thead>\n",
              "    <tr style=\"text-align: right;\">\n",
              "      <th></th>\n",
              "      <th>locationID</th>\n",
              "      <th>state</th>\n",
              "      <th>county</th>\n",
              "      <th>lat</th>\n",
              "      <th>lon</th>\n",
              "      <th>class</th>\n",
              "      <th>topic</th>\n",
              "      <th>stratificationcategory1</th>\n",
              "      <th>stratification1</th>\n",
              "      <th>stratificationcategory2</th>\n",
              "      <th>stratification2</th>\n",
              "      <th>year</th>\n",
              "      <th>data_value</th>\n",
              "      <th>data_value_unit</th>\n",
              "    </tr>\n",
              "  </thead>\n",
              "  <tbody>\n",
              "    <tr>\n",
              "      <th>0</th>\n",
              "      <td>2013</td>\n",
              "      <td>AK</td>\n",
              "      <td>Aleutians East</td>\n",
              "      <td>55.442393</td>\n",
              "      <td>-161.959930</td>\n",
              "      <td>Cardiovascular Diseases</td>\n",
              "      <td>Stroke Mortality</td>\n",
              "      <td>Gender</td>\n",
              "      <td>Overall</td>\n",
              "      <td>Race/Ethnicity</td>\n",
              "      <td>Overall</td>\n",
              "      <td>2017</td>\n",
              "      <td>2.0</td>\n",
              "      <td>per 100,000 population</td>\n",
              "    </tr>\n",
              "    <tr>\n",
              "      <th>1</th>\n",
              "      <td>2016</td>\n",
              "      <td>AK</td>\n",
              "      <td>Aleutians West</td>\n",
              "      <td>53.648343</td>\n",
              "      <td>-166.917533</td>\n",
              "      <td>Cardiovascular Diseases</td>\n",
              "      <td>Stroke Mortality</td>\n",
              "      <td>Gender</td>\n",
              "      <td>Overall</td>\n",
              "      <td>Race/Ethnicity</td>\n",
              "      <td>Overall</td>\n",
              "      <td>2017</td>\n",
              "      <td>0.0</td>\n",
              "      <td>per 100,000 population</td>\n",
              "    </tr>\n",
              "    <tr>\n",
              "      <th>2</th>\n",
              "      <td>2020</td>\n",
              "      <td>AK</td>\n",
              "      <td>Anchorage</td>\n",
              "      <td>61.159145</td>\n",
              "      <td>-149.104559</td>\n",
              "      <td>Cardiovascular Diseases</td>\n",
              "      <td>Stroke Mortality</td>\n",
              "      <td>Gender</td>\n",
              "      <td>Overall</td>\n",
              "      <td>Race/Ethnicity</td>\n",
              "      <td>Overall</td>\n",
              "      <td>2017</td>\n",
              "      <td>67.2</td>\n",
              "      <td>per 100,000 population</td>\n",
              "    </tr>\n",
              "    <tr>\n",
              "      <th>3</th>\n",
              "      <td>2050</td>\n",
              "      <td>AK</td>\n",
              "      <td>Bethel</td>\n",
              "      <td>60.923648</td>\n",
              "      <td>-159.753262</td>\n",
              "      <td>Cardiovascular Diseases</td>\n",
              "      <td>Stroke Mortality</td>\n",
              "      <td>Gender</td>\n",
              "      <td>Overall</td>\n",
              "      <td>Race/Ethnicity</td>\n",
              "      <td>Overall</td>\n",
              "      <td>2017</td>\n",
              "      <td>104.6</td>\n",
              "      <td>per 100,000 population</td>\n",
              "    </tr>\n",
              "    <tr>\n",
              "      <th>4</th>\n",
              "      <td>2060</td>\n",
              "      <td>AK</td>\n",
              "      <td>Bristol Bay</td>\n",
              "      <td>58.753496</td>\n",
              "      <td>-156.694662</td>\n",
              "      <td>Cardiovascular Diseases</td>\n",
              "      <td>Stroke Mortality</td>\n",
              "      <td>Gender</td>\n",
              "      <td>Overall</td>\n",
              "      <td>Race/Ethnicity</td>\n",
              "      <td>Overall</td>\n",
              "      <td>2017</td>\n",
              "      <td>NaN</td>\n",
              "      <td>per 100,000 population</td>\n",
              "    </tr>\n",
              "  </tbody>\n",
              "</table>\n",
              "</div>"
            ],
            "text/plain": [
              "   locationID state          county        lat         lon  \\\n",
              "0        2013    AK  Aleutians East  55.442393 -161.959930   \n",
              "1        2016    AK  Aleutians West  53.648343 -166.917533   \n",
              "2        2020    AK       Anchorage  61.159145 -149.104559   \n",
              "3        2050    AK          Bethel  60.923648 -159.753262   \n",
              "4        2060    AK     Bristol Bay  58.753496 -156.694662   \n",
              "\n",
              "                     class             topic stratificationcategory1  \\\n",
              "0  Cardiovascular Diseases  Stroke Mortality                  Gender   \n",
              "1  Cardiovascular Diseases  Stroke Mortality                  Gender   \n",
              "2  Cardiovascular Diseases  Stroke Mortality                  Gender   \n",
              "3  Cardiovascular Diseases  Stroke Mortality                  Gender   \n",
              "4  Cardiovascular Diseases  Stroke Mortality                  Gender   \n",
              "\n",
              "  stratification1 stratificationcategory2 stratification2  year  data_value  \\\n",
              "0         Overall          Race/Ethnicity         Overall  2017         2.0   \n",
              "1         Overall          Race/Ethnicity         Overall  2017         0.0   \n",
              "2         Overall          Race/Ethnicity         Overall  2017        67.2   \n",
              "3         Overall          Race/Ethnicity         Overall  2017       104.6   \n",
              "4         Overall          Race/Ethnicity         Overall  2017         NaN   \n",
              "\n",
              "          data_value_unit  \n",
              "0  per 100,000 population  \n",
              "1  per 100,000 population  \n",
              "2  per 100,000 population  \n",
              "3  per 100,000 population  \n",
              "4  per 100,000 population  "
            ]
          },
          "metadata": {
            "tags": []
          },
          "execution_count": 79
        }
      ]
    },
    {
      "cell_type": "code",
      "metadata": {
        "id": "_KBaiORSZtby",
        "colab_type": "code",
        "colab": {
          "base_uri": "https://localhost:8080/",
          "height": 390
        },
        "outputId": "9c2c83d1-9c0a-4221-a43c-b27b555a2e3f"
      },
      "source": [
        "#cleaing data\n",
        "\n",
        "cols = datasub_df.columns[:20] # first 30 columns\n",
        "colours = ['green', 'orange'] # specify the colours - orange is missing. green is not missing.\n",
        "sns.heatmap(datasub_df[cols].isnull(), cmap=sns.color_palette(colours))"
      ],
      "execution_count": 80,
      "outputs": [
        {
          "output_type": "execute_result",
          "data": {
            "text/plain": [
              "<matplotlib.axes._subplots.AxesSubplot at 0x7f3780155748>"
            ]
          },
          "metadata": {
            "tags": []
          },
          "execution_count": 80
        },
        {
          "output_type": "display_data",
          "data": {
            "image/png": "[encoded data removed]",
            "text/plain": [
              "<Figure size 432x288 with 2 Axes>"
            ]
          },
          "metadata": {
            "tags": [],
            "needs_background": "light"
          }
        }
      ]
    },
    {
      "cell_type": "code",
      "metadata": {
        "id": "m0E-Q8fGZtb1",
        "colab_type": "code",
        "colab": {
          "base_uri": "https://localhost:8080/",
          "height": 255
        },
        "outputId": "b4460eac-0d64-4803-fda8-4fc84cb53c0e"
      },
      "source": [
        "# if it's a larger dataset and the visualization takes too long can do this.\n",
        "# % of missing.\n",
        "for col in datasub_df.columns:\n",
        "    pct_missing = np.mean(datasub_df[col].isnull())\n",
        "    print('{} - {}%'.format(col, round(pct_missing*100)))"
      ],
      "execution_count": 47,
      "outputs": [
        {
          "output_type": "stream",
          "text": [
            "locationID - 0.0%\n",
            "state - 0.0%\n",
            "county - 0.0%\n",
            "lat - 0.0%\n",
            "long - 0.0%\n",
            "data_value - 52.0%\n",
            "data_value_unit - 0.0%\n",
            "class - 0.0%\n",
            "topic - 0.0%\n",
            "stratificationcategory1 - 0.0%\n",
            "stratification1 - 0.0%\n",
            "stratificationcategory2 - 0.0%\n",
            "stratification2 - 0.0%\n",
            "year - 0.0%\n"
          ],
          "name": "stdout"
        }
      ]
    },
    {
      "cell_type": "code",
      "metadata": {
        "scrolled": true,
        "id": "7WaA6de-Ztb7",
        "colab_type": "code",
        "colab": {
          "base_uri": "https://localhost:8080/",
          "height": 309
        },
        "outputId": "a06809ba-c39b-4b08-9456-51ca892e83b5"
      },
      "source": [
        "#In this case the counties that had missing values will be changed by -1 to be easily recognizable\n",
        "datasub_df['data_value']= datasub_df['data_value'].fillna(-1)\n",
        "datasub_df.head()"
      ],
      "execution_count": 81,
      "outputs": [
        {
          "output_type": "execute_result",
          "data": {
            "text/html": [
              "<div>\n",
              "<style scoped>\n",
              "    .dataframe tbody tr th:only-of-type {\n",
              "        vertical-align: middle;\n",
              "    }\n",
              "\n",
              "    .dataframe tbody tr th {\n",
              "        vertical-align: top;\n",
              "    }\n",
              "\n",
              "    .dataframe thead th {\n",
              "        text-align: right;\n",
              "    }\n",
              "</style>\n",
              "<table border=\"1\" class=\"dataframe\">\n",
              "  <thead>\n",
              "    <tr style=\"text-align: right;\">\n",
              "      <th></th>\n",
              "      <th>locationID</th>\n",
              "      <th>state</th>\n",
              "      <th>county</th>\n",
              "      <th>lat</th>\n",
              "      <th>lon</th>\n",
              "      <th>class</th>\n",
              "      <th>topic</th>\n",
              "      <th>stratificationcategory1</th>\n",
              "      <th>stratification1</th>\n",
              "      <th>stratificationcategory2</th>\n",
              "      <th>stratification2</th>\n",
              "      <th>year</th>\n",
              "      <th>data_value</th>\n",
              "      <th>data_value_unit</th>\n",
              "    </tr>\n",
              "  </thead>\n",
              "  <tbody>\n",
              "    <tr>\n",
              "      <th>0</th>\n",
              "      <td>2013</td>\n",
              "      <td>AK</td>\n",
              "      <td>Aleutians East</td>\n",
              "      <td>55.442393</td>\n",
              "      <td>-161.959930</td>\n",
              "      <td>Cardiovascular Diseases</td>\n",
              "      <td>Stroke Mortality</td>\n",
              "      <td>Gender</td>\n",
              "      <td>Overall</td>\n",
              "      <td>Race/Ethnicity</td>\n",
              "      <td>Overall</td>\n",
              "      <td>2017</td>\n",
              "      <td>2.0</td>\n",
              "      <td>per 100,000 population</td>\n",
              "    </tr>\n",
              "    <tr>\n",
              "      <th>1</th>\n",
              "      <td>2016</td>\n",
              "      <td>AK</td>\n",
              "      <td>Aleutians West</td>\n",
              "      <td>53.648343</td>\n",
              "      <td>-166.917533</td>\n",
              "      <td>Cardiovascular Diseases</td>\n",
              "      <td>Stroke Mortality</td>\n",
              "      <td>Gender</td>\n",
              "      <td>Overall</td>\n",
              "      <td>Race/Ethnicity</td>\n",
              "      <td>Overall</td>\n",
              "      <td>2017</td>\n",
              "      <td>0.0</td>\n",
              "      <td>per 100,000 population</td>\n",
              "    </tr>\n",
              "    <tr>\n",
              "      <th>2</th>\n",
              "      <td>2020</td>\n",
              "      <td>AK</td>\n",
              "      <td>Anchorage</td>\n",
              "      <td>61.159145</td>\n",
              "      <td>-149.104559</td>\n",
              "      <td>Cardiovascular Diseases</td>\n",
              "      <td>Stroke Mortality</td>\n",
              "      <td>Gender</td>\n",
              "      <td>Overall</td>\n",
              "      <td>Race/Ethnicity</td>\n",
              "      <td>Overall</td>\n",
              "      <td>2017</td>\n",
              "      <td>67.2</td>\n",
              "      <td>per 100,000 population</td>\n",
              "    </tr>\n",
              "    <tr>\n",
              "      <th>3</th>\n",
              "      <td>2050</td>\n",
              "      <td>AK</td>\n",
              "      <td>Bethel</td>\n",
              "      <td>60.923648</td>\n",
              "      <td>-159.753262</td>\n",
              "      <td>Cardiovascular Diseases</td>\n",
              "      <td>Stroke Mortality</td>\n",
              "      <td>Gender</td>\n",
              "      <td>Overall</td>\n",
              "      <td>Race/Ethnicity</td>\n",
              "      <td>Overall</td>\n",
              "      <td>2017</td>\n",
              "      <td>104.6</td>\n",
              "      <td>per 100,000 population</td>\n",
              "    </tr>\n",
              "    <tr>\n",
              "      <th>4</th>\n",
              "      <td>2060</td>\n",
              "      <td>AK</td>\n",
              "      <td>Bristol Bay</td>\n",
              "      <td>58.753496</td>\n",
              "      <td>-156.694662</td>\n",
              "      <td>Cardiovascular Diseases</td>\n",
              "      <td>Stroke Mortality</td>\n",
              "      <td>Gender</td>\n",
              "      <td>Overall</td>\n",
              "      <td>Race/Ethnicity</td>\n",
              "      <td>Overall</td>\n",
              "      <td>2017</td>\n",
              "      <td>-1.0</td>\n",
              "      <td>per 100,000 population</td>\n",
              "    </tr>\n",
              "  </tbody>\n",
              "</table>\n",
              "</div>"
            ],
            "text/plain": [
              "   locationID state          county        lat         lon  \\\n",
              "0        2013    AK  Aleutians East  55.442393 -161.959930   \n",
              "1        2016    AK  Aleutians West  53.648343 -166.917533   \n",
              "2        2020    AK       Anchorage  61.159145 -149.104559   \n",
              "3        2050    AK          Bethel  60.923648 -159.753262   \n",
              "4        2060    AK     Bristol Bay  58.753496 -156.694662   \n",
              "\n",
              "                     class             topic stratificationcategory1  \\\n",
              "0  Cardiovascular Diseases  Stroke Mortality                  Gender   \n",
              "1  Cardiovascular Diseases  Stroke Mortality                  Gender   \n",
              "2  Cardiovascular Diseases  Stroke Mortality                  Gender   \n",
              "3  Cardiovascular Diseases  Stroke Mortality                  Gender   \n",
              "4  Cardiovascular Diseases  Stroke Mortality                  Gender   \n",
              "\n",
              "  stratification1 stratificationcategory2 stratification2  year  data_value  \\\n",
              "0         Overall          Race/Ethnicity         Overall  2017         2.0   \n",
              "1         Overall          Race/Ethnicity         Overall  2017         0.0   \n",
              "2         Overall          Race/Ethnicity         Overall  2017        67.2   \n",
              "3         Overall          Race/Ethnicity         Overall  2017       104.6   \n",
              "4         Overall          Race/Ethnicity         Overall  2017        -1.0   \n",
              "\n",
              "          data_value_unit  \n",
              "0  per 100,000 population  \n",
              "1  per 100,000 population  \n",
              "2  per 100,000 population  \n",
              "3  per 100,000 population  \n",
              "4  per 100,000 population  "
            ]
          },
          "metadata": {
            "tags": []
          },
          "execution_count": 81
        }
      ]
    },
    {
      "cell_type": "code",
      "metadata": {
        "id": "-6TU-pPCtmMY",
        "colab_type": "code",
        "colab": {
          "base_uri": "https://localhost:8080/",
          "height": 289
        },
        "outputId": "333976d0-52d7-40e1-d394-12f213dac02b"
      },
      "source": [
        "datasub_df.dtypes"
      ],
      "execution_count": 55,
      "outputs": [
        {
          "output_type": "execute_result",
          "data": {
            "text/plain": [
              "id                           int64\n",
              "locationID                   int64\n",
              "state                       object\n",
              "county                      object\n",
              "lat                        float64\n",
              "lon                        float64\n",
              "data_value                 float64\n",
              "data_value_unit             object\n",
              "class                       object\n",
              "topic                       object\n",
              "stratificationcategory1     object\n",
              "stratification1             object\n",
              "stratificationcategory2     object\n",
              "stratification2             object\n",
              "year                         int64\n",
              "dtype: object"
            ]
          },
          "metadata": {
            "tags": []
          },
          "execution_count": 55
        }
      ]
    },
    {
      "cell_type": "code",
      "metadata": {
        "id": "d0RSb6LN-7cE",
        "colab_type": "code",
        "colab": {
          "base_uri": "https://localhost:8080/",
          "height": 34
        },
        "outputId": "8969445d-0982-486b-ba47-3b7aa2477a7e"
      },
      "source": [
        "#re-name the file\n",
        "datayear= datasub_df['year'][1]\n",
        "datayear"
      ],
      "execution_count": 82,
      "outputs": [
        {
          "output_type": "execute_result",
          "data": {
            "text/plain": [
              "2017"
            ]
          },
          "metadata": {
            "tags": []
          },
          "execution_count": 82
        }
      ]
    },
    {
      "cell_type": "code",
      "metadata": {
        "id": "lOdrnZGYB8Ko",
        "colab_type": "code",
        "colab": {}
      },
      "source": [
        "data2017_df=datasub_df"
      ],
      "execution_count": 83,
      "outputs": []
    },
    {
      "cell_type": "code",
      "metadata": {
        "id": "k7M3p-IuAooQ",
        "colab_type": "code",
        "colab": {}
      },
      "source": [
        "# The Host Name for the API endpoint (the https:// part will be added automatically)\n",
        "data_url='chronicdata.cdc.gov'\n",
        "\n",
        "# The data set at the API endpoint \n",
        "data_set=\"v246-z5tb\"   \n",
        "# Create the client to point to the API endpoint\n",
        "client = Socrata(data_url,\n",
        "                 MyAppToken,\n",
        "                 username=username,\n",
        "                 password=password)\n",
        "\n",
        "# Get the total number of records in our target data set\n",
        "record_count = client.get(data_set, select=\"COUNT(*)\")\n",
        "record_count\n",
        "# while loop to fectch the record_limit during each iteration\n",
        "start = 0             # Start at 0\n",
        "record_limit = 10000     # Fetch 2000 rows at a time\n",
        "results =[]           # Empty out our result list\n",
        "while True:\n",
        "     # Fetch the set of records starting at 'start'\n",
        "     results.extend( client.get(data_set, offset=start, limit=record_limit))\n",
        "     # Move up the starting record\n",
        "     start = start + record_limit\n",
        "     # If we have fetched all of the records, bail out\n",
        "     if (start > int(record_count[0]['COUNT']) ):\n",
        "        break\n",
        "# Convert the list of dictionaries to a Pandas data frame        \n",
        "data_df = pd.DataFrame.from_records(results)\n"
      ],
      "execution_count": 85,
      "outputs": []
    },
    {
      "cell_type": "code",
      "metadata": {
        "id": "Z_FiYYORKnfl",
        "colab_type": "code",
        "colab": {}
      },
      "source": [
        "data_df['year'] = pd.to_numeric(data_df['year'])\n",
        "data_df['locationid'] = pd.to_numeric(data_df['locationid'])\n",
        "data_df['data_value'] = pd.to_numeric(data_df['data_value'])\n",
        "data_df['y_lat'] = pd.to_numeric(data_df['y_lat'])\n",
        "data_df['x_lon'] = pd.to_numeric(data_df['x_lon'])"
      ],
      "execution_count": 86,
      "outputs": []
    },
    {
      "cell_type": "code",
      "metadata": {
        "id": "ia1hKpN5Kqr5",
        "colab_type": "code",
        "colab": {}
      },
      "source": [
        "# reorganize columns\n",
        "datasub_df = data_df[['locationid','locationabbr','locationdesc','y_lat','x_lon',\n",
        "                      'class','topic','stratificationcategory1', 'stratification1' ,\n",
        "                      'stratificationcategory2' , 'stratification2' ,'year','data_value','data_value_unit']] \n"
      ],
      "execution_count": 87,
      "outputs": []
    },
    {
      "cell_type": "code",
      "metadata": {
        "id": "2uMXHwIfM-JL",
        "colab_type": "code",
        "colab": {
          "base_uri": "https://localhost:8080/",
          "height": 309
        },
        "outputId": "4634e3fa-f80b-4487-f5cc-76e553635ae9"
      },
      "source": [
        "#Rename columns \n",
        "datasub_df = datasub_df.rename(columns={\"locationid\":\"locationID\", \"y_lat\":\"lat\", \"x_lon\":\"lon\",\"locationabbr\":\"state\", \"locationdesc\": \"county\"})\n",
        "\n",
        "datasub_df.head() "
      ],
      "execution_count": 88,
      "outputs": [
        {
          "output_type": "execute_result",
          "data": {
            "text/html": [
              "<div>\n",
              "<style scoped>\n",
              "    .dataframe tbody tr th:only-of-type {\n",
              "        vertical-align: middle;\n",
              "    }\n",
              "\n",
              "    .dataframe tbody tr th {\n",
              "        vertical-align: top;\n",
              "    }\n",
              "\n",
              "    .dataframe thead th {\n",
              "        text-align: right;\n",
              "    }\n",
              "</style>\n",
              "<table border=\"1\" class=\"dataframe\">\n",
              "  <thead>\n",
              "    <tr style=\"text-align: right;\">\n",
              "      <th></th>\n",
              "      <th>locationID</th>\n",
              "      <th>state</th>\n",
              "      <th>county</th>\n",
              "      <th>lat</th>\n",
              "      <th>lon</th>\n",
              "      <th>class</th>\n",
              "      <th>topic</th>\n",
              "      <th>stratificationcategory1</th>\n",
              "      <th>stratification1</th>\n",
              "      <th>stratificationcategory2</th>\n",
              "      <th>stratification2</th>\n",
              "      <th>year</th>\n",
              "      <th>data_value</th>\n",
              "      <th>data_value_unit</th>\n",
              "    </tr>\n",
              "  </thead>\n",
              "  <tbody>\n",
              "    <tr>\n",
              "      <th>0</th>\n",
              "      <td>4</td>\n",
              "      <td>AZ</td>\n",
              "      <td>Arizona</td>\n",
              "      <td>34.292100</td>\n",
              "      <td>-111.664000</td>\n",
              "      <td>Cardiovascular Diseases</td>\n",
              "      <td>Stroke Mortality</td>\n",
              "      <td>Gender</td>\n",
              "      <td>Female</td>\n",
              "      <td>Race/Ethnicity</td>\n",
              "      <td>Hispanic</td>\n",
              "      <td>2016</td>\n",
              "      <td>58.3</td>\n",
              "      <td>per 100,000 population</td>\n",
              "    </tr>\n",
              "    <tr>\n",
              "      <th>1</th>\n",
              "      <td>13</td>\n",
              "      <td>GA</td>\n",
              "      <td>Georgia</td>\n",
              "      <td>32.654900</td>\n",
              "      <td>-83.454700</td>\n",
              "      <td>Cardiovascular Diseases</td>\n",
              "      <td>Stroke Mortality</td>\n",
              "      <td>Gender</td>\n",
              "      <td>Female</td>\n",
              "      <td>Race/Ethnicity</td>\n",
              "      <td>White</td>\n",
              "      <td>2016</td>\n",
              "      <td>81.0</td>\n",
              "      <td>per 100,000 population</td>\n",
              "    </tr>\n",
              "    <tr>\n",
              "      <th>2</th>\n",
              "      <td>29229</td>\n",
              "      <td>MO</td>\n",
              "      <td>Wright County</td>\n",
              "      <td>37.274183</td>\n",
              "      <td>-92.472155</td>\n",
              "      <td>Cardiovascular Diseases</td>\n",
              "      <td>Stroke Mortality</td>\n",
              "      <td>Gender</td>\n",
              "      <td>Female</td>\n",
              "      <td>Race/Ethnicity</td>\n",
              "      <td>Hispanic</td>\n",
              "      <td>2016</td>\n",
              "      <td>NaN</td>\n",
              "      <td>per 100,000 population</td>\n",
              "    </tr>\n",
              "    <tr>\n",
              "      <th>3</th>\n",
              "      <td>30</td>\n",
              "      <td>MT</td>\n",
              "      <td>Montana</td>\n",
              "      <td>47.033200</td>\n",
              "      <td>-109.653000</td>\n",
              "      <td>Cardiovascular Diseases</td>\n",
              "      <td>Stroke Mortality</td>\n",
              "      <td>Gender</td>\n",
              "      <td>Overall</td>\n",
              "      <td>Race/Ethnicity</td>\n",
              "      <td>Black</td>\n",
              "      <td>2016</td>\n",
              "      <td>NaN</td>\n",
              "      <td>per 100,000 population</td>\n",
              "    </tr>\n",
              "    <tr>\n",
              "      <th>4</th>\n",
              "      <td>37</td>\n",
              "      <td>NC</td>\n",
              "      <td>North Carolina</td>\n",
              "      <td>35.547500</td>\n",
              "      <td>-79.401900</td>\n",
              "      <td>Cardiovascular Diseases</td>\n",
              "      <td>Stroke Mortality</td>\n",
              "      <td>Gender</td>\n",
              "      <td>Male</td>\n",
              "      <td>Race/Ethnicity</td>\n",
              "      <td>White</td>\n",
              "      <td>2016</td>\n",
              "      <td>79.8</td>\n",
              "      <td>per 100,000 population</td>\n",
              "    </tr>\n",
              "  </tbody>\n",
              "</table>\n",
              "</div>"
            ],
            "text/plain": [
              "   locationID state          county        lat         lon  \\\n",
              "0           4    AZ         Arizona  34.292100 -111.664000   \n",
              "1          13    GA         Georgia  32.654900  -83.454700   \n",
              "2       29229    MO   Wright County  37.274183  -92.472155   \n",
              "3          30    MT         Montana  47.033200 -109.653000   \n",
              "4          37    NC  North Carolina  35.547500  -79.401900   \n",
              "\n",
              "                     class             topic stratificationcategory1  \\\n",
              "0  Cardiovascular Diseases  Stroke Mortality                  Gender   \n",
              "1  Cardiovascular Diseases  Stroke Mortality                  Gender   \n",
              "2  Cardiovascular Diseases  Stroke Mortality                  Gender   \n",
              "3  Cardiovascular Diseases  Stroke Mortality                  Gender   \n",
              "4  Cardiovascular Diseases  Stroke Mortality                  Gender   \n",
              "\n",
              "  stratification1 stratificationcategory2 stratification2  year  data_value  \\\n",
              "0          Female          Race/Ethnicity        Hispanic  2016        58.3   \n",
              "1          Female          Race/Ethnicity           White  2016        81.0   \n",
              "2          Female          Race/Ethnicity        Hispanic  2016         NaN   \n",
              "3         Overall          Race/Ethnicity           Black  2016         NaN   \n",
              "4            Male          Race/Ethnicity           White  2016        79.8   \n",
              "\n",
              "          data_value_unit  \n",
              "0  per 100,000 population  \n",
              "1  per 100,000 population  \n",
              "2  per 100,000 population  \n",
              "3  per 100,000 population  \n",
              "4  per 100,000 population  "
            ]
          },
          "metadata": {
            "tags": []
          },
          "execution_count": 88
        }
      ]
    },
    {
      "cell_type": "code",
      "metadata": {
        "id": "-Ro0BX21K_Zp",
        "colab_type": "code",
        "colab": {
          "base_uri": "https://localhost:8080/",
          "height": 309
        },
        "outputId": "d55fbde7-64f9-412f-d6bd-0f130043ffc8"
      },
      "source": [
        "#In this case the counties that had missing values will be changed by -1 to be easily recognizable\n",
        "datasub_df['data_value']= datasub_df['data_value'].fillna(-1)\n",
        "datasub_df.head()"
      ],
      "execution_count": 89,
      "outputs": [
        {
          "output_type": "execute_result",
          "data": {
            "text/html": [
              "<div>\n",
              "<style scoped>\n",
              "    .dataframe tbody tr th:only-of-type {\n",
              "        vertical-align: middle;\n",
              "    }\n",
              "\n",
              "    .dataframe tbody tr th {\n",
              "        vertical-align: top;\n",
              "    }\n",
              "\n",
              "    .dataframe thead th {\n",
              "        text-align: right;\n",
              "    }\n",
              "</style>\n",
              "<table border=\"1\" class=\"dataframe\">\n",
              "  <thead>\n",
              "    <tr style=\"text-align: right;\">\n",
              "      <th></th>\n",
              "      <th>locationID</th>\n",
              "      <th>state</th>\n",
              "      <th>county</th>\n",
              "      <th>lat</th>\n",
              "      <th>lon</th>\n",
              "      <th>class</th>\n",
              "      <th>topic</th>\n",
              "      <th>stratificationcategory1</th>\n",
              "      <th>stratification1</th>\n",
              "      <th>stratificationcategory2</th>\n",
              "      <th>stratification2</th>\n",
              "      <th>year</th>\n",
              "      <th>data_value</th>\n",
              "      <th>data_value_unit</th>\n",
              "    </tr>\n",
              "  </thead>\n",
              "  <tbody>\n",
              "    <tr>\n",
              "      <th>0</th>\n",
              "      <td>4</td>\n",
              "      <td>AZ</td>\n",
              "      <td>Arizona</td>\n",
              "      <td>34.292100</td>\n",
              "      <td>-111.664000</td>\n",
              "      <td>Cardiovascular Diseases</td>\n",
              "      <td>Stroke Mortality</td>\n",
              "      <td>Gender</td>\n",
              "      <td>Female</td>\n",
              "      <td>Race/Ethnicity</td>\n",
              "      <td>Hispanic</td>\n",
              "      <td>2016</td>\n",
              "      <td>58.3</td>\n",
              "      <td>per 100,000 population</td>\n",
              "    </tr>\n",
              "    <tr>\n",
              "      <th>1</th>\n",
              "      <td>13</td>\n",
              "      <td>GA</td>\n",
              "      <td>Georgia</td>\n",
              "      <td>32.654900</td>\n",
              "      <td>-83.454700</td>\n",
              "      <td>Cardiovascular Diseases</td>\n",
              "      <td>Stroke Mortality</td>\n",
              "      <td>Gender</td>\n",
              "      <td>Female</td>\n",
              "      <td>Race/Ethnicity</td>\n",
              "      <td>White</td>\n",
              "      <td>2016</td>\n",
              "      <td>81.0</td>\n",
              "      <td>per 100,000 population</td>\n",
              "    </tr>\n",
              "    <tr>\n",
              "      <th>2</th>\n",
              "      <td>29229</td>\n",
              "      <td>MO</td>\n",
              "      <td>Wright County</td>\n",
              "      <td>37.274183</td>\n",
              "      <td>-92.472155</td>\n",
              "      <td>Cardiovascular Diseases</td>\n",
              "      <td>Stroke Mortality</td>\n",
              "      <td>Gender</td>\n",
              "      <td>Female</td>\n",
              "      <td>Race/Ethnicity</td>\n",
              "      <td>Hispanic</td>\n",
              "      <td>2016</td>\n",
              "      <td>-1.0</td>\n",
              "      <td>per 100,000 population</td>\n",
              "    </tr>\n",
              "    <tr>\n",
              "      <th>3</th>\n",
              "      <td>30</td>\n",
              "      <td>MT</td>\n",
              "      <td>Montana</td>\n",
              "      <td>47.033200</td>\n",
              "      <td>-109.653000</td>\n",
              "      <td>Cardiovascular Diseases</td>\n",
              "      <td>Stroke Mortality</td>\n",
              "      <td>Gender</td>\n",
              "      <td>Overall</td>\n",
              "      <td>Race/Ethnicity</td>\n",
              "      <td>Black</td>\n",
              "      <td>2016</td>\n",
              "      <td>-1.0</td>\n",
              "      <td>per 100,000 population</td>\n",
              "    </tr>\n",
              "    <tr>\n",
              "      <th>4</th>\n",
              "      <td>37</td>\n",
              "      <td>NC</td>\n",
              "      <td>North Carolina</td>\n",
              "      <td>35.547500</td>\n",
              "      <td>-79.401900</td>\n",
              "      <td>Cardiovascular Diseases</td>\n",
              "      <td>Stroke Mortality</td>\n",
              "      <td>Gender</td>\n",
              "      <td>Male</td>\n",
              "      <td>Race/Ethnicity</td>\n",
              "      <td>White</td>\n",
              "      <td>2016</td>\n",
              "      <td>79.8</td>\n",
              "      <td>per 100,000 population</td>\n",
              "    </tr>\n",
              "  </tbody>\n",
              "</table>\n",
              "</div>"
            ],
            "text/plain": [
              "   locationID state          county        lat         lon  \\\n",
              "0           4    AZ         Arizona  34.292100 -111.664000   \n",
              "1          13    GA         Georgia  32.654900  -83.454700   \n",
              "2       29229    MO   Wright County  37.274183  -92.472155   \n",
              "3          30    MT         Montana  47.033200 -109.653000   \n",
              "4          37    NC  North Carolina  35.547500  -79.401900   \n",
              "\n",
              "                     class             topic stratificationcategory1  \\\n",
              "0  Cardiovascular Diseases  Stroke Mortality                  Gender   \n",
              "1  Cardiovascular Diseases  Stroke Mortality                  Gender   \n",
              "2  Cardiovascular Diseases  Stroke Mortality                  Gender   \n",
              "3  Cardiovascular Diseases  Stroke Mortality                  Gender   \n",
              "4  Cardiovascular Diseases  Stroke Mortality                  Gender   \n",
              "\n",
              "  stratification1 stratificationcategory2 stratification2  year  data_value  \\\n",
              "0          Female          Race/Ethnicity        Hispanic  2016        58.3   \n",
              "1          Female          Race/Ethnicity           White  2016        81.0   \n",
              "2          Female          Race/Ethnicity        Hispanic  2016        -1.0   \n",
              "3         Overall          Race/Ethnicity           Black  2016        -1.0   \n",
              "4            Male          Race/Ethnicity           White  2016        79.8   \n",
              "\n",
              "          data_value_unit  \n",
              "0  per 100,000 population  \n",
              "1  per 100,000 population  \n",
              "2  per 100,000 population  \n",
              "3  per 100,000 population  \n",
              "4  per 100,000 population  "
            ]
          },
          "metadata": {
            "tags": []
          },
          "execution_count": 89
        }
      ]
    },
    {
      "cell_type": "code",
      "metadata": {
        "id": "Kysq0ovRNHu6",
        "colab_type": "code",
        "colab": {
          "base_uri": "https://localhost:8080/",
          "height": 85
        },
        "outputId": "afbb7d10-edd1-4ade-c869-c1a5ab150653"
      },
      "source": [
        "datasub_df.columns"
      ],
      "execution_count": 90,
      "outputs": [
        {
          "output_type": "execute_result",
          "data": {
            "text/plain": [
              "Index(['locationID', 'state', 'county', 'lat', 'lon', 'class', 'topic',\n",
              "       'stratificationcategory1', 'stratification1', 'stratificationcategory2',\n",
              "       'stratification2', 'year', 'data_value', 'data_value_unit'],\n",
              "      dtype='object')"
            ]
          },
          "metadata": {
            "tags": []
          },
          "execution_count": 90
        }
      ]
    },
    {
      "cell_type": "code",
      "metadata": {
        "id": "rEomIS_PLRA3",
        "colab_type": "code",
        "colab": {
          "base_uri": "https://localhost:8080/",
          "height": 309
        },
        "outputId": "4053cb28-5405-4a22-ce47-20afd61028e4"
      },
      "source": [
        "# Merge confirmed and deaths df on all common columns\n",
        "semicombined_df = pd.merge(data2017_df, datasub_df, on=['locationID','state', 'county', 'lat', 'lon',\n",
        "                                                        'class', 'topic', \n",
        "                                                        'stratificationcategory1','stratification1', 'stratificationcategory2', 'stratification2'])\n",
        "semicombined_df.head()"
      ],
      "execution_count": 91,
      "outputs": [
        {
          "output_type": "execute_result",
          "data": {
            "text/html": [
              "<div>\n",
              "<style scoped>\n",
              "    .dataframe tbody tr th:only-of-type {\n",
              "        vertical-align: middle;\n",
              "    }\n",
              "\n",
              "    .dataframe tbody tr th {\n",
              "        vertical-align: top;\n",
              "    }\n",
              "\n",
              "    .dataframe thead th {\n",
              "        text-align: right;\n",
              "    }\n",
              "</style>\n",
              "<table border=\"1\" class=\"dataframe\">\n",
              "  <thead>\n",
              "    <tr style=\"text-align: right;\">\n",
              "      <th></th>\n",
              "      <th>locationID</th>\n",
              "      <th>state</th>\n",
              "      <th>county</th>\n",
              "      <th>lat</th>\n",
              "      <th>lon</th>\n",
              "      <th>class</th>\n",
              "      <th>topic</th>\n",
              "      <th>stratificationcategory1</th>\n",
              "      <th>stratification1</th>\n",
              "      <th>stratificationcategory2</th>\n",
              "      <th>stratification2</th>\n",
              "      <th>year_x</th>\n",
              "      <th>data_value_x</th>\n",
              "      <th>data_value_unit_x</th>\n",
              "      <th>year_y</th>\n",
              "      <th>data_value_y</th>\n",
              "      <th>data_value_unit_y</th>\n",
              "    </tr>\n",
              "  </thead>\n",
              "  <tbody>\n",
              "    <tr>\n",
              "      <th>0</th>\n",
              "      <td>2013</td>\n",
              "      <td>AK</td>\n",
              "      <td>Aleutians East</td>\n",
              "      <td>55.442393</td>\n",
              "      <td>-161.959930</td>\n",
              "      <td>Cardiovascular Diseases</td>\n",
              "      <td>Stroke Mortality</td>\n",
              "      <td>Gender</td>\n",
              "      <td>Overall</td>\n",
              "      <td>Race/Ethnicity</td>\n",
              "      <td>Overall</td>\n",
              "      <td>2017</td>\n",
              "      <td>2.0</td>\n",
              "      <td>per 100,000 population</td>\n",
              "      <td>2016</td>\n",
              "      <td>2.0</td>\n",
              "      <td>per 100,000 population</td>\n",
              "    </tr>\n",
              "    <tr>\n",
              "      <th>1</th>\n",
              "      <td>2016</td>\n",
              "      <td>AK</td>\n",
              "      <td>Aleutians West</td>\n",
              "      <td>53.648343</td>\n",
              "      <td>-166.917533</td>\n",
              "      <td>Cardiovascular Diseases</td>\n",
              "      <td>Stroke Mortality</td>\n",
              "      <td>Gender</td>\n",
              "      <td>Overall</td>\n",
              "      <td>Race/Ethnicity</td>\n",
              "      <td>Overall</td>\n",
              "      <td>2017</td>\n",
              "      <td>0.0</td>\n",
              "      <td>per 100,000 population</td>\n",
              "      <td>2016</td>\n",
              "      <td>0.0</td>\n",
              "      <td>per 100,000 population</td>\n",
              "    </tr>\n",
              "    <tr>\n",
              "      <th>2</th>\n",
              "      <td>2020</td>\n",
              "      <td>AK</td>\n",
              "      <td>Anchorage</td>\n",
              "      <td>61.159145</td>\n",
              "      <td>-149.104559</td>\n",
              "      <td>Cardiovascular Diseases</td>\n",
              "      <td>Stroke Mortality</td>\n",
              "      <td>Gender</td>\n",
              "      <td>Overall</td>\n",
              "      <td>Race/Ethnicity</td>\n",
              "      <td>Overall</td>\n",
              "      <td>2017</td>\n",
              "      <td>67.2</td>\n",
              "      <td>per 100,000 population</td>\n",
              "      <td>2016</td>\n",
              "      <td>65.3</td>\n",
              "      <td>per 100,000 population</td>\n",
              "    </tr>\n",
              "    <tr>\n",
              "      <th>3</th>\n",
              "      <td>2050</td>\n",
              "      <td>AK</td>\n",
              "      <td>Bethel</td>\n",
              "      <td>60.923648</td>\n",
              "      <td>-159.753262</td>\n",
              "      <td>Cardiovascular Diseases</td>\n",
              "      <td>Stroke Mortality</td>\n",
              "      <td>Gender</td>\n",
              "      <td>Overall</td>\n",
              "      <td>Race/Ethnicity</td>\n",
              "      <td>Overall</td>\n",
              "      <td>2017</td>\n",
              "      <td>104.6</td>\n",
              "      <td>per 100,000 population</td>\n",
              "      <td>2016</td>\n",
              "      <td>101.4</td>\n",
              "      <td>per 100,000 population</td>\n",
              "    </tr>\n",
              "    <tr>\n",
              "      <th>4</th>\n",
              "      <td>2060</td>\n",
              "      <td>AK</td>\n",
              "      <td>Bristol Bay</td>\n",
              "      <td>58.753496</td>\n",
              "      <td>-156.694662</td>\n",
              "      <td>Cardiovascular Diseases</td>\n",
              "      <td>Stroke Mortality</td>\n",
              "      <td>Gender</td>\n",
              "      <td>Overall</td>\n",
              "      <td>Race/Ethnicity</td>\n",
              "      <td>Overall</td>\n",
              "      <td>2017</td>\n",
              "      <td>-1.0</td>\n",
              "      <td>per 100,000 population</td>\n",
              "      <td>2016</td>\n",
              "      <td>-1.0</td>\n",
              "      <td>per 100,000 population</td>\n",
              "    </tr>\n",
              "  </tbody>\n",
              "</table>\n",
              "</div>"
            ],
            "text/plain": [
              "   locationID state          county        lat         lon  \\\n",
              "0        2013    AK  Aleutians East  55.442393 -161.959930   \n",
              "1        2016    AK  Aleutians West  53.648343 -166.917533   \n",
              "2        2020    AK       Anchorage  61.159145 -149.104559   \n",
              "3        2050    AK          Bethel  60.923648 -159.753262   \n",
              "4        2060    AK     Bristol Bay  58.753496 -156.694662   \n",
              "\n",
              "                     class             topic stratificationcategory1  \\\n",
              "0  Cardiovascular Diseases  Stroke Mortality                  Gender   \n",
              "1  Cardiovascular Diseases  Stroke Mortality                  Gender   \n",
              "2  Cardiovascular Diseases  Stroke Mortality                  Gender   \n",
              "3  Cardiovascular Diseases  Stroke Mortality                  Gender   \n",
              "4  Cardiovascular Diseases  Stroke Mortality                  Gender   \n",
              "\n",
              "  stratification1 stratificationcategory2 stratification2  year_x  \\\n",
              "0         Overall          Race/Ethnicity         Overall    2017   \n",
              "1         Overall          Race/Ethnicity         Overall    2017   \n",
              "2         Overall          Race/Ethnicity         Overall    2017   \n",
              "3         Overall          Race/Ethnicity         Overall    2017   \n",
              "4         Overall          Race/Ethnicity         Overall    2017   \n",
              "\n",
              "   data_value_x       data_value_unit_x  year_y  data_value_y  \\\n",
              "0           2.0  per 100,000 population    2016           2.0   \n",
              "1           0.0  per 100,000 population    2016           0.0   \n",
              "2          67.2  per 100,000 population    2016          65.3   \n",
              "3         104.6  per 100,000 population    2016         101.4   \n",
              "4          -1.0  per 100,000 population    2016          -1.0   \n",
              "\n",
              "        data_value_unit_y  \n",
              "0  per 100,000 population  \n",
              "1  per 100,000 population  \n",
              "2  per 100,000 population  \n",
              "3  per 100,000 population  \n",
              "4  per 100,000 population  "
            ]
          },
          "metadata": {
            "tags": []
          },
          "execution_count": 91
        }
      ]
    },
    {
      "cell_type": "code",
      "metadata": {
        "id": "cwdcvskpLRlJ",
        "colab_type": "code",
        "colab": {
          "base_uri": "https://localhost:8080/",
          "height": 479
        },
        "outputId": "8b982856-786a-49d7-aef9-165eb463b241"
      },
      "source": [
        "# The data set at the API endpoint \n",
        "data_set=\"kgsi-35re\"   \n",
        "# Create the client to point to the API endpoint\n",
        "client = Socrata(data_url,\n",
        "                 MyAppToken,\n",
        "                 username=username,\n",
        "                 password=password)\n",
        "\n",
        "# Get the total number of records in our target data set\n",
        "record_count = client.get(data_set, select=\"COUNT(*)\")\n",
        "record_count\n",
        "# while loop to fectch the record_limit during each iteration\n",
        "start = 0             # Start at 0\n",
        "record_limit = 10000     # Fetch 2000 rows at a time\n",
        "results =[]           # Empty out our result list\n",
        "while True:\n",
        "     # Fetch the set of records starting at 'start'\n",
        "     results.extend( client.get(data_set, offset=start, limit=record_limit))\n",
        "     # Move up the starting record\n",
        "     start = start + record_limit\n",
        "     # If we have fetched all of the records, bail out\n",
        "     if (start > int(record_count[0]['COUNT']) ):\n",
        "        break\n",
        "# Convert the list of dictionaries to a Pandas data frame        \n",
        "data_df = pd.DataFrame.from_records(results)\n",
        "\n",
        "data_df.head()\n"
      ],
      "execution_count": 98,
      "outputs": [
        {
          "output_type": "execute_result",
          "data": {
            "text/html": [
              "<div>\n",
              "<style scoped>\n",
              "    .dataframe tbody tr th:only-of-type {\n",
              "        vertical-align: middle;\n",
              "    }\n",
              "\n",
              "    .dataframe tbody tr th {\n",
              "        vertical-align: top;\n",
              "    }\n",
              "\n",
              "    .dataframe thead th {\n",
              "        text-align: right;\n",
              "    }\n",
              "</style>\n",
              "<table border=\"1\" class=\"dataframe\">\n",
              "  <thead>\n",
              "    <tr style=\"text-align: right;\">\n",
              "      <th></th>\n",
              "      <th>year</th>\n",
              "      <th>locationabbr</th>\n",
              "      <th>locationdesc</th>\n",
              "      <th>geographiclevel</th>\n",
              "      <th>datasource</th>\n",
              "      <th>class</th>\n",
              "      <th>topic</th>\n",
              "      <th>data_value</th>\n",
              "      <th>data_value_unit</th>\n",
              "      <th>data_value_type</th>\n",
              "      <th>stratificationcategory1</th>\n",
              "      <th>stratification1</th>\n",
              "      <th>stratificationcategory2</th>\n",
              "      <th>stratification2</th>\n",
              "      <th>topicid</th>\n",
              "      <th>locationid</th>\n",
              "      <th>location_1</th>\n",
              "      <th>:@computed_region_he4y_prf8</th>\n",
              "      <th>:@computed_region_bxsw_vy29</th>\n",
              "      <th>data_value_footnote_symbol</th>\n",
              "      <th>data_value_footnote</th>\n",
              "    </tr>\n",
              "  </thead>\n",
              "  <tbody>\n",
              "    <tr>\n",
              "      <th>0</th>\n",
              "      <td>2015</td>\n",
              "      <td>AR</td>\n",
              "      <td>Sharp County</td>\n",
              "      <td>County</td>\n",
              "      <td>NVSS</td>\n",
              "      <td>Cardiovascular Diseases</td>\n",
              "      <td>Stroke Mortality</td>\n",
              "      <td>63.5</td>\n",
              "      <td>per 100,000 population</td>\n",
              "      <td>Age-adjusted, Spatially Smoothed, 3-year Avera...</td>\n",
              "      <td>Gender</td>\n",
              "      <td>Female</td>\n",
              "      <td>Race/Ethnicity</td>\n",
              "      <td>White</td>\n",
              "      <td>T6</td>\n",
              "      <td>05135</td>\n",
              "      <td>{'latitude': '36.161901', 'longitude': '-91.48...</td>\n",
              "      <td>26</td>\n",
              "      <td>15</td>\n",
              "      <td>NaN</td>\n",
              "      <td>NaN</td>\n",
              "    </tr>\n",
              "    <tr>\n",
              "      <th>1</th>\n",
              "      <td>2015</td>\n",
              "      <td>OK</td>\n",
              "      <td>Muskogee County</td>\n",
              "      <td>County</td>\n",
              "      <td>NVSS</td>\n",
              "      <td>Cardiovascular Diseases</td>\n",
              "      <td>Stroke Mortality</td>\n",
              "      <td>NaN</td>\n",
              "      <td>per 100,000 population</td>\n",
              "      <td>Age-adjusted, Spatially Smoothed, 3-year Avera...</td>\n",
              "      <td>Gender</td>\n",
              "      <td>Female</td>\n",
              "      <td>Race/Ethnicity</td>\n",
              "      <td>Asian and Pacific Islander</td>\n",
              "      <td>T6</td>\n",
              "      <td>40101</td>\n",
              "      <td>{'latitude': '35.620474', 'longitude': '-95.37...</td>\n",
              "      <td>2208</td>\n",
              "      <td>20</td>\n",
              "      <td>~</td>\n",
              "      <td>Insufficient Data</td>\n",
              "    </tr>\n",
              "    <tr>\n",
              "      <th>2</th>\n",
              "      <td>2015</td>\n",
              "      <td>IN</td>\n",
              "      <td>Posey County</td>\n",
              "      <td>County</td>\n",
              "      <td>NVSS</td>\n",
              "      <td>Cardiovascular Diseases</td>\n",
              "      <td>Stroke Mortality</td>\n",
              "      <td>NaN</td>\n",
              "      <td>per 100,000 population</td>\n",
              "      <td>Age-adjusted, Spatially Smoothed, 3-year Avera...</td>\n",
              "      <td>Gender</td>\n",
              "      <td>Female</td>\n",
              "      <td>Race/Ethnicity</td>\n",
              "      <td>Asian and Pacific Islander</td>\n",
              "      <td>T6</td>\n",
              "      <td>18129</td>\n",
              "      <td>{'latitude': '38.022079', 'longitude': '-87.87...</td>\n",
              "      <td>1199</td>\n",
              "      <td>35</td>\n",
              "      <td>~</td>\n",
              "      <td>Insufficient Data</td>\n",
              "    </tr>\n",
              "    <tr>\n",
              "      <th>3</th>\n",
              "      <td>2015</td>\n",
              "      <td>OH</td>\n",
              "      <td>Gallia County</td>\n",
              "      <td>County</td>\n",
              "      <td>NVSS</td>\n",
              "      <td>Cardiovascular Diseases</td>\n",
              "      <td>Stroke Mortality</td>\n",
              "      <td>NaN</td>\n",
              "      <td>per 100,000 population</td>\n",
              "      <td>Age-adjusted, Spatially Smoothed, 3-year Avera...</td>\n",
              "      <td>Gender</td>\n",
              "      <td>Female</td>\n",
              "      <td>Race/Ethnicity</td>\n",
              "      <td>Asian and Pacific Islander</td>\n",
              "      <td>T6</td>\n",
              "      <td>39053</td>\n",
              "      <td>{'latitude': '38.822247', 'longitude': '-82.31...</td>\n",
              "      <td>581</td>\n",
              "      <td>38</td>\n",
              "      <td>~</td>\n",
              "      <td>Insufficient Data</td>\n",
              "    </tr>\n",
              "    <tr>\n",
              "      <th>4</th>\n",
              "      <td>2015</td>\n",
              "      <td>UT</td>\n",
              "      <td>Box Elder County</td>\n",
              "      <td>County</td>\n",
              "      <td>NVSS</td>\n",
              "      <td>Cardiovascular Diseases</td>\n",
              "      <td>Stroke Mortality</td>\n",
              "      <td>87.4</td>\n",
              "      <td>per 100,000 population</td>\n",
              "      <td>Age-adjusted, Spatially Smoothed, 3-year Avera...</td>\n",
              "      <td>Gender</td>\n",
              "      <td>Male</td>\n",
              "      <td>Race/Ethnicity</td>\n",
              "      <td>Hispanic</td>\n",
              "      <td>T6</td>\n",
              "      <td>49003</td>\n",
              "      <td>{'latitude': '41.522414', 'longitude': '-113.0...</td>\n",
              "      <td>2985</td>\n",
              "      <td>13</td>\n",
              "      <td>NaN</td>\n",
              "      <td>NaN</td>\n",
              "    </tr>\n",
              "  </tbody>\n",
              "</table>\n",
              "</div>"
            ],
            "text/plain": [
              "   year locationabbr      locationdesc geographiclevel datasource  \\\n",
              "0  2015           AR      Sharp County          County       NVSS   \n",
              "1  2015           OK   Muskogee County          County       NVSS   \n",
              "2  2015           IN      Posey County          County       NVSS   \n",
              "3  2015           OH     Gallia County          County       NVSS   \n",
              "4  2015           UT  Box Elder County          County       NVSS   \n",
              "\n",
              "                     class             topic data_value  \\\n",
              "0  Cardiovascular Diseases  Stroke Mortality       63.5   \n",
              "1  Cardiovascular Diseases  Stroke Mortality        NaN   \n",
              "2  Cardiovascular Diseases  Stroke Mortality        NaN   \n",
              "3  Cardiovascular Diseases  Stroke Mortality        NaN   \n",
              "4  Cardiovascular Diseases  Stroke Mortality       87.4   \n",
              "\n",
              "          data_value_unit                                    data_value_type  \\\n",
              "0  per 100,000 population  Age-adjusted, Spatially Smoothed, 3-year Avera...   \n",
              "1  per 100,000 population  Age-adjusted, Spatially Smoothed, 3-year Avera...   \n",
              "2  per 100,000 population  Age-adjusted, Spatially Smoothed, 3-year Avera...   \n",
              "3  per 100,000 population  Age-adjusted, Spatially Smoothed, 3-year Avera...   \n",
              "4  per 100,000 population  Age-adjusted, Spatially Smoothed, 3-year Avera...   \n",
              "\n",
              "  stratificationcategory1 stratification1 stratificationcategory2  \\\n",
              "0                  Gender          Female          Race/Ethnicity   \n",
              "1                  Gender          Female          Race/Ethnicity   \n",
              "2                  Gender          Female          Race/Ethnicity   \n",
              "3                  Gender          Female          Race/Ethnicity   \n",
              "4                  Gender            Male          Race/Ethnicity   \n",
              "\n",
              "              stratification2 topicid locationid  \\\n",
              "0                       White      T6      05135   \n",
              "1  Asian and Pacific Islander      T6      40101   \n",
              "2  Asian and Pacific Islander      T6      18129   \n",
              "3  Asian and Pacific Islander      T6      39053   \n",
              "4                    Hispanic      T6      49003   \n",
              "\n",
              "                                          location_1  \\\n",
              "0  {'latitude': '36.161901', 'longitude': '-91.48...   \n",
              "1  {'latitude': '35.620474', 'longitude': '-95.37...   \n",
              "2  {'latitude': '38.022079', 'longitude': '-87.87...   \n",
              "3  {'latitude': '38.822247', 'longitude': '-82.31...   \n",
              "4  {'latitude': '41.522414', 'longitude': '-113.0...   \n",
              "\n",
              "  :@computed_region_he4y_prf8 :@computed_region_bxsw_vy29  \\\n",
              "0                          26                          15   \n",
              "1                        2208                          20   \n",
              "2                        1199                          35   \n",
              "3                         581                          38   \n",
              "4                        2985                          13   \n",
              "\n",
              "  data_value_footnote_symbol data_value_footnote  \n",
              "0                        NaN                 NaN  \n",
              "1                          ~   Insufficient Data  \n",
              "2                          ~   Insufficient Data  \n",
              "3                          ~   Insufficient Data  \n",
              "4                        NaN                 NaN  "
            ]
          },
          "metadata": {
            "tags": []
          },
          "execution_count": 98
        }
      ]
    },
    {
      "cell_type": "code",
      "metadata": {
        "id": "mBr1j0tRUSEe",
        "colab_type": "code",
        "colab": {
          "base_uri": "https://localhost:8080/",
          "height": 391
        },
        "outputId": "3279d8b5-2365-4f15-af66-10821362bd95"
      },
      "source": [
        "data_df.dtypes\n"
      ],
      "execution_count": 97,
      "outputs": [
        {
          "output_type": "execute_result",
          "data": {
            "text/plain": [
              "year                             int64\n",
              "locationabbr                    object\n",
              "locationdesc                    object\n",
              "geographiclevel                 object\n",
              "datasource                      object\n",
              "class                           object\n",
              "topic                           object\n",
              "data_value                     float64\n",
              "data_value_unit                 object\n",
              "data_value_type                 object\n",
              "stratificationcategory1         object\n",
              "stratification1                 object\n",
              "stratificationcategory2         object\n",
              "stratification2                 object\n",
              "topicid                         object\n",
              "locationid                       int64\n",
              "location_1                      object\n",
              ":@computed_region_he4y_prf8     object\n",
              ":@computed_region_bxsw_vy29     object\n",
              "data_value_footnote_symbol      object\n",
              "data_value_footnote             object\n",
              "dtype: object"
            ]
          },
          "metadata": {
            "tags": []
          },
          "execution_count": 97
        }
      ]
    },
    {
      "cell_type": "code",
      "metadata": {
        "id": "pneILMmpWD1p",
        "colab_type": "code",
        "colab": {
          "base_uri": "https://localhost:8080/",
          "height": 35
        },
        "outputId": "9cdfc6c3-5f40-4c9f-90f4-060d8631835b"
      },
      "source": [
        "# Separate Location1 into lat and lon\n",
        "data_df['location_1'][1]['latitude']\n",
        "\n",
        "# data_df['y_lat'], data_df['x_lon'] = data_df['location_1'][1].split(',', 2).str\n",
        "# data_df."
      ],
      "execution_count": 105,
      "outputs": [
        {
          "output_type": "execute_result",
          "data": {
            "application/vnd.google.colaboratory.intrinsic+json": {
              "type": "string"
            },
            "text/plain": [
              "'35.620474'"
            ]
          },
          "metadata": {
            "tags": []
          },
          "execution_count": 105
        }
      ]
    },
    {
      "cell_type": "code",
      "metadata": {
        "id": "SJOd20zcT9WQ",
        "colab_type": "code",
        "colab": {
          "base_uri": "https://localhost:8080/",
          "height": 697
        },
        "outputId": "891829b4-9dd1-45c4-fee1-abceb7f41bd1"
      },
      "source": [
        "data_df['year'] = pd.to_numeric(data_df['year'])\n",
        "data_df['locationid'] = pd.to_numeric(data_df['locationid'])\n",
        "data_df['data_value'] = pd.to_numeric(data_df['data_value'])\n",
        "data_df['y_lat'] = pd.to_numeric(data_df['y_lat'])\n",
        "data_df['x_lon'] = pd.to_numeric(data_df['x_lon'])"
      ],
      "execution_count": 96,
      "outputs": [
        {
          "output_type": "error",
          "ename": "KeyError",
          "evalue": "ignored",
          "traceback": [
            "\u001b[0;31m---------------------------------------------------------------------------\u001b[0m",
            "\u001b[0;31mKeyError\u001b[0m                                  Traceback (most recent call last)",
            "\u001b[0;32m/usr/local/lib/python3.6/dist-packages/pandas/core/indexes/base.py\u001b[0m in \u001b[0;36mget_loc\u001b[0;34m(self, key, method, tolerance)\u001b[0m\n\u001b[1;32m   2645\u001b[0m             \u001b[0;32mtry\u001b[0m\u001b[0;34m:\u001b[0m\u001b[0;34m\u001b[0m\u001b[0;34m\u001b[0m\u001b[0m\n\u001b[0;32m-> 2646\u001b[0;31m                 \u001b[0;32mreturn\u001b[0m \u001b[0mself\u001b[0m\u001b[0;34m.\u001b[0m\u001b[0m_engine\u001b[0m\u001b[0;34m.\u001b[0m\u001b[0mget_loc\u001b[0m\u001b[0;34m(\u001b[0m\u001b[0mkey\u001b[0m\u001b[0;34m)\u001b[0m\u001b[0;34m\u001b[0m\u001b[0;34m\u001b[0m\u001b[0m\n\u001b[0m\u001b[1;32m   2647\u001b[0m             \u001b[0;32mexcept\u001b[0m \u001b[0mKeyError\u001b[0m\u001b[0;34m:\u001b[0m\u001b[0;34m\u001b[0m\u001b[0;34m\u001b[0m\u001b[0m\n",
            "\u001b[0;32mpandas/_libs/index.pyx\u001b[0m in \u001b[0;36mpandas._libs.index.IndexEngine.get_loc\u001b[0;34m()\u001b[0m\n",
            "\u001b[0;32mpandas/_libs/index.pyx\u001b[0m in \u001b[0;36mpandas._libs.index.IndexEngine.get_loc\u001b[0;34m()\u001b[0m\n",
            "\u001b[0;32mpandas/_libs/hashtable_class_helper.pxi\u001b[0m in \u001b[0;36mpandas._libs.hashtable.PyObjectHashTable.get_item\u001b[0;34m()\u001b[0m\n",
            "\u001b[0;32mpandas/_libs/hashtable_class_helper.pxi\u001b[0m in \u001b[0;36mpandas._libs.hashtable.PyObjectHashTable.get_item\u001b[0;34m()\u001b[0m\n",
            "\u001b[0;31mKeyError\u001b[0m: 'y_lat'",
            "\nDuring handling of the above exception, another exception occurred:\n",
            "\u001b[0;31mKeyError\u001b[0m                                  Traceback (most recent call last)",
            "\u001b[0;32m<ipython-input-96-78f1d3c8bee6>\u001b[0m in \u001b[0;36m<module>\u001b[0;34m()\u001b[0m\n\u001b[1;32m      2\u001b[0m \u001b[0mdata_df\u001b[0m\u001b[0;34m[\u001b[0m\u001b[0;34m'locationid'\u001b[0m\u001b[0;34m]\u001b[0m \u001b[0;34m=\u001b[0m \u001b[0mpd\u001b[0m\u001b[0;34m.\u001b[0m\u001b[0mto_numeric\u001b[0m\u001b[0;34m(\u001b[0m\u001b[0mdata_df\u001b[0m\u001b[0;34m[\u001b[0m\u001b[0;34m'locationid'\u001b[0m\u001b[0;34m]\u001b[0m\u001b[0;34m)\u001b[0m\u001b[0;34m\u001b[0m\u001b[0;34m\u001b[0m\u001b[0m\n\u001b[1;32m      3\u001b[0m \u001b[0mdata_df\u001b[0m\u001b[0;34m[\u001b[0m\u001b[0;34m'data_value'\u001b[0m\u001b[0;34m]\u001b[0m \u001b[0;34m=\u001b[0m \u001b[0mpd\u001b[0m\u001b[0;34m.\u001b[0m\u001b[0mto_numeric\u001b[0m\u001b[0;34m(\u001b[0m\u001b[0mdata_df\u001b[0m\u001b[0;34m[\u001b[0m\u001b[0;34m'data_value'\u001b[0m\u001b[0;34m]\u001b[0m\u001b[0;34m)\u001b[0m\u001b[0;34m\u001b[0m\u001b[0;34m\u001b[0m\u001b[0m\n\u001b[0;32m----> 4\u001b[0;31m \u001b[0mdata_df\u001b[0m\u001b[0;34m[\u001b[0m\u001b[0;34m'y_lat'\u001b[0m\u001b[0;34m]\u001b[0m \u001b[0;34m=\u001b[0m \u001b[0mpd\u001b[0m\u001b[0;34m.\u001b[0m\u001b[0mto_numeric\u001b[0m\u001b[0;34m(\u001b[0m\u001b[0mdata_df\u001b[0m\u001b[0;34m[\u001b[0m\u001b[0;34m'y_lat'\u001b[0m\u001b[0;34m]\u001b[0m\u001b[0;34m)\u001b[0m\u001b[0;34m\u001b[0m\u001b[0;34m\u001b[0m\u001b[0m\n\u001b[0m\u001b[1;32m      5\u001b[0m \u001b[0mdata_df\u001b[0m\u001b[0;34m[\u001b[0m\u001b[0;34m'x_lon'\u001b[0m\u001b[0;34m]\u001b[0m \u001b[0;34m=\u001b[0m \u001b[0mpd\u001b[0m\u001b[0;34m.\u001b[0m\u001b[0mto_numeric\u001b[0m\u001b[0;34m(\u001b[0m\u001b[0mdata_df\u001b[0m\u001b[0;34m[\u001b[0m\u001b[0;34m'x_lon'\u001b[0m\u001b[0;34m]\u001b[0m\u001b[0;34m)\u001b[0m\u001b[0;34m\u001b[0m\u001b[0;34m\u001b[0m\u001b[0m\n",
            "\u001b[0;32m/usr/local/lib/python3.6/dist-packages/pandas/core/frame.py\u001b[0m in \u001b[0;36m__getitem__\u001b[0;34m(self, key)\u001b[0m\n\u001b[1;32m   2798\u001b[0m             \u001b[0;32mif\u001b[0m \u001b[0mself\u001b[0m\u001b[0;34m.\u001b[0m\u001b[0mcolumns\u001b[0m\u001b[0;34m.\u001b[0m\u001b[0mnlevels\u001b[0m \u001b[0;34m>\u001b[0m \u001b[0;36m1\u001b[0m\u001b[0;34m:\u001b[0m\u001b[0;34m\u001b[0m\u001b[0;34m\u001b[0m\u001b[0m\n\u001b[1;32m   2799\u001b[0m                 \u001b[0;32mreturn\u001b[0m \u001b[0mself\u001b[0m\u001b[0;34m.\u001b[0m\u001b[0m_getitem_multilevel\u001b[0m\u001b[0;34m(\u001b[0m\u001b[0mkey\u001b[0m\u001b[0;34m)\u001b[0m\u001b[0;34m\u001b[0m\u001b[0;34m\u001b[0m\u001b[0m\n\u001b[0;32m-> 2800\u001b[0;31m             \u001b[0mindexer\u001b[0m \u001b[0;34m=\u001b[0m \u001b[0mself\u001b[0m\u001b[0;34m.\u001b[0m\u001b[0mcolumns\u001b[0m\u001b[0;34m.\u001b[0m\u001b[0mget_loc\u001b[0m\u001b[0;34m(\u001b[0m\u001b[0mkey\u001b[0m\u001b[0;34m)\u001b[0m\u001b[0;34m\u001b[0m\u001b[0;34m\u001b[0m\u001b[0m\n\u001b[0m\u001b[1;32m   2801\u001b[0m             \u001b[0;32mif\u001b[0m \u001b[0mis_integer\u001b[0m\u001b[0;34m(\u001b[0m\u001b[0mindexer\u001b[0m\u001b[0;34m)\u001b[0m\u001b[0;34m:\u001b[0m\u001b[0;34m\u001b[0m\u001b[0;34m\u001b[0m\u001b[0m\n\u001b[1;32m   2802\u001b[0m                 \u001b[0mindexer\u001b[0m \u001b[0;34m=\u001b[0m \u001b[0;34m[\u001b[0m\u001b[0mindexer\u001b[0m\u001b[0;34m]\u001b[0m\u001b[0;34m\u001b[0m\u001b[0;34m\u001b[0m\u001b[0m\n",
            "\u001b[0;32m/usr/local/lib/python3.6/dist-packages/pandas/core/indexes/base.py\u001b[0m in \u001b[0;36mget_loc\u001b[0;34m(self, key, method, tolerance)\u001b[0m\n\u001b[1;32m   2646\u001b[0m                 \u001b[0;32mreturn\u001b[0m \u001b[0mself\u001b[0m\u001b[0;34m.\u001b[0m\u001b[0m_engine\u001b[0m\u001b[0;34m.\u001b[0m\u001b[0mget_loc\u001b[0m\u001b[0;34m(\u001b[0m\u001b[0mkey\u001b[0m\u001b[0;34m)\u001b[0m\u001b[0;34m\u001b[0m\u001b[0;34m\u001b[0m\u001b[0m\n\u001b[1;32m   2647\u001b[0m             \u001b[0;32mexcept\u001b[0m \u001b[0mKeyError\u001b[0m\u001b[0;34m:\u001b[0m\u001b[0;34m\u001b[0m\u001b[0;34m\u001b[0m\u001b[0m\n\u001b[0;32m-> 2648\u001b[0;31m                 \u001b[0;32mreturn\u001b[0m \u001b[0mself\u001b[0m\u001b[0;34m.\u001b[0m\u001b[0m_engine\u001b[0m\u001b[0;34m.\u001b[0m\u001b[0mget_loc\u001b[0m\u001b[0;34m(\u001b[0m\u001b[0mself\u001b[0m\u001b[0;34m.\u001b[0m\u001b[0m_maybe_cast_indexer\u001b[0m\u001b[0;34m(\u001b[0m\u001b[0mkey\u001b[0m\u001b[0;34m)\u001b[0m\u001b[0;34m)\u001b[0m\u001b[0;34m\u001b[0m\u001b[0;34m\u001b[0m\u001b[0m\n\u001b[0m\u001b[1;32m   2649\u001b[0m         \u001b[0mindexer\u001b[0m \u001b[0;34m=\u001b[0m \u001b[0mself\u001b[0m\u001b[0;34m.\u001b[0m\u001b[0mget_indexer\u001b[0m\u001b[0;34m(\u001b[0m\u001b[0;34m[\u001b[0m\u001b[0mkey\u001b[0m\u001b[0;34m]\u001b[0m\u001b[0;34m,\u001b[0m \u001b[0mmethod\u001b[0m\u001b[0;34m=\u001b[0m\u001b[0mmethod\u001b[0m\u001b[0;34m,\u001b[0m \u001b[0mtolerance\u001b[0m\u001b[0;34m=\u001b[0m\u001b[0mtolerance\u001b[0m\u001b[0;34m)\u001b[0m\u001b[0;34m\u001b[0m\u001b[0;34m\u001b[0m\u001b[0m\n\u001b[1;32m   2650\u001b[0m         \u001b[0;32mif\u001b[0m \u001b[0mindexer\u001b[0m\u001b[0;34m.\u001b[0m\u001b[0mndim\u001b[0m \u001b[0;34m>\u001b[0m \u001b[0;36m1\u001b[0m \u001b[0;32mor\u001b[0m \u001b[0mindexer\u001b[0m\u001b[0;34m.\u001b[0m\u001b[0msize\u001b[0m \u001b[0;34m>\u001b[0m \u001b[0;36m1\u001b[0m\u001b[0;34m:\u001b[0m\u001b[0;34m\u001b[0m\u001b[0;34m\u001b[0m\u001b[0m\n",
            "\u001b[0;32mpandas/_libs/index.pyx\u001b[0m in \u001b[0;36mpandas._libs.index.IndexEngine.get_loc\u001b[0;34m()\u001b[0m\n",
            "\u001b[0;32mpandas/_libs/index.pyx\u001b[0m in \u001b[0;36mpandas._libs.index.IndexEngine.get_loc\u001b[0;34m()\u001b[0m\n",
            "\u001b[0;32mpandas/_libs/hashtable_class_helper.pxi\u001b[0m in \u001b[0;36mpandas._libs.hashtable.PyObjectHashTable.get_item\u001b[0;34m()\u001b[0m\n",
            "\u001b[0;32mpandas/_libs/hashtable_class_helper.pxi\u001b[0m in \u001b[0;36mpandas._libs.hashtable.PyObjectHashTable.get_item\u001b[0;34m()\u001b[0m\n",
            "\u001b[0;31mKeyError\u001b[0m: 'y_lat'"
          ]
        }
      ]
    },
    {
      "cell_type": "code",
      "metadata": {
        "id": "A288I3AzT0Oe",
        "colab_type": "code",
        "colab": {}
      },
      "source": [
        "# reorganize columns\n",
        "datasub_df = data_df[['locationid','locationabbr','locationdesc','y_lat','x_lon',\n",
        "                      'class','topic','stratificationcategory1', 'stratification1' ,\n",
        "                      'stratificationcategory2' , 'stratification2' ,'year','data_value','data_value_unit']] \n",
        "\n",
        "#Rename columns \n",
        "datasub_df = datasub_df.rename(columns={\"locationid\":\"locationID\", \"y_lat\":\"lat\", \"x_lon\":\"lon\",\"locationabbr\":\"state\", \"locationdesc\": \"county\"})\n",
        "\n",
        "#In this case the counties that had missing values will be changed by -1 to be easily recognizable\n",
        "datasub_df['data_value']= datasub_df['data_value'].fillna(-1)\n",
        "\n",
        "datasub_df.head()\n"
      ],
      "execution_count": null,
      "outputs": []
    },
    {
      "cell_type": "code",
      "metadata": {
        "id": "1NML4JuaTRG4",
        "colab_type": "code",
        "colab": {}
      },
      "source": [
        "# Merge confirmed and deaths df on all common columns\n",
        "semicombined_df = pd.merge(semicombined_df, datasub_df, on=['locationID','state', 'county', 'lat', 'lon',\n",
        "                                                        'class', 'topic', \n",
        "                                                        'stratificationcategory1','stratification1', 'stratificationcategory2', 'stratification2'])\n",
        "semicombined_df.head()"
      ],
      "execution_count": 92,
      "outputs": []
    },
    {
      "cell_type": "code",
      "metadata": {
        "id": "G_MvWpI8TSFG",
        "colab_type": "code",
        "colab": {}
      },
      "source": [
        ""
      ],
      "execution_count": 92,
      "outputs": []
    },
    {
      "cell_type": "code",
      "metadata": {
        "id": "mQJ1iTtbTSeZ",
        "colab_type": "code",
        "colab": {}
      },
      "source": [
        ""
      ],
      "execution_count": null,
      "outputs": []
    },
    {
      "cell_type": "code",
      "metadata": {
        "id": "V1QrMU1nZtb9",
        "colab_type": "code",
        "colab": {}
      },
      "source": [
        "# Save Cleaned/Organized df to csv\n",
        "clean_df.to_csv(\"assets/data/stroke_death_clean.csv\", index=False)\n"
      ],
      "execution_count": null,
      "outputs": []
    },
    {
      "cell_type": "code",
      "metadata": {
        "id": "37r4h_lqZtcA",
        "colab_type": "code",
        "colab": {}
      },
      "source": [
        ""
      ],
      "execution_count": null,
      "outputs": []
    },
    {
      "cell_type": "code",
      "metadata": {
        "id": "ZxIKYRgKZtcD",
        "colab_type": "code",
        "colab": {}
      },
      "source": [
        ""
      ],
      "execution_count": null,
      "outputs": []
    },
    {
      "cell_type": "code",
      "metadata": {
        "id": "aufuKPvJZtcG",
        "colab_type": "code",
        "colab": {}
      },
      "source": [
        ""
      ],
      "execution_count": null,
      "outputs": []
    },
    {
      "cell_type": "code",
      "metadata": {
        "id": "sCQHt2VBZtcI",
        "colab_type": "code",
        "colab": {}
      },
      "source": [
        ""
      ],
      "execution_count": null,
      "outputs": []
    }
  ]
}