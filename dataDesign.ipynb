{
  "nbformat": 4,
  "nbformat_minor": 0,
  "metadata": {
    "kernelspec": {
      "display_name": "Python 3",
      "language": "python",
      "name": "python3"
    },
    "language_info": {
      "codemirror_mode": {
        "name": "ipython",
        "version": 3
      },
      "file_extension": ".py",
      "mimetype": "text/x-python",
      "name": "python",
      "nbconvert_exporter": "python",
      "pygments_lexer": "ipython3",
      "version": "3.7.3"
    },
    "colab": {
      "name": "dataDesign.ipynb",
      "provenance": [],
      "collapsed_sections": []
    }
  },
  "cells": [
    {
      "cell_type": "markdown",
      "metadata": {
        "id": "DC4jj1GDZtbV",
        "colab_type": "text"
      },
      "source": [
        "# Data from https://chronicdata.cdc.gov/Heart-Disease-Stroke-Prevention/Stroke-Mortality-Data-Among-US-Adults-35-by-State-/tqwu-4a7k \n",
        "\n",
        "# https://data.cdc.gov/browse?limitTo=datasets&q=stroke&sortBy=last_modified&utf8=%E2%9C%93"
      ]
    },
    {
      "cell_type": "code",
      "metadata": {
        "scrolled": true,
        "id": "J_zeRJKLZtbZ",
        "colab_type": "code",
        "colab": {
          "base_uri": "https://localhost:8080/",
          "height": 139
        },
        "outputId": "bfc5669b-63ef-47c6-9341-cb23a82f978a"
      },
      "source": [
        "# make sure to install this package before running:\n",
        "# python -m pip install --upgrade pip\n",
        "!pip install sodapy"
      ],
      "execution_count": 27,
      "outputs": [
        {
          "output_type": "stream",
          "text": [
            "Requirement already satisfied: sodapy in /usr/local/lib/python3.6/dist-packages (2.1.0)\n",
            "Requirement already satisfied: requests>=2.20.0 in /usr/local/lib/python3.6/dist-packages (from sodapy) (2.23.0)\n",
            "Requirement already satisfied: chardet<4,>=3.0.2 in /usr/local/lib/python3.6/dist-packages (from requests>=2.20.0->sodapy) (3.0.4)\n",
            "Requirement already satisfied: idna<3,>=2.5 in /usr/local/lib/python3.6/dist-packages (from requests>=2.20.0->sodapy) (2.10)\n",
            "Requirement already satisfied: certifi>=2017.4.17 in /usr/local/lib/python3.6/dist-packages (from requests>=2.20.0->sodapy) (2020.6.20)\n",
            "Requirement already satisfied: urllib3!=1.25.0,!=1.25.1,<1.26,>=1.21.1 in /usr/local/lib/python3.6/dist-packages (from requests>=2.20.0->sodapy) (1.24.3)\n"
          ],
          "name": "stdout"
        }
      ]
    },
    {
      "cell_type": "code",
      "metadata": {
        "id": "hfUjuXLlZtbf",
        "colab_type": "code",
        "colab": {}
      },
      "source": [
        "import pandas as pd\n",
        "pd.set_option('display.max_columns', 30)\n",
        "import numpy as np\n",
        "import seaborn as sns\n",
        "import warnings\n",
        "warnings.filterwarnings(\"ignore\")\n",
        "\n",
        "from sodapy import Socrata"
      ],
      "execution_count": 77,
      "outputs": []
    },
    {
      "cell_type": "markdown",
      "metadata": {
        "id": "2HLRNwR2eJeZ",
        "colab_type": "text"
      },
      "source": [
        "National Vital Statistics System (NVSS) - National Cardiovascular Disease Surveillance Data\n",
        "Dataset Identifier: kztq-p2jf\n",
        "Total Rows: 158080\n",
        "Source Domain: chronicdata.cdc.gov\n",
        "\n",
        "Stroke Mortality Data Among US Adults (35+) by State/Territory and County 2016-2018\n",
        "Dataset Identifier: tqwu-4a7k\n",
        "Total Rows: 59094\n",
        "Source Domain: chronicdata.cdc.gov\n",
        "\n",
        "\n",
        "\n",
        "\n",
        "\n",
        "\n"
      ]
    },
    {
      "cell_type": "code",
      "metadata": {
        "id": "NaWtMr0fZtbi",
        "colab_type": "code",
        "colab": {
          "base_uri": "https://localhost:8080/",
          "height": 34
        },
        "outputId": "30c6d5e4-2feb-43c8-e28a-859801f9e27d"
      },
      "source": [
        "# data\n",
        "# data = \"assets/data/Stroke_Mortality_Data_Among_US_Adults__35___by_State_Territory_and_County___2016-2018.csv\"\n",
        "\n",
        "# The Host Name for the API endpoint (the https:// part will be added automatically)\n",
        "\n",
        "data_url='chronicdata.cdc.gov'\n",
        "\n",
        "# The data set at the API endpoint \n",
        "data_set=\"tqwu-4a7k\"   \n",
        "\n",
        "# The app token created in the prior steps\n",
        "MyAppToken='px7JjOQLMt0zT2f5o7utbLBcj'\n",
        "username=\"mpmarinkovic@gmail.com\"\n",
        "password=\"!00Hagase\"\n",
        "\n",
        "# Create the client to point to the API endpoint\n",
        "client = Socrata(data_url,\n",
        "                 MyAppToken,\n",
        "                 username=username,\n",
        "                 password=password)\n",
        "\n",
        "     \n",
        "# Set the timeout to 60 seconds    \n",
        "client.timeout = 60\n",
        "print (client)\n"
      ],
      "execution_count": 71,
      "outputs": [
        {
          "output_type": "stream",
          "text": [
            "<sodapy.socrata.Socrata object at 0x7fee844a6b70>\n"
          ],
          "name": "stdout"
        }
      ]
    },
    {
      "cell_type": "code",
      "metadata": {
        "id": "x5JsJysqa8Ll",
        "colab_type": "code",
        "colab": {
          "base_uri": "https://localhost:8080/",
          "height": 357
        },
        "outputId": "69470840-3a2a-4f16-825c-6dc203964e2a"
      },
      "source": [
        "# Get metadata about the target data set\n",
        "metadata = client.get_metadata(data_set)\n",
        "[x['name'] for x in metadata['columns']]"
      ],
      "execution_count": 72,
      "outputs": [
        {
          "output_type": "execute_result",
          "data": {
            "text/plain": [
              "['Year',\n",
              " 'LocationAbbr',\n",
              " 'LocationDesc',\n",
              " 'GeographicLevel',\n",
              " 'DataSource',\n",
              " 'Class',\n",
              " 'Topic',\n",
              " 'Data_Value',\n",
              " 'Data_Value_Unit',\n",
              " 'Data_Value_Type',\n",
              " 'Data_Value_Footnote_Symbol',\n",
              " 'Data_Value_Footnote',\n",
              " 'StratificationCategory1',\n",
              " 'Stratification1',\n",
              " 'StratificationCategory2',\n",
              " 'Stratification2',\n",
              " 'TopicID',\n",
              " 'LocationID',\n",
              " 'Y_lat',\n",
              " 'X_lon']"
            ]
          },
          "metadata": {
            "tags": []
          },
          "execution_count": 72
        }
      ]
    },
    {
      "cell_type": "code",
      "metadata": {
        "id": "0V1r_CvddKZY",
        "colab_type": "code",
        "colab": {
          "base_uri": "https://localhost:8080/",
          "height": 629
        },
        "outputId": "9a4ff220-2561-4621-ffa5-8ebdb655b2d2"
      },
      "source": [
        "# The SoDaPy library converts this JSON object to a Python list of dictionaries\n",
        "# SODA APIs are paged, and return a maximum of 50,000 records per page\n",
        "# good practice to split up the request into multiple smaller queries \n",
        "\n",
        "# Get the total number of records in our target data set\n",
        "record_count = client.get(data_set, select=\"COUNT(*)\")\n",
        "record_count\n",
        "# while loop to fectch the record_limit during each iteration\n",
        "start = 0             # Start at 0\n",
        "record_limit = 10000     # Fetch 2000 rows at a time\n",
        "results =[]           # Empty out our result list\n",
        "while True:\n",
        "     # Fetch the set of records starting at 'start'\n",
        "     results.extend( client.get(data_set, offset=start, limit=record_limit))\n",
        "     # Move up the starting record\n",
        "     start = start + record_limit\n",
        "     # If we have fetched all of the records, bail out\n",
        "     if (start > int(record_count[0]['COUNT']) ):\n",
        "        break\n",
        "\n",
        "\n",
        "results1 = client.get(data_set, limit=2)\n",
        "results1"
      ],
      "execution_count": 73,
      "outputs": [
        {
          "output_type": "execute_result",
          "data": {
            "text/plain": [
              "[{'class': 'Cardiovascular Diseases',\n",
              "  'data_value': '2',\n",
              "  'data_value_type': 'Age-adjusted, Spatially Smoothed, 3-year Average Rate',\n",
              "  'data_value_unit': 'per 100,000 population',\n",
              "  'datasource': 'NVSS',\n",
              "  'geographiclevel': 'County',\n",
              "  'locationabbr': 'AK',\n",
              "  'locationdesc': 'Aleutians East',\n",
              "  'locationid': '02013',\n",
              "  'stratification1': 'Overall',\n",
              "  'stratification2': 'Overall',\n",
              "  'stratificationcategory1': 'Gender',\n",
              "  'stratificationcategory2': 'Race/Ethnicity',\n",
              "  'topic': 'Stroke Mortality',\n",
              "  'topicid': 'T6',\n",
              "  'x_lon': '-161.9599296',\n",
              "  'y_lat': '55.442393334',\n",
              "  'year': '2017'},\n",
              " {'class': 'Cardiovascular Diseases',\n",
              "  'data_value': '0',\n",
              "  'data_value_type': 'Age-adjusted, Spatially Smoothed, 3-year Average Rate',\n",
              "  'data_value_unit': 'per 100,000 population',\n",
              "  'datasource': 'NVSS',\n",
              "  'geographiclevel': 'County',\n",
              "  'locationabbr': 'AK',\n",
              "  'locationdesc': 'Aleutians West',\n",
              "  'locationid': '02016',\n",
              "  'stratification1': 'Overall',\n",
              "  'stratification2': 'Overall',\n",
              "  'stratificationcategory1': 'Gender',\n",
              "  'stratificationcategory2': 'Race/Ethnicity',\n",
              "  'topic': 'Stroke Mortality',\n",
              "  'topicid': 'T6',\n",
              "  'x_lon': '-166.9175329',\n",
              "  'y_lat': '53.648343064',\n",
              "  'year': '2017'}]"
            ]
          },
          "metadata": {
            "tags": []
          },
          "execution_count": 73
        }
      ]
    },
    {
      "cell_type": "code",
      "metadata": {
        "id": "ATqWNoFCKYe9",
        "colab_type": "code",
        "colab": {
          "base_uri": "https://localhost:8080/",
          "height": 233
        },
        "outputId": "5dbff325-6787-46eb-bb29-baa3dcd1c5d4"
      },
      "source": [
        "# Convert the list of dictionaries to a Pandas data frame\n",
        "data_df = pd.DataFrame.from_records(results1, coerce_float=True)\n",
        "data_df.head(10)\n",
        "# Save the data frame to a CSV file\n",
        "# df.to_csv(\"my_311_data.csv\")"
      ],
      "execution_count": 79,
      "outputs": [
        {
          "output_type": "execute_result",
          "data": {
            "text/html": [
              "<div>\n",
              "<style scoped>\n",
              "    .dataframe tbody tr th:only-of-type {\n",
              "        vertical-align: middle;\n",
              "    }\n",
              "\n",
              "    .dataframe tbody tr th {\n",
              "        vertical-align: top;\n",
              "    }\n",
              "\n",
              "    .dataframe thead th {\n",
              "        text-align: right;\n",
              "    }\n",
              "</style>\n",
              "<table border=\"1\" class=\"dataframe\">\n",
              "  <thead>\n",
              "    <tr style=\"text-align: right;\">\n",
              "      <th></th>\n",
              "      <th>year</th>\n",
              "      <th>locationabbr</th>\n",
              "      <th>locationdesc</th>\n",
              "      <th>geographiclevel</th>\n",
              "      <th>datasource</th>\n",
              "      <th>class</th>\n",
              "      <th>topic</th>\n",
              "      <th>data_value</th>\n",
              "      <th>data_value_unit</th>\n",
              "      <th>data_value_type</th>\n",
              "      <th>stratificationcategory1</th>\n",
              "      <th>stratification1</th>\n",
              "      <th>stratificationcategory2</th>\n",
              "      <th>stratification2</th>\n",
              "      <th>topicid</th>\n",
              "      <th>locationid</th>\n",
              "      <th>y_lat</th>\n",
              "      <th>x_lon</th>\n",
              "    </tr>\n",
              "  </thead>\n",
              "  <tbody>\n",
              "    <tr>\n",
              "      <th>0</th>\n",
              "      <td>2017</td>\n",
              "      <td>AK</td>\n",
              "      <td>Aleutians East</td>\n",
              "      <td>County</td>\n",
              "      <td>NVSS</td>\n",
              "      <td>Cardiovascular Diseases</td>\n",
              "      <td>Stroke Mortality</td>\n",
              "      <td>2</td>\n",
              "      <td>per 100,000 population</td>\n",
              "      <td>Age-adjusted, Spatially Smoothed, 3-year Avera...</td>\n",
              "      <td>Gender</td>\n",
              "      <td>Overall</td>\n",
              "      <td>Race/Ethnicity</td>\n",
              "      <td>Overall</td>\n",
              "      <td>T6</td>\n",
              "      <td>02013</td>\n",
              "      <td>55.442393334</td>\n",
              "      <td>-161.9599296</td>\n",
              "    </tr>\n",
              "    <tr>\n",
              "      <th>1</th>\n",
              "      <td>2017</td>\n",
              "      <td>AK</td>\n",
              "      <td>Aleutians West</td>\n",
              "      <td>County</td>\n",
              "      <td>NVSS</td>\n",
              "      <td>Cardiovascular Diseases</td>\n",
              "      <td>Stroke Mortality</td>\n",
              "      <td>0</td>\n",
              "      <td>per 100,000 population</td>\n",
              "      <td>Age-adjusted, Spatially Smoothed, 3-year Avera...</td>\n",
              "      <td>Gender</td>\n",
              "      <td>Overall</td>\n",
              "      <td>Race/Ethnicity</td>\n",
              "      <td>Overall</td>\n",
              "      <td>T6</td>\n",
              "      <td>02016</td>\n",
              "      <td>53.648343064</td>\n",
              "      <td>-166.9175329</td>\n",
              "    </tr>\n",
              "  </tbody>\n",
              "</table>\n",
              "</div>"
            ],
            "text/plain": [
              "   year locationabbr    locationdesc geographiclevel datasource  \\\n",
              "0  2017           AK  Aleutians East          County       NVSS   \n",
              "1  2017           AK  Aleutians West          County       NVSS   \n",
              "\n",
              "                     class             topic data_value  \\\n",
              "0  Cardiovascular Diseases  Stroke Mortality          2   \n",
              "1  Cardiovascular Diseases  Stroke Mortality          0   \n",
              "\n",
              "          data_value_unit                                    data_value_type  \\\n",
              "0  per 100,000 population  Age-adjusted, Spatially Smoothed, 3-year Avera...   \n",
              "1  per 100,000 population  Age-adjusted, Spatially Smoothed, 3-year Avera...   \n",
              "\n",
              "  stratificationcategory1 stratification1 stratificationcategory2  \\\n",
              "0                  Gender         Overall          Race/Ethnicity   \n",
              "1                  Gender         Overall          Race/Ethnicity   \n",
              "\n",
              "  stratification2 topicid locationid         y_lat         x_lon  \n",
              "0         Overall      T6      02013  55.442393334  -161.9599296  \n",
              "1         Overall      T6      02016  53.648343064  -166.9175329  "
            ]
          },
          "metadata": {
            "tags": []
          },
          "execution_count": 79
        }
      ]
    },
    {
      "cell_type": "code",
      "metadata": {
        "id": "f1gFXlTzPLGU",
        "colab_type": "code",
        "colab": {
          "base_uri": "https://localhost:8080/",
          "height": 340
        },
        "outputId": "9f9bbbdc-808d-4cc1-d5ed-1edcb5e7236d"
      },
      "source": [
        "# Check datacounts\n",
        "data_df.count()"
      ],
      "execution_count": 75,
      "outputs": [
        {
          "output_type": "execute_result",
          "data": {
            "text/plain": [
              "year                       2\n",
              "locationabbr               2\n",
              "locationdesc               2\n",
              "geographiclevel            2\n",
              "datasource                 2\n",
              "class                      2\n",
              "topic                      2\n",
              "data_value                 2\n",
              "data_value_unit            2\n",
              "data_value_type            2\n",
              "stratificationcategory1    2\n",
              "stratification1            2\n",
              "stratificationcategory2    2\n",
              "stratification2            2\n",
              "topicid                    2\n",
              "locationid                 2\n",
              "y_lat                      2\n",
              "x_lon                      2\n",
              "dtype: int64"
            ]
          },
          "metadata": {
            "tags": []
          },
          "execution_count": 75
        }
      ]
    },
    {
      "cell_type": "code",
      "metadata": {
        "scrolled": true,
        "id": "nTWui3eLZtbl",
        "colab_type": "code",
        "colab": {
          "base_uri": "https://localhost:8080/",
          "height": 340
        },
        "outputId": "dd4c5a32-0288-4341-b33c-eaa54c9f2ca7"
      },
      "source": [
        "# Check datatypes\n",
        "data_df.dtypes"
      ],
      "execution_count": 80,
      "outputs": [
        {
          "output_type": "execute_result",
          "data": {
            "text/plain": [
              "year                       object\n",
              "locationabbr               object\n",
              "locationdesc               object\n",
              "geographiclevel            object\n",
              "datasource                 object\n",
              "class                      object\n",
              "topic                      object\n",
              "data_value                 object\n",
              "data_value_unit            object\n",
              "data_value_type            object\n",
              "stratificationcategory1    object\n",
              "stratification1            object\n",
              "stratificationcategory2    object\n",
              "stratification2            object\n",
              "topicid                    object\n",
              "locationid                 object\n",
              "y_lat                      object\n",
              "x_lon                      object\n",
              "dtype: object"
            ]
          },
          "metadata": {
            "tags": []
          },
          "execution_count": 80
        }
      ]
    },
    {
      "cell_type": "code",
      "metadata": {
        "id": "PVVwYTAdZtbs",
        "colab_type": "code",
        "colab": {
          "base_uri": "https://localhost:8080/",
          "height": 309
        },
        "outputId": "ad9a3458-5da2-44ee-844c-fa769f63c734"
      },
      "source": [
        "# reorganize columns\n",
        "datasub_df = data_df[[ 'locationid','locationabbr','locationdesc','y_lat','x_lon',\n",
        "                      'data_value','data_value_unit', 'class','topic',\n",
        "                      'stratificationcategory1', 'stratification1' ,'stratificationcategory2' , 'stratification2' ,'year']]          \n",
        "datasub_df\n",
        "\n",
        "datasub_df.head()"
      ],
      "execution_count": 48,
      "outputs": [
        {
          "output_type": "execute_result",
          "data": {
            "text/html": [
              "<div>\n",
              "<style scoped>\n",
              "    .dataframe tbody tr th:only-of-type {\n",
              "        vertical-align: middle;\n",
              "    }\n",
              "\n",
              "    .dataframe tbody tr th {\n",
              "        vertical-align: top;\n",
              "    }\n",
              "\n",
              "    .dataframe thead th {\n",
              "        text-align: right;\n",
              "    }\n",
              "</style>\n",
              "<table border=\"1\" class=\"dataframe\">\n",
              "  <thead>\n",
              "    <tr style=\"text-align: right;\">\n",
              "      <th></th>\n",
              "      <th>locationid</th>\n",
              "      <th>locationabbr</th>\n",
              "      <th>locationdesc</th>\n",
              "      <th>y_lat</th>\n",
              "      <th>x_lon</th>\n",
              "      <th>data_value</th>\n",
              "      <th>data_value_unit</th>\n",
              "      <th>class</th>\n",
              "      <th>topic</th>\n",
              "      <th>stratificationcategory1</th>\n",
              "      <th>stratification1</th>\n",
              "      <th>stratificationcategory2</th>\n",
              "      <th>stratification2</th>\n",
              "      <th>year</th>\n",
              "    </tr>\n",
              "  </thead>\n",
              "  <tbody>\n",
              "    <tr>\n",
              "      <th>0</th>\n",
              "      <td>02013</td>\n",
              "      <td>AK</td>\n",
              "      <td>Aleutians East</td>\n",
              "      <td>55.442393334</td>\n",
              "      <td>-161.9599296</td>\n",
              "      <td>2</td>\n",
              "      <td>per 100,000 population</td>\n",
              "      <td>Cardiovascular Diseases</td>\n",
              "      <td>Stroke Mortality</td>\n",
              "      <td>Gender</td>\n",
              "      <td>Overall</td>\n",
              "      <td>Race/Ethnicity</td>\n",
              "      <td>Overall</td>\n",
              "      <td>2017</td>\n",
              "    </tr>\n",
              "    <tr>\n",
              "      <th>1</th>\n",
              "      <td>02016</td>\n",
              "      <td>AK</td>\n",
              "      <td>Aleutians West</td>\n",
              "      <td>53.648343064</td>\n",
              "      <td>-166.9175329</td>\n",
              "      <td>0</td>\n",
              "      <td>per 100,000 population</td>\n",
              "      <td>Cardiovascular Diseases</td>\n",
              "      <td>Stroke Mortality</td>\n",
              "      <td>Gender</td>\n",
              "      <td>Overall</td>\n",
              "      <td>Race/Ethnicity</td>\n",
              "      <td>Overall</td>\n",
              "      <td>2017</td>\n",
              "    </tr>\n",
              "    <tr>\n",
              "      <th>2</th>\n",
              "      <td>02020</td>\n",
              "      <td>AK</td>\n",
              "      <td>Anchorage</td>\n",
              "      <td>61.159144533</td>\n",
              "      <td>-149.1045591</td>\n",
              "      <td>67.2</td>\n",
              "      <td>per 100,000 population</td>\n",
              "      <td>Cardiovascular Diseases</td>\n",
              "      <td>Stroke Mortality</td>\n",
              "      <td>Gender</td>\n",
              "      <td>Overall</td>\n",
              "      <td>Race/Ethnicity</td>\n",
              "      <td>Overall</td>\n",
              "      <td>2017</td>\n",
              "    </tr>\n",
              "    <tr>\n",
              "      <th>3</th>\n",
              "      <td>02050</td>\n",
              "      <td>AK</td>\n",
              "      <td>Bethel</td>\n",
              "      <td>60.923647647</td>\n",
              "      <td>-159.7532618</td>\n",
              "      <td>104.6</td>\n",
              "      <td>per 100,000 population</td>\n",
              "      <td>Cardiovascular Diseases</td>\n",
              "      <td>Stroke Mortality</td>\n",
              "      <td>Gender</td>\n",
              "      <td>Overall</td>\n",
              "      <td>Race/Ethnicity</td>\n",
              "      <td>Overall</td>\n",
              "      <td>2017</td>\n",
              "    </tr>\n",
              "    <tr>\n",
              "      <th>4</th>\n",
              "      <td>02060</td>\n",
              "      <td>AK</td>\n",
              "      <td>Bristol Bay</td>\n",
              "      <td>58.753495988</td>\n",
              "      <td>-156.694662</td>\n",
              "      <td>NaN</td>\n",
              "      <td>per 100,000 population</td>\n",
              "      <td>Cardiovascular Diseases</td>\n",
              "      <td>Stroke Mortality</td>\n",
              "      <td>Gender</td>\n",
              "      <td>Overall</td>\n",
              "      <td>Race/Ethnicity</td>\n",
              "      <td>Overall</td>\n",
              "      <td>2017</td>\n",
              "    </tr>\n",
              "  </tbody>\n",
              "</table>\n",
              "</div>"
            ],
            "text/plain": [
              "  locationid locationabbr  ... stratification2  year\n",
              "0      02013           AK  ...         Overall  2017\n",
              "1      02016           AK  ...         Overall  2017\n",
              "2      02020           AK  ...         Overall  2017\n",
              "3      02050           AK  ...         Overall  2017\n",
              "4      02060           AK  ...         Overall  2017\n",
              "\n",
              "[5 rows x 14 columns]"
            ]
          },
          "metadata": {
            "tags": []
          },
          "execution_count": 48
        }
      ]
    },
    {
      "cell_type": "code",
      "metadata": {
        "id": "EOCiJ2XuZtbv",
        "colab_type": "code",
        "colab": {
          "base_uri": "https://localhost:8080/",
          "height": 204
        },
        "outputId": "5697fcd1-2ff0-484d-d113-65a6a538970f"
      },
      "source": [
        "#Rename columns \n",
        "datasub_df = datasub_df.rename(columns={\"locationid\":\"locationID\", \"y_lat\":\"lat\", \"x_lon\":\"long\",\"locationabbr\":\"state\", \"locationdesc\": \"county\"})\n",
        "\n",
        "datasub_df.head() "
      ],
      "execution_count": 51,
      "outputs": [
        {
          "output_type": "execute_result",
          "data": {
            "text/html": [
              "<div>\n",
              "<style scoped>\n",
              "    .dataframe tbody tr th:only-of-type {\n",
              "        vertical-align: middle;\n",
              "    }\n",
              "\n",
              "    .dataframe tbody tr th {\n",
              "        vertical-align: top;\n",
              "    }\n",
              "\n",
              "    .dataframe thead th {\n",
              "        text-align: right;\n",
              "    }\n",
              "</style>\n",
              "<table border=\"1\" class=\"dataframe\">\n",
              "  <thead>\n",
              "    <tr style=\"text-align: right;\">\n",
              "      <th></th>\n",
              "      <th>locationID</th>\n",
              "      <th>state</th>\n",
              "      <th>county</th>\n",
              "      <th>Lat</th>\n",
              "      <th>Long</th>\n",
              "      <th>data_value</th>\n",
              "      <th>data_value_unit</th>\n",
              "      <th>class</th>\n",
              "      <th>topic</th>\n",
              "      <th>stratificationcategory1</th>\n",
              "      <th>stratification1</th>\n",
              "      <th>stratificationcategory2</th>\n",
              "      <th>stratification2</th>\n",
              "      <th>year</th>\n",
              "    </tr>\n",
              "  </thead>\n",
              "  <tbody>\n",
              "    <tr>\n",
              "      <th>0</th>\n",
              "      <td>02013</td>\n",
              "      <td>AK</td>\n",
              "      <td>Aleutians East</td>\n",
              "      <td>55.442393334</td>\n",
              "      <td>-161.9599296</td>\n",
              "      <td>2</td>\n",
              "      <td>per 100,000 population</td>\n",
              "      <td>Cardiovascular Diseases</td>\n",
              "      <td>Stroke Mortality</td>\n",
              "      <td>Gender</td>\n",
              "      <td>Overall</td>\n",
              "      <td>Race/Ethnicity</td>\n",
              "      <td>Overall</td>\n",
              "      <td>2017</td>\n",
              "    </tr>\n",
              "    <tr>\n",
              "      <th>1</th>\n",
              "      <td>02016</td>\n",
              "      <td>AK</td>\n",
              "      <td>Aleutians West</td>\n",
              "      <td>53.648343064</td>\n",
              "      <td>-166.9175329</td>\n",
              "      <td>0</td>\n",
              "      <td>per 100,000 population</td>\n",
              "      <td>Cardiovascular Diseases</td>\n",
              "      <td>Stroke Mortality</td>\n",
              "      <td>Gender</td>\n",
              "      <td>Overall</td>\n",
              "      <td>Race/Ethnicity</td>\n",
              "      <td>Overall</td>\n",
              "      <td>2017</td>\n",
              "    </tr>\n",
              "    <tr>\n",
              "      <th>2</th>\n",
              "      <td>02020</td>\n",
              "      <td>AK</td>\n",
              "      <td>Anchorage</td>\n",
              "      <td>61.159144533</td>\n",
              "      <td>-149.1045591</td>\n",
              "      <td>67.2</td>\n",
              "      <td>per 100,000 population</td>\n",
              "      <td>Cardiovascular Diseases</td>\n",
              "      <td>Stroke Mortality</td>\n",
              "      <td>Gender</td>\n",
              "      <td>Overall</td>\n",
              "      <td>Race/Ethnicity</td>\n",
              "      <td>Overall</td>\n",
              "      <td>2017</td>\n",
              "    </tr>\n",
              "    <tr>\n",
              "      <th>3</th>\n",
              "      <td>02050</td>\n",
              "      <td>AK</td>\n",
              "      <td>Bethel</td>\n",
              "      <td>60.923647647</td>\n",
              "      <td>-159.7532618</td>\n",
              "      <td>104.6</td>\n",
              "      <td>per 100,000 population</td>\n",
              "      <td>Cardiovascular Diseases</td>\n",
              "      <td>Stroke Mortality</td>\n",
              "      <td>Gender</td>\n",
              "      <td>Overall</td>\n",
              "      <td>Race/Ethnicity</td>\n",
              "      <td>Overall</td>\n",
              "      <td>2017</td>\n",
              "    </tr>\n",
              "    <tr>\n",
              "      <th>4</th>\n",
              "      <td>02060</td>\n",
              "      <td>AK</td>\n",
              "      <td>Bristol Bay</td>\n",
              "      <td>58.753495988</td>\n",
              "      <td>-156.694662</td>\n",
              "      <td>NaN</td>\n",
              "      <td>per 100,000 population</td>\n",
              "      <td>Cardiovascular Diseases</td>\n",
              "      <td>Stroke Mortality</td>\n",
              "      <td>Gender</td>\n",
              "      <td>Overall</td>\n",
              "      <td>Race/Ethnicity</td>\n",
              "      <td>Overall</td>\n",
              "      <td>2017</td>\n",
              "    </tr>\n",
              "  </tbody>\n",
              "</table>\n",
              "</div>"
            ],
            "text/plain": [
              "  locationID state  ... stratification2  year\n",
              "0      02013    AK  ...         Overall  2017\n",
              "1      02016    AK  ...         Overall  2017\n",
              "2      02020    AK  ...         Overall  2017\n",
              "3      02050    AK  ...         Overall  2017\n",
              "4      02060    AK  ...         Overall  2017\n",
              "\n",
              "[5 rows x 14 columns]"
            ]
          },
          "metadata": {
            "tags": []
          },
          "execution_count": 51
        }
      ]
    },
    {
      "cell_type": "code",
      "metadata": {
        "id": "_KBaiORSZtby",
        "colab_type": "code",
        "colab": {
          "base_uri": "https://localhost:8080/",
          "height": 390
        },
        "outputId": "22c4fc94-2da2-4bb8-e59c-e7248581dd98"
      },
      "source": [
        "#cleaing data\n",
        "\n",
        "cols = datasub_df.columns[:20] # first 30 columns\n",
        "colours = ['#000099', '#ffff00'] # specify the colours - yellow is missing. blue is not missing.\n",
        "sns.heatmap(datasub_df[cols].isnull(), cmap=sns.color_palette(colours))"
      ],
      "execution_count": 53,
      "outputs": [
        {
          "output_type": "execute_result",
          "data": {
            "text/plain": [
              "<matplotlib.axes._subplots.AxesSubplot at 0x7fee8c8915f8>"
            ]
          },
          "metadata": {
            "tags": []
          },
          "execution_count": 53
        },
        {
          "output_type": "display_data",
          "data": {
            "image/png": "[encoded data removed]",
            "text/plain": [
              "<Figure size 432x288 with 2 Axes>"
            ]
          },
          "metadata": {
            "tags": [],
            "needs_background": "light"
          }
        }
      ]
    },
    {
      "cell_type": "code",
      "metadata": {
        "id": "m0E-Q8fGZtb1",
        "colab_type": "code",
        "colab": {
          "base_uri": "https://localhost:8080/",
          "height": 255
        },
        "outputId": "5aacf8e3-38d6-46ac-b235-44ae324fbd68"
      },
      "source": [
        "# if it's a larger dataset and the visualization takes too long can do this.\n",
        "# % of missing.\n",
        "for col in datasub_df.columns:\n",
        "    pct_missing = np.mean(datasub_df[col].isnull())\n",
        "    print('{} - {}%'.format(col, round(pct_missing*100)))"
      ],
      "execution_count": 56,
      "outputs": [
        {
          "output_type": "stream",
          "text": [
            "locationID - 0.0%\n",
            "state - 0.0%\n",
            "county - 0.0%\n",
            "Lat - 0.0%\n",
            "Long - 0.0%\n",
            "data_value - 52.0%\n",
            "data_value_unit - 0.0%\n",
            "class - 0.0%\n",
            "topic - 0.0%\n",
            "stratificationcategory1 - 0.0%\n",
            "stratification1 - 0.0%\n",
            "stratificationcategory2 - 0.0%\n",
            "stratification2 - 0.0%\n",
            "year - 0.0%\n"
          ],
          "name": "stdout"
        }
      ]
    },
    {
      "cell_type": "code",
      "metadata": {
        "scrolled": true,
        "id": "7WaA6de-Ztb7",
        "colab_type": "code",
        "colab": {
          "base_uri": "https://localhost:8080/",
          "height": 204
        },
        "outputId": "d25215de-25b4-4865-c3a9-25251102fda8"
      },
      "source": [
        "#In this case the counties that had missing values will be changed by -1 to be easily recognizable\n",
        "datasub_df['data_value']= datasub_df['data_value'].fillna(-1)\n",
        "datasub_df.head()"
      ],
      "execution_count": 57,
      "outputs": [
        {
          "output_type": "execute_result",
          "data": {
            "text/html": [
              "<div>\n",
              "<style scoped>\n",
              "    .dataframe tbody tr th:only-of-type {\n",
              "        vertical-align: middle;\n",
              "    }\n",
              "\n",
              "    .dataframe tbody tr th {\n",
              "        vertical-align: top;\n",
              "    }\n",
              "\n",
              "    .dataframe thead th {\n",
              "        text-align: right;\n",
              "    }\n",
              "</style>\n",
              "<table border=\"1\" class=\"dataframe\">\n",
              "  <thead>\n",
              "    <tr style=\"text-align: right;\">\n",
              "      <th></th>\n",
              "      <th>locationID</th>\n",
              "      <th>state</th>\n",
              "      <th>county</th>\n",
              "      <th>Lat</th>\n",
              "      <th>Long</th>\n",
              "      <th>data_value</th>\n",
              "      <th>data_value_unit</th>\n",
              "      <th>class</th>\n",
              "      <th>topic</th>\n",
              "      <th>stratificationcategory1</th>\n",
              "      <th>stratification1</th>\n",
              "      <th>stratificationcategory2</th>\n",
              "      <th>stratification2</th>\n",
              "      <th>year</th>\n",
              "    </tr>\n",
              "  </thead>\n",
              "  <tbody>\n",
              "    <tr>\n",
              "      <th>0</th>\n",
              "      <td>02013</td>\n",
              "      <td>AK</td>\n",
              "      <td>Aleutians East</td>\n",
              "      <td>55.442393334</td>\n",
              "      <td>-161.9599296</td>\n",
              "      <td>2</td>\n",
              "      <td>per 100,000 population</td>\n",
              "      <td>Cardiovascular Diseases</td>\n",
              "      <td>Stroke Mortality</td>\n",
              "      <td>Gender</td>\n",
              "      <td>Overall</td>\n",
              "      <td>Race/Ethnicity</td>\n",
              "      <td>Overall</td>\n",
              "      <td>2017</td>\n",
              "    </tr>\n",
              "    <tr>\n",
              "      <th>1</th>\n",
              "      <td>02016</td>\n",
              "      <td>AK</td>\n",
              "      <td>Aleutians West</td>\n",
              "      <td>53.648343064</td>\n",
              "      <td>-166.9175329</td>\n",
              "      <td>0</td>\n",
              "      <td>per 100,000 population</td>\n",
              "      <td>Cardiovascular Diseases</td>\n",
              "      <td>Stroke Mortality</td>\n",
              "      <td>Gender</td>\n",
              "      <td>Overall</td>\n",
              "      <td>Race/Ethnicity</td>\n",
              "      <td>Overall</td>\n",
              "      <td>2017</td>\n",
              "    </tr>\n",
              "    <tr>\n",
              "      <th>2</th>\n",
              "      <td>02020</td>\n",
              "      <td>AK</td>\n",
              "      <td>Anchorage</td>\n",
              "      <td>61.159144533</td>\n",
              "      <td>-149.1045591</td>\n",
              "      <td>67.2</td>\n",
              "      <td>per 100,000 population</td>\n",
              "      <td>Cardiovascular Diseases</td>\n",
              "      <td>Stroke Mortality</td>\n",
              "      <td>Gender</td>\n",
              "      <td>Overall</td>\n",
              "      <td>Race/Ethnicity</td>\n",
              "      <td>Overall</td>\n",
              "      <td>2017</td>\n",
              "    </tr>\n",
              "    <tr>\n",
              "      <th>3</th>\n",
              "      <td>02050</td>\n",
              "      <td>AK</td>\n",
              "      <td>Bethel</td>\n",
              "      <td>60.923647647</td>\n",
              "      <td>-159.7532618</td>\n",
              "      <td>104.6</td>\n",
              "      <td>per 100,000 population</td>\n",
              "      <td>Cardiovascular Diseases</td>\n",
              "      <td>Stroke Mortality</td>\n",
              "      <td>Gender</td>\n",
              "      <td>Overall</td>\n",
              "      <td>Race/Ethnicity</td>\n",
              "      <td>Overall</td>\n",
              "      <td>2017</td>\n",
              "    </tr>\n",
              "    <tr>\n",
              "      <th>4</th>\n",
              "      <td>02060</td>\n",
              "      <td>AK</td>\n",
              "      <td>Bristol Bay</td>\n",
              "      <td>58.753495988</td>\n",
              "      <td>-156.694662</td>\n",
              "      <td>-1</td>\n",
              "      <td>per 100,000 population</td>\n",
              "      <td>Cardiovascular Diseases</td>\n",
              "      <td>Stroke Mortality</td>\n",
              "      <td>Gender</td>\n",
              "      <td>Overall</td>\n",
              "      <td>Race/Ethnicity</td>\n",
              "      <td>Overall</td>\n",
              "      <td>2017</td>\n",
              "    </tr>\n",
              "  </tbody>\n",
              "</table>\n",
              "</div>"
            ],
            "text/plain": [
              "  locationID state  ... stratification2  year\n",
              "0      02013    AK  ...         Overall  2017\n",
              "1      02016    AK  ...         Overall  2017\n",
              "2      02020    AK  ...         Overall  2017\n",
              "3      02050    AK  ...         Overall  2017\n",
              "4      02060    AK  ...         Overall  2017\n",
              "\n",
              "[5 rows x 14 columns]"
            ]
          },
          "metadata": {
            "tags": []
          },
          "execution_count": 57
        }
      ]
    },
    {
      "cell_type": "code",
      "metadata": {
        "id": "V1QrMU1nZtb9",
        "colab_type": "code",
        "colab": {}
      },
      "source": [
        "# Save Cleaned/Organized df to csv\n",
        "clean_df.to_csv(\"assets/data/stroke_death_clean.csv\", index=False)\n"
      ],
      "execution_count": null,
      "outputs": []
    },
    {
      "cell_type": "code",
      "metadata": {
        "id": "37r4h_lqZtcA",
        "colab_type": "code",
        "colab": {}
      },
      "source": [
        ""
      ],
      "execution_count": null,
      "outputs": []
    },
    {
      "cell_type": "code",
      "metadata": {
        "id": "ZxIKYRgKZtcD",
        "colab_type": "code",
        "colab": {}
      },
      "source": [
        ""
      ],
      "execution_count": null,
      "outputs": []
    },
    {
      "cell_type": "code",
      "metadata": {
        "id": "aufuKPvJZtcG",
        "colab_type": "code",
        "colab": {}
      },
      "source": [
        ""
      ],
      "execution_count": null,
      "outputs": []
    },
    {
      "cell_type": "code",
      "metadata": {
        "id": "sCQHt2VBZtcI",
        "colab_type": "code",
        "colab": {}
      },
      "source": [
        ""
      ],
      "execution_count": null,
      "outputs": []
    }
  ]
}