{
  "nbformat": 4,
  "nbformat_minor": 0,
  "metadata": {
    "kernelspec": {
      "display_name": "Python 3",
      "language": "python",
      "name": "python3"
    },
    "language_info": {
      "codemirror_mode": {
        "name": "ipython",
        "version": 3
      },
      "file_extension": ".py",
      "mimetype": "text/x-python",
      "name": "python",
      "nbconvert_exporter": "python",
      "pygments_lexer": "ipython3",
      "version": "3.7.3"
    },
    "colab": {
      "name": "dataDesign.ipynb",
      "provenance": [],
      "collapsed_sections": []
    }
  },
  "cells": [
    {
      "cell_type": "markdown",
      "metadata": {
        "id": "DC4jj1GDZtbV",
        "colab_type": "text"
      },
      "source": [
        "# Data from https://chronicdata.cdc.gov/Heart-Disease-Stroke-Prevention/Stroke-Mortality-Data-Among-US-Adults-35-by-State-/tqwu-4a7k \n",
        "\n",
        "# https://data.cdc.gov/browse?limitTo=datasets&q=stroke&sortBy=last_modified&utf8=%E2%9C%93"
      ]
    },
    {
      "cell_type": "code",
      "metadata": {
        "scrolled": true,
        "id": "J_zeRJKLZtbZ",
        "colab_type": "code",
        "colab": {
          "base_uri": "https://localhost:8080/",
          "height": 170
        },
        "outputId": "075fade3-f3b3-46f8-ae31-9d6879c5a0a8"
      },
      "source": [
        "# make sure to install this package before running:\n",
        "# python -m pip install --upgrade pip\n",
        "!pip install sodapy"
      ],
      "execution_count": 2,
      "outputs": [
        {
          "output_type": "stream",
          "text": [
            "Collecting sodapy\n",
            "  Downloading https://files.pythonhosted.org/packages/9e/74/95fb7d45bbe7f1de43caac45d7dd4807ef1e15881564a00eef489a3bb5c6/sodapy-2.1.0-py2.py3-none-any.whl\n",
            "Requirement already satisfied: requests>=2.20.0 in /usr/local/lib/python3.6/dist-packages (from sodapy) (2.23.0)\n",
            "Requirement already satisfied: chardet<4,>=3.0.2 in /usr/local/lib/python3.6/dist-packages (from requests>=2.20.0->sodapy) (3.0.4)\n",
            "Requirement already satisfied: idna<3,>=2.5 in /usr/local/lib/python3.6/dist-packages (from requests>=2.20.0->sodapy) (2.10)\n",
            "Requirement already satisfied: certifi>=2017.4.17 in /usr/local/lib/python3.6/dist-packages (from requests>=2.20.0->sodapy) (2020.6.20)\n",
            "Requirement already satisfied: urllib3!=1.25.0,!=1.25.1,<1.26,>=1.21.1 in /usr/local/lib/python3.6/dist-packages (from requests>=2.20.0->sodapy) (1.24.3)\n",
            "Installing collected packages: sodapy\n",
            "Successfully installed sodapy-2.1.0\n"
          ],
          "name": "stdout"
        }
      ]
    },
    {
      "cell_type": "code",
      "metadata": {
        "id": "hfUjuXLlZtbf",
        "colab_type": "code",
        "colab": {
          "base_uri": "https://localhost:8080/",
          "height": 71
        },
        "outputId": "50dfd3b4-0bbe-45b4-dde3-9c939f8f671f"
      },
      "source": [
        "import pandas as pd\n",
        "import numpy as np\n",
        "import seaborn as sns\n",
        "\n",
        "from sodapy import Socrata"
      ],
      "execution_count": 3,
      "outputs": [
        {
          "output_type": "stream",
          "text": [
            "/usr/local/lib/python3.6/dist-packages/statsmodels/tools/_testing.py:19: FutureWarning: pandas.util.testing is deprecated. Use the functions in the public API at pandas.testing instead.\n",
            "  import pandas.util.testing as tm\n"
          ],
          "name": "stderr"
        }
      ]
    },
    {
      "cell_type": "code",
      "metadata": {
        "id": "HeJzh9ljYcEv",
        "colab_type": "code",
        "colab": {}
      },
      "source": [
        "\n",
        "\n",
        "\n"
      ],
      "execution_count": null,
      "outputs": []
    },
    {
      "cell_type": "markdown",
      "metadata": {
        "id": "2HLRNwR2eJeZ",
        "colab_type": "text"
      },
      "source": [
        "National Vital Statistics System (NVSS) - National Cardiovascular Disease Surveillance Data\n",
        "Dataset Identifier: kztq-p2jf\n",
        "Total Rows: 158080\n",
        "Source Domain: chronicdata.cdc.gov\n",
        "\n",
        "Stroke Mortality Data Among US Adults (35+) by State/Territory and County 2016-2018\n",
        "Dataset Identifier: tqwu-4a7k\n",
        "Total Rows: 59094\n",
        "Source Domain: chronicdata.cdc.gov\n",
        "\n",
        "\n",
        "\n",
        "\n",
        "\n",
        "\n"
      ]
    },
    {
      "cell_type": "code",
      "metadata": {
        "id": "NaWtMr0fZtbi",
        "colab_type": "code",
        "colab": {
          "base_uri": "https://localhost:8080/",
          "height": 34
        },
        "outputId": "3ff1c008-d201-456f-9118-008b91acbcde"
      },
      "source": [
        "# data\n",
        "# data = \"assets/data/Stroke_Mortality_Data_Among_US_Adults__35___by_State_Territory_and_County___2016-2018.csv\"\n",
        "\n",
        "# The Host Name for the API endpoint (the https:// part will be added automatically)\n",
        "\n",
        "data_url='chronicdata.cdc.gov'\n",
        "\n",
        "# The data set at the API endpoint \n",
        "data_set=\"tqwu-4a7k\"   \n",
        "\n",
        "# The app token created in the prior steps\n",
        "MyAppToken='px7JjOQLMt0zT2f5o7utbLBcj'\n",
        "username=\"mpmarinkovic@gmail.com\"\n",
        "password=\"!00Hagase\"\n",
        "\n",
        "# Create the client to point to the API endpoint\n",
        "client = Socrata(data_url,\n",
        "                 MyAppToken,\n",
        "                 username=username,\n",
        "                 password=password)\n",
        "\n",
        "     \n",
        "# Set the timeout to 60 seconds    \n",
        "client.timeout = 60\n",
        "print (client)\n",
        "\n",
        "\n",
        "\n",
        "\n"
      ],
      "execution_count": 22,
      "outputs": [
        {
          "output_type": "stream",
          "text": [
            "<sodapy.socrata.Socrata object at 0x7fde3cd7b2b0>\n"
          ],
          "name": "stdout"
        }
      ]
    },
    {
      "cell_type": "code",
      "metadata": {
        "id": "34dcneChdDqD",
        "colab_type": "code",
        "colab": {}
      },
      "source": [
        ""
      ],
      "execution_count": null,
      "outputs": []
    },
    {
      "cell_type": "code",
      "metadata": {
        "id": "x5JsJysqa8Ll",
        "colab_type": "code",
        "colab": {
          "base_uri": "https://localhost:8080/",
          "height": 357
        },
        "outputId": "620dda19-d0f3-4fe9-c0e1-d18f0eee01cd"
      },
      "source": [
        "# Get metadata about the target data set\n",
        "metadata = client.get_metadata(data_set)\n",
        "[x['name'] for x in metadata['columns']]"
      ],
      "execution_count": 23,
      "outputs": [
        {
          "output_type": "execute_result",
          "data": {
            "text/plain": [
              "['Year',\n",
              " 'LocationAbbr',\n",
              " 'LocationDesc',\n",
              " 'GeographicLevel',\n",
              " 'DataSource',\n",
              " 'Class',\n",
              " 'Topic',\n",
              " 'Data_Value',\n",
              " 'Data_Value_Unit',\n",
              " 'Data_Value_Type',\n",
              " 'Data_Value_Footnote_Symbol',\n",
              " 'Data_Value_Footnote',\n",
              " 'StratificationCategory1',\n",
              " 'Stratification1',\n",
              " 'StratificationCategory2',\n",
              " 'Stratification2',\n",
              " 'TopicID',\n",
              " 'LocationID',\n",
              " 'Y_lat',\n",
              " 'X_lon']"
            ]
          },
          "metadata": {
            "tags": []
          },
          "execution_count": 23
        }
      ]
    },
    {
      "cell_type": "code",
      "metadata": {
        "id": "0V1r_CvddKZY",
        "colab_type": "code",
        "colab": {}
      },
      "source": [
        "# The SoDaPy library converts this JSON object to a Python list of dictionaries\n",
        "# SODA APIs are paged, and return a maximum of 50,000 records per page\n",
        "# good practice to split up the request into multiple smaller queries \n",
        "\n",
        "# Get the total number of records in our target data set\n",
        "record_count = client.get(data_set, select=\"COUNT(*)\")\n",
        "record_count\n",
        "# while loop to fectch the record_limit during each iteration\n",
        "start = 0             # Start at 0\n",
        "record_limit = 10000     # Fetch 2000 rows at a time\n",
        "results =[]           # Empty out our result list\n",
        "while True:\n",
        "     # Fetch the set of records starting at 'start'\n",
        "     results.extend( client.get(data_set, offset=start, limit=record_limit))\n",
        "     # Move up the starting record\n",
        "     start = start + record_limit\n",
        "     # If we have fetched all of the records, bail out\n",
        "     if (start > int(record_count[0]['COUNT']) ):\n",
        "        break\n",
        "\n",
        "\n",
        "# results = client.get(data_set, limit=2000)"
      ],
      "execution_count": null,
      "outputs": []
    },
    {
      "cell_type": "code",
      "metadata": {
        "id": "ATqWNoFCKYe9",
        "colab_type": "code",
        "colab": {
          "base_uri": "https://localhost:8080/",
          "height": 233
        },
        "outputId": "7de6a63c-ceff-417b-b309-4aa099c4fa88"
      },
      "source": [
        "# Convert the list of dictionaries to a Pandas data frame\n",
        "df = pd.DataFrame.from_records(results)\n",
        "df.head(2)\n",
        "# Save the data frame to a CSV file\n",
        "# df.to_csv(\"my_311_data.csv\")"
      ],
      "execution_count": 20,
      "outputs": [
        {
          "output_type": "execute_result",
          "data": {
            "text/html": [
              "<div>\n",
              "<style scoped>\n",
              "    .dataframe tbody tr th:only-of-type {\n",
              "        vertical-align: middle;\n",
              "    }\n",
              "\n",
              "    .dataframe tbody tr th {\n",
              "        vertical-align: top;\n",
              "    }\n",
              "\n",
              "    .dataframe thead th {\n",
              "        text-align: right;\n",
              "    }\n",
              "</style>\n",
              "<table border=\"1\" class=\"dataframe\">\n",
              "  <thead>\n",
              "    <tr style=\"text-align: right;\">\n",
              "      <th></th>\n",
              "      <th>year</th>\n",
              "      <th>locationabbr</th>\n",
              "      <th>locationdesc</th>\n",
              "      <th>geographiclevel</th>\n",
              "      <th>datasource</th>\n",
              "      <th>class</th>\n",
              "      <th>topic</th>\n",
              "      <th>data_value</th>\n",
              "      <th>data_value_unit</th>\n",
              "      <th>data_value_type</th>\n",
              "      <th>stratificationcategory1</th>\n",
              "      <th>stratification1</th>\n",
              "      <th>stratificationcategory2</th>\n",
              "      <th>stratification2</th>\n",
              "      <th>topicid</th>\n",
              "      <th>locationid</th>\n",
              "      <th>y_lat</th>\n",
              "      <th>x_lon</th>\n",
              "      <th>data_value_footnote_symbol</th>\n",
              "      <th>data_value_footnote</th>\n",
              "    </tr>\n",
              "  </thead>\n",
              "  <tbody>\n",
              "    <tr>\n",
              "      <th>0</th>\n",
              "      <td>2017</td>\n",
              "      <td>AK</td>\n",
              "      <td>Aleutians East</td>\n",
              "      <td>County</td>\n",
              "      <td>NVSS</td>\n",
              "      <td>Cardiovascular Diseases</td>\n",
              "      <td>Stroke Mortality</td>\n",
              "      <td>2</td>\n",
              "      <td>per 100,000 population</td>\n",
              "      <td>Age-adjusted, Spatially Smoothed, 3-year Avera...</td>\n",
              "      <td>Gender</td>\n",
              "      <td>Overall</td>\n",
              "      <td>Race/Ethnicity</td>\n",
              "      <td>Overall</td>\n",
              "      <td>T6</td>\n",
              "      <td>02013</td>\n",
              "      <td>55.442393334</td>\n",
              "      <td>-161.9599296</td>\n",
              "      <td>NaN</td>\n",
              "      <td>NaN</td>\n",
              "    </tr>\n",
              "    <tr>\n",
              "      <th>1</th>\n",
              "      <td>2017</td>\n",
              "      <td>AK</td>\n",
              "      <td>Aleutians West</td>\n",
              "      <td>County</td>\n",
              "      <td>NVSS</td>\n",
              "      <td>Cardiovascular Diseases</td>\n",
              "      <td>Stroke Mortality</td>\n",
              "      <td>0</td>\n",
              "      <td>per 100,000 population</td>\n",
              "      <td>Age-adjusted, Spatially Smoothed, 3-year Avera...</td>\n",
              "      <td>Gender</td>\n",
              "      <td>Overall</td>\n",
              "      <td>Race/Ethnicity</td>\n",
              "      <td>Overall</td>\n",
              "      <td>T6</td>\n",
              "      <td>02016</td>\n",
              "      <td>53.648343064</td>\n",
              "      <td>-166.9175329</td>\n",
              "      <td>NaN</td>\n",
              "      <td>NaN</td>\n",
              "    </tr>\n",
              "  </tbody>\n",
              "</table>\n",
              "</div>"
            ],
            "text/plain": [
              "   year locationabbr  ... data_value_footnote_symbol data_value_footnote\n",
              "0  2017           AK  ...                        NaN                 NaN\n",
              "1  2017           AK  ...                        NaN                 NaN\n",
              "\n",
              "[2 rows x 20 columns]"
            ]
          },
          "metadata": {
            "tags": []
          },
          "execution_count": 20
        }
      ]
    },
    {
      "cell_type": "code",
      "metadata": {
        "id": "f1gFXlTzPLGU",
        "colab_type": "code",
        "colab": {
          "base_uri": "https://localhost:8080/",
          "height": 374
        },
        "outputId": "ca59a689-f322-42a3-91b9-c916800aa6f2"
      },
      "source": [
        "# Check datacounts\n",
        "df.count()"
      ],
      "execution_count": 27,
      "outputs": [
        {
          "output_type": "execute_result",
          "data": {
            "text/plain": [
              "year                          59094\n",
              "locationabbr                  59094\n",
              "locationdesc                  59094\n",
              "geographiclevel               59094\n",
              "datasource                    59094\n",
              "class                         59094\n",
              "topic                         59094\n",
              "data_value                    28095\n",
              "data_value_unit               59094\n",
              "data_value_type               59094\n",
              "stratificationcategory1       59094\n",
              "stratification1               59094\n",
              "stratificationcategory2       59094\n",
              "stratification2               59094\n",
              "topicid                       59094\n",
              "locationid                    59094\n",
              "y_lat                         59076\n",
              "x_lon                         59076\n",
              "data_value_footnote_symbol    30999\n",
              "data_value_footnote           30999\n",
              "dtype: int64"
            ]
          },
          "metadata": {
            "tags": []
          },
          "execution_count": 27
        }
      ]
    },
    {
      "cell_type": "code",
      "metadata": {
        "scrolled": true,
        "id": "nTWui3eLZtbl",
        "colab_type": "code",
        "colab": {}
      },
      "source": [
        "# Check datatypes\n",
        "data_df.dtypes"
      ],
      "execution_count": 25,
      "outputs": []
    },
    {
      "cell_type": "code",
      "metadata": {
        "id": "03mz_O29Ztbp",
        "colab_type": "code",
        "colab": {},
        "outputId": "50b3ff2a-180f-4de9-fe42-10c70e314c30"
      },
      "source": [
        ""
      ],
      "execution_count": null,
      "outputs": [
        {
          "output_type": "execute_result",
          "data": {
            "text/plain": [
              "Year                            int64\n",
              "LocationAbbr                   object\n",
              "LocationDesc                   object\n",
              "GeographicLevel                object\n",
              "DataSource                     object\n",
              "Class                          object\n",
              "Topic                          object\n",
              "Data_Value                    float64\n",
              "Data_Value_Unit                object\n",
              "Data_Value_Type                object\n",
              "Data_Value_Footnote_Symbol     object\n",
              "Data_Value_Footnote            object\n",
              "StratificationCategory1        object\n",
              "Stratification1                object\n",
              "StratificationCategory2        object\n",
              "Stratification2                object\n",
              "TopicID                        object\n",
              "LocationID                      int64\n",
              "Y_lat                         float64\n",
              "X_lon                         float64\n",
              "dtype: object"
            ]
          },
          "metadata": {
            "tags": []
          },
          "execution_count": 20
        }
      ]
    },
    {
      "cell_type": "code",
      "metadata": {
        "id": "PVVwYTAdZtbs",
        "colab_type": "code",
        "colab": {},
        "outputId": "f360c5d7-574a-445a-c7c5-33e8128d4529"
      },
      "source": [
        "# reorganize columns\n",
        "datasub_df = data_df[['Year','Y_lat','X_lon','LocationAbbr','LocationDesc',                   \n",
        "                   'Data_Value','Data_Value_Unit', 'Class','Topic']]\n",
        "                   \n",
        "datasub_df.head()"
      ],
      "execution_count": null,
      "outputs": [
        {
          "output_type": "execute_result",
          "data": {
            "text/html": [
              "<div>\n",
              "<style scoped>\n",
              "    .dataframe tbody tr th:only-of-type {\n",
              "        vertical-align: middle;\n",
              "    }\n",
              "\n",
              "    .dataframe tbody tr th {\n",
              "        vertical-align: top;\n",
              "    }\n",
              "\n",
              "    .dataframe thead th {\n",
              "        text-align: right;\n",
              "    }\n",
              "</style>\n",
              "<table border=\"1\" class=\"dataframe\">\n",
              "  <thead>\n",
              "    <tr style=\"text-align: right;\">\n",
              "      <th></th>\n",
              "      <th>Year</th>\n",
              "      <th>Y_lat</th>\n",
              "      <th>X_lon</th>\n",
              "      <th>LocationAbbr</th>\n",
              "      <th>LocationDesc</th>\n",
              "      <th>Data_Value</th>\n",
              "      <th>Data_Value_Unit</th>\n",
              "      <th>Class</th>\n",
              "      <th>Topic</th>\n",
              "    </tr>\n",
              "  </thead>\n",
              "  <tbody>\n",
              "    <tr>\n",
              "      <th>0</th>\n",
              "      <td>2017</td>\n",
              "      <td>55.442393</td>\n",
              "      <td>-161.959930</td>\n",
              "      <td>AK</td>\n",
              "      <td>Aleutians East</td>\n",
              "      <td>2.0</td>\n",
              "      <td>per 100,000 population</td>\n",
              "      <td>Cardiovascular Diseases</td>\n",
              "      <td>Stroke Mortality</td>\n",
              "    </tr>\n",
              "    <tr>\n",
              "      <th>1</th>\n",
              "      <td>2017</td>\n",
              "      <td>53.648343</td>\n",
              "      <td>-166.917533</td>\n",
              "      <td>AK</td>\n",
              "      <td>Aleutians West</td>\n",
              "      <td>0.0</td>\n",
              "      <td>per 100,000 population</td>\n",
              "      <td>Cardiovascular Diseases</td>\n",
              "      <td>Stroke Mortality</td>\n",
              "    </tr>\n",
              "    <tr>\n",
              "      <th>2</th>\n",
              "      <td>2017</td>\n",
              "      <td>61.159145</td>\n",
              "      <td>-149.104559</td>\n",
              "      <td>AK</td>\n",
              "      <td>Anchorage</td>\n",
              "      <td>67.2</td>\n",
              "      <td>per 100,000 population</td>\n",
              "      <td>Cardiovascular Diseases</td>\n",
              "      <td>Stroke Mortality</td>\n",
              "    </tr>\n",
              "    <tr>\n",
              "      <th>3</th>\n",
              "      <td>2017</td>\n",
              "      <td>60.923648</td>\n",
              "      <td>-159.753262</td>\n",
              "      <td>AK</td>\n",
              "      <td>Bethel</td>\n",
              "      <td>104.6</td>\n",
              "      <td>per 100,000 population</td>\n",
              "      <td>Cardiovascular Diseases</td>\n",
              "      <td>Stroke Mortality</td>\n",
              "    </tr>\n",
              "    <tr>\n",
              "      <th>4</th>\n",
              "      <td>2017</td>\n",
              "      <td>58.753496</td>\n",
              "      <td>-156.694662</td>\n",
              "      <td>AK</td>\n",
              "      <td>Bristol Bay</td>\n",
              "      <td>NaN</td>\n",
              "      <td>per 100,000 population</td>\n",
              "      <td>Cardiovascular Diseases</td>\n",
              "      <td>Stroke Mortality</td>\n",
              "    </tr>\n",
              "  </tbody>\n",
              "</table>\n",
              "</div>"
            ],
            "text/plain": [
              "   Year      Y_lat       X_lon LocationAbbr    LocationDesc  Data_Value  \\\n",
              "0  2017  55.442393 -161.959930           AK  Aleutians East         2.0   \n",
              "1  2017  53.648343 -166.917533           AK  Aleutians West         0.0   \n",
              "2  2017  61.159145 -149.104559           AK       Anchorage        67.2   \n",
              "3  2017  60.923648 -159.753262           AK          Bethel       104.6   \n",
              "4  2017  58.753496 -156.694662           AK     Bristol Bay         NaN   \n",
              "\n",
              "          Data_Value_Unit                    Class             Topic  \n",
              "0  per 100,000 population  Cardiovascular Diseases  Stroke Mortality  \n",
              "1  per 100,000 population  Cardiovascular Diseases  Stroke Mortality  \n",
              "2  per 100,000 population  Cardiovascular Diseases  Stroke Mortality  \n",
              "3  per 100,000 population  Cardiovascular Diseases  Stroke Mortality  \n",
              "4  per 100,000 population  Cardiovascular Diseases  Stroke Mortality  "
            ]
          },
          "metadata": {
            "tags": []
          },
          "execution_count": 21
        }
      ]
    },
    {
      "cell_type": "code",
      "metadata": {
        "id": "EOCiJ2XuZtbv",
        "colab_type": "code",
        "colab": {},
        "outputId": "6f61e934-3783-4bd1-f361-a04ad5e9015b"
      },
      "source": [
        "#Rename columns \n",
        "datasub_df = datasub_df.rename(columns={\"Y_lat\":\"Lat\", \"X_lon\":\"Long\",\"LocationAbbr\":\"State\", \"LocationDesc\": \"Country_Region\"})\n",
        "\n",
        "datasub_df.head() "
      ],
      "execution_count": null,
      "outputs": [
        {
          "output_type": "execute_result",
          "data": {
            "text/html": [
              "<div>\n",
              "<style scoped>\n",
              "    .dataframe tbody tr th:only-of-type {\n",
              "        vertical-align: middle;\n",
              "    }\n",
              "\n",
              "    .dataframe tbody tr th {\n",
              "        vertical-align: top;\n",
              "    }\n",
              "\n",
              "    .dataframe thead th {\n",
              "        text-align: right;\n",
              "    }\n",
              "</style>\n",
              "<table border=\"1\" class=\"dataframe\">\n",
              "  <thead>\n",
              "    <tr style=\"text-align: right;\">\n",
              "      <th></th>\n",
              "      <th>Year</th>\n",
              "      <th>Lat</th>\n",
              "      <th>Long</th>\n",
              "      <th>State</th>\n",
              "      <th>Country_Region</th>\n",
              "      <th>Data_Value</th>\n",
              "      <th>Data_Value_Unit</th>\n",
              "      <th>Class</th>\n",
              "      <th>Topic</th>\n",
              "    </tr>\n",
              "  </thead>\n",
              "  <tbody>\n",
              "    <tr>\n",
              "      <th>0</th>\n",
              "      <td>2017</td>\n",
              "      <td>55.442393</td>\n",
              "      <td>-161.959930</td>\n",
              "      <td>AK</td>\n",
              "      <td>Aleutians East</td>\n",
              "      <td>2.0</td>\n",
              "      <td>per 100,000 population</td>\n",
              "      <td>Cardiovascular Diseases</td>\n",
              "      <td>Stroke Mortality</td>\n",
              "    </tr>\n",
              "    <tr>\n",
              "      <th>1</th>\n",
              "      <td>2017</td>\n",
              "      <td>53.648343</td>\n",
              "      <td>-166.917533</td>\n",
              "      <td>AK</td>\n",
              "      <td>Aleutians West</td>\n",
              "      <td>0.0</td>\n",
              "      <td>per 100,000 population</td>\n",
              "      <td>Cardiovascular Diseases</td>\n",
              "      <td>Stroke Mortality</td>\n",
              "    </tr>\n",
              "    <tr>\n",
              "      <th>2</th>\n",
              "      <td>2017</td>\n",
              "      <td>61.159145</td>\n",
              "      <td>-149.104559</td>\n",
              "      <td>AK</td>\n",
              "      <td>Anchorage</td>\n",
              "      <td>67.2</td>\n",
              "      <td>per 100,000 population</td>\n",
              "      <td>Cardiovascular Diseases</td>\n",
              "      <td>Stroke Mortality</td>\n",
              "    </tr>\n",
              "    <tr>\n",
              "      <th>3</th>\n",
              "      <td>2017</td>\n",
              "      <td>60.923648</td>\n",
              "      <td>-159.753262</td>\n",
              "      <td>AK</td>\n",
              "      <td>Bethel</td>\n",
              "      <td>104.6</td>\n",
              "      <td>per 100,000 population</td>\n",
              "      <td>Cardiovascular Diseases</td>\n",
              "      <td>Stroke Mortality</td>\n",
              "    </tr>\n",
              "    <tr>\n",
              "      <th>4</th>\n",
              "      <td>2017</td>\n",
              "      <td>58.753496</td>\n",
              "      <td>-156.694662</td>\n",
              "      <td>AK</td>\n",
              "      <td>Bristol Bay</td>\n",
              "      <td>NaN</td>\n",
              "      <td>per 100,000 population</td>\n",
              "      <td>Cardiovascular Diseases</td>\n",
              "      <td>Stroke Mortality</td>\n",
              "    </tr>\n",
              "  </tbody>\n",
              "</table>\n",
              "</div>"
            ],
            "text/plain": [
              "   Year        Lat        Long State  Country_Region  Data_Value  \\\n",
              "0  2017  55.442393 -161.959930    AK  Aleutians East         2.0   \n",
              "1  2017  53.648343 -166.917533    AK  Aleutians West         0.0   \n",
              "2  2017  61.159145 -149.104559    AK       Anchorage        67.2   \n",
              "3  2017  60.923648 -159.753262    AK          Bethel       104.6   \n",
              "4  2017  58.753496 -156.694662    AK     Bristol Bay         NaN   \n",
              "\n",
              "          Data_Value_Unit                    Class             Topic  \n",
              "0  per 100,000 population  Cardiovascular Diseases  Stroke Mortality  \n",
              "1  per 100,000 population  Cardiovascular Diseases  Stroke Mortality  \n",
              "2  per 100,000 population  Cardiovascular Diseases  Stroke Mortality  \n",
              "3  per 100,000 population  Cardiovascular Diseases  Stroke Mortality  \n",
              "4  per 100,000 population  Cardiovascular Diseases  Stroke Mortality  "
            ]
          },
          "metadata": {
            "tags": []
          },
          "execution_count": 22
        }
      ]
    },
    {
      "cell_type": "code",
      "metadata": {
        "id": "_KBaiORSZtby",
        "colab_type": "code",
        "colab": {},
        "outputId": "af81ff59-ea1a-40a8-d6e9-8d04d22b6cc0"
      },
      "source": [
        "#cleaing data\n",
        "\n",
        "cols = datasub_df.columns[:6] # first 30 columns\n",
        "colours = ['#000099', '#ffff00'] # specify the colours - yellow is missing. blue is not missing.\n",
        "sns.heatmap(datasub_df[cols].isnull(), cmap=sns.color_palette(colours))"
      ],
      "execution_count": null,
      "outputs": [
        {
          "output_type": "execute_result",
          "data": {
            "text/plain": [
              "<matplotlib.axes._subplots.AxesSubplot at 0x1a826a7d1d0>"
            ]
          },
          "metadata": {
            "tags": []
          },
          "execution_count": 23
        },
        {
          "output_type": "display_data",
          "data": {
            "image/png": "[encoded data removed]",
            "text/plain": [
              "<Figure size 432x288 with 2 Axes>"
            ]
          },
          "metadata": {
            "tags": [],
            "needs_background": "light"
          }
        }
      ]
    },
    {
      "cell_type": "code",
      "metadata": {
        "id": "m0E-Q8fGZtb1",
        "colab_type": "code",
        "colab": {},
        "outputId": "c5473e9c-66c9-4653-c981-b322261d9626"
      },
      "source": [
        "# if it's a larger dataset and the visualization takes too long can do this.\n",
        "# % of missing.\n",
        "for col in datasub_df.columns:\n",
        "    pct_missing = np.mean(datasub_df[col].isnull())\n",
        "    print('{} - {}%'.format(col, round(pct_missing*100)))"
      ],
      "execution_count": null,
      "outputs": [
        {
          "output_type": "stream",
          "text": [
            "Year - 0.0%\n",
            "Lat - 0.0%\n",
            "Long - 0.0%\n",
            "State - 0.0%\n",
            "Country_Region - 0.0%\n",
            "Data_Value - 52.0%\n",
            "Data_Value_Unit - 0.0%\n",
            "Class - 0.0%\n",
            "Topic - 0.0%\n"
          ],
          "name": "stdout"
        }
      ]
    },
    {
      "cell_type": "code",
      "metadata": {
        "scrolled": true,
        "id": "7WaA6de-Ztb7",
        "colab_type": "code",
        "colab": {},
        "outputId": "6d184dcd-aaa1-47a4-df01-0f135c1ee859"
      },
      "source": [
        "#drop the rows that has counties with missing values\n",
        "clean_df= datasub_df.dropna()\n",
        "clean_df.head()"
      ],
      "execution_count": null,
      "outputs": [
        {
          "output_type": "execute_result",
          "data": {
            "text/html": [
              "<div>\n",
              "<style scoped>\n",
              "    .dataframe tbody tr th:only-of-type {\n",
              "        vertical-align: middle;\n",
              "    }\n",
              "\n",
              "    .dataframe tbody tr th {\n",
              "        vertical-align: top;\n",
              "    }\n",
              "\n",
              "    .dataframe thead th {\n",
              "        text-align: right;\n",
              "    }\n",
              "</style>\n",
              "<table border=\"1\" class=\"dataframe\">\n",
              "  <thead>\n",
              "    <tr style=\"text-align: right;\">\n",
              "      <th></th>\n",
              "      <th>Year</th>\n",
              "      <th>Lat</th>\n",
              "      <th>Long</th>\n",
              "      <th>State</th>\n",
              "      <th>Country_Region</th>\n",
              "      <th>Data_Value</th>\n",
              "      <th>Data_Value_Unit</th>\n",
              "      <th>Class</th>\n",
              "      <th>Topic</th>\n",
              "    </tr>\n",
              "  </thead>\n",
              "  <tbody>\n",
              "    <tr>\n",
              "      <th>0</th>\n",
              "      <td>2017</td>\n",
              "      <td>55.442393</td>\n",
              "      <td>-161.959930</td>\n",
              "      <td>AK</td>\n",
              "      <td>Aleutians East</td>\n",
              "      <td>2.0</td>\n",
              "      <td>per 100,000 population</td>\n",
              "      <td>Cardiovascular Diseases</td>\n",
              "      <td>Stroke Mortality</td>\n",
              "    </tr>\n",
              "    <tr>\n",
              "      <th>1</th>\n",
              "      <td>2017</td>\n",
              "      <td>53.648343</td>\n",
              "      <td>-166.917533</td>\n",
              "      <td>AK</td>\n",
              "      <td>Aleutians West</td>\n",
              "      <td>0.0</td>\n",
              "      <td>per 100,000 population</td>\n",
              "      <td>Cardiovascular Diseases</td>\n",
              "      <td>Stroke Mortality</td>\n",
              "    </tr>\n",
              "    <tr>\n",
              "      <th>2</th>\n",
              "      <td>2017</td>\n",
              "      <td>61.159145</td>\n",
              "      <td>-149.104559</td>\n",
              "      <td>AK</td>\n",
              "      <td>Anchorage</td>\n",
              "      <td>67.2</td>\n",
              "      <td>per 100,000 population</td>\n",
              "      <td>Cardiovascular Diseases</td>\n",
              "      <td>Stroke Mortality</td>\n",
              "    </tr>\n",
              "    <tr>\n",
              "      <th>3</th>\n",
              "      <td>2017</td>\n",
              "      <td>60.923648</td>\n",
              "      <td>-159.753262</td>\n",
              "      <td>AK</td>\n",
              "      <td>Bethel</td>\n",
              "      <td>104.6</td>\n",
              "      <td>per 100,000 population</td>\n",
              "      <td>Cardiovascular Diseases</td>\n",
              "      <td>Stroke Mortality</td>\n",
              "    </tr>\n",
              "    <tr>\n",
              "      <th>5</th>\n",
              "      <td>2017</td>\n",
              "      <td>63.678820</td>\n",
              "      <td>-149.960801</td>\n",
              "      <td>AK</td>\n",
              "      <td>Denali</td>\n",
              "      <td>75.2</td>\n",
              "      <td>per 100,000 population</td>\n",
              "      <td>Cardiovascular Diseases</td>\n",
              "      <td>Stroke Mortality</td>\n",
              "    </tr>\n",
              "  </tbody>\n",
              "</table>\n",
              "</div>"
            ],
            "text/plain": [
              "   Year        Lat        Long State  Country_Region  Data_Value  \\\n",
              "0  2017  55.442393 -161.959930    AK  Aleutians East         2.0   \n",
              "1  2017  53.648343 -166.917533    AK  Aleutians West         0.0   \n",
              "2  2017  61.159145 -149.104559    AK       Anchorage        67.2   \n",
              "3  2017  60.923648 -159.753262    AK          Bethel       104.6   \n",
              "5  2017  63.678820 -149.960801    AK          Denali        75.2   \n",
              "\n",
              "          Data_Value_Unit                    Class             Topic  \n",
              "0  per 100,000 population  Cardiovascular Diseases  Stroke Mortality  \n",
              "1  per 100,000 population  Cardiovascular Diseases  Stroke Mortality  \n",
              "2  per 100,000 population  Cardiovascular Diseases  Stroke Mortality  \n",
              "3  per 100,000 population  Cardiovascular Diseases  Stroke Mortality  \n",
              "5  per 100,000 population  Cardiovascular Diseases  Stroke Mortality  "
            ]
          },
          "metadata": {
            "tags": []
          },
          "execution_count": 25
        }
      ]
    },
    {
      "cell_type": "code",
      "metadata": {
        "id": "V1QrMU1nZtb9",
        "colab_type": "code",
        "colab": {}
      },
      "source": [
        "# Save Cleaned/Organized df to csv\n",
        "clean_df.to_csv(\"assets/data/stroke_death_clean.csv\", index=False)\n"
      ],
      "execution_count": null,
      "outputs": []
    },
    {
      "cell_type": "code",
      "metadata": {
        "id": "37r4h_lqZtcA",
        "colab_type": "code",
        "colab": {}
      },
      "source": [
        ""
      ],
      "execution_count": null,
      "outputs": []
    },
    {
      "cell_type": "code",
      "metadata": {
        "id": "ZxIKYRgKZtcD",
        "colab_type": "code",
        "colab": {}
      },
      "source": [
        ""
      ],
      "execution_count": null,
      "outputs": []
    },
    {
      "cell_type": "code",
      "metadata": {
        "id": "aufuKPvJZtcG",
        "colab_type": "code",
        "colab": {}
      },
      "source": [
        ""
      ],
      "execution_count": null,
      "outputs": []
    },
    {
      "cell_type": "code",
      "metadata": {
        "id": "sCQHt2VBZtcI",
        "colab_type": "code",
        "colab": {}
      },
      "source": [
        ""
      ],
      "execution_count": null,
      "outputs": []
    }
  ]
}