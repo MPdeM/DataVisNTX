{
  "nbformat": 4,
  "nbformat_minor": 0,
  "metadata": {
    "kernelspec": {
      "display_name": "Python 3",
      "language": "python",
      "name": "python3"
    },
    "language_info": {
      "codemirror_mode": {
        "name": "ipython",
        "version": 3
      },
      "file_extension": ".py",
      "mimetype": "text/x-python",
      "name": "python",
      "nbconvert_exporter": "python",
      "pygments_lexer": "ipython3",
      "version": "3.7.3"
    },
    "colab": {
      "name": "dataDesign.ipynb",
      "provenance": [],
      "collapsed_sections": []
    }
  },
  "cells": [
    {
      "cell_type": "markdown",
      "metadata": {
        "id": "iUaNRmYzxKcy",
        "colab_type": "text"
      },
      "source": [
        "## ETL \n",
        "Data for stroke deaths is extracted from CDC open data ( https://www.cdc.gov/dhdsp/maps/atlas/data-sources.html)\n",
        "The source of Stroke Mortality data among Adults (35+) by State/Territory and County is the NVSS Deaths National Vital Statistics System. Bridged-Race Postcensal Population Estimates from National Center for Health Statistics. For the mortality the total number follows  International Classification of Diseases, 10th Revision (ICD-10) codes All Stroke: I60-I69; underlying cause of death and includes Ischemic (I63, I65-I66)  and Hemorrhagic (I60-I62). "
      ]
    },
    {
      "cell_type": "code",
      "metadata": {
        "scrolled": true,
        "id": "J_zeRJKLZtbZ",
        "colab_type": "code",
        "colab": {
          "base_uri": "https://localhost:8080/",
          "height": 190
        },
        "outputId": "1d5053c9-d4d8-4d81-b63e-a08344f53fcb"
      },
      "source": [
        "# make sure to install this package before running:\n",
        "# python -m pip install --upgrade pip\n",
        "!pip install sodapy"
      ],
      "execution_count": 1,
      "outputs": [
        {
          "output_type": "stream",
          "text": [
            "Collecting sodapy\n",
            "  Downloading https://files.pythonhosted.org/packages/9e/74/95fb7d45bbe7f1de43caac45d7dd4807ef1e15881564a00eef489a3bb5c6/sodapy-2.1.0-py2.py3-none-any.whl\n",
            "Requirement already satisfied: requests>=2.20.0 in /usr/local/lib/python3.6/dist-packages (from sodapy) (2.23.0)\n",
            "Requirement already satisfied: certifi>=2017.4.17 in /usr/local/lib/python3.6/dist-packages (from requests>=2.20.0->sodapy) (2020.6.20)\n",
            "Requirement already satisfied: chardet<4,>=3.0.2 in /usr/local/lib/python3.6/dist-packages (from requests>=2.20.0->sodapy) (3.0.4)\n",
            "Requirement already satisfied: urllib3!=1.25.0,!=1.25.1,<1.26,>=1.21.1 in /usr/local/lib/python3.6/dist-packages (from requests>=2.20.0->sodapy) (1.24.3)\n",
            "Requirement already satisfied: idna<3,>=2.5 in /usr/local/lib/python3.6/dist-packages (from requests>=2.20.0->sodapy) (2.10)\n",
            "Installing collected packages: sodapy\n",
            "Successfully installed sodapy-2.1.0\n"
          ],
          "name": "stdout"
        }
      ]
    },
    {
      "cell_type": "code",
      "metadata": {
        "id": "hfUjuXLlZtbf",
        "colab_type": "code",
        "colab": {
          "base_uri": "https://localhost:8080/",
          "height": 71
        },
        "outputId": "d9867e98-1ac3-4d9a-c3f8-da83227f061f"
      },
      "source": [
        "import pandas as pd\n",
        "pd.set_option('display.max_columns', 30)\n",
        "import numpy as np\n",
        "import seaborn as sns\n",
        "import warnings\n",
        "warnings.filterwarnings(\"ignore\")\n",
        "\n",
        "from sodapy import Socrata"
      ],
      "execution_count": 2,
      "outputs": [
        {
          "output_type": "stream",
          "text": [
            "/usr/local/lib/python3.6/dist-packages/statsmodels/tools/_testing.py:19: FutureWarning: pandas.util.testing is deprecated. Use the functions in the public API at pandas.testing instead.\n",
            "  import pandas.util.testing as tm\n"
          ],
          "name": "stderr"
        }
      ]
    },
    {
      "cell_type": "code",
      "metadata": {
        "id": "NaWtMr0fZtbi",
        "colab_type": "code",
        "colab": {}
      },
      "source": [
        "# data\n",
        "# data = \"assets/data/Stroke_Mortality_Data_Among_US_Adults__35___by_State_Territory_and_County___2016-2018.csv\"\n",
        "\n",
        "# The Host Name for the API endpoint (the https:// part will be added automatically)\n",
        "data_url='chronicdata.cdc.gov'\n",
        "\n",
        "# The data set at the API endpoint \n",
        "data_set=\"tqwu-4a7k\"   \n",
        "\n",
        "# The app token created in the prior steps\n",
        "MyAppToken='px7JjOQLMt0zT2f5o7utbLBcj'\n",
        "username=\"mpmarinkovic@gmail.com\"\n",
        "password=\"!00Hagase\"\n",
        "\n",
        "# Create the client to point to the API endpoint\n",
        "client = Socrata(data_url,\n",
        "                 MyAppToken,\n",
        "                 username=username,\n",
        "                 password=password)\n",
        "\n",
        "     \n",
        "# Set the timeout to 60 seconds    \n",
        "client.timeout = 60\n"
      ],
      "execution_count": 3,
      "outputs": []
    },
    {
      "cell_type": "code",
      "metadata": {
        "id": "x5JsJysqa8Ll",
        "colab_type": "code",
        "colab": {
          "base_uri": "https://localhost:8080/",
          "height": 357
        },
        "outputId": "4893e731-9746-4e46-e550-d02b90602d10"
      },
      "source": [
        "# Get metadata about the target data set\n",
        "metadata = client.get_metadata(data_set)\n",
        "[x['name'] for x in metadata['columns']]"
      ],
      "execution_count": 10,
      "outputs": [
        {
          "output_type": "execute_result",
          "data": {
            "text/plain": [
              "['Year',\n",
              " 'LocationAbbr',\n",
              " 'LocationDesc',\n",
              " 'GeographicLevel',\n",
              " 'DataSource',\n",
              " 'Class',\n",
              " 'Topic',\n",
              " 'Data_Value',\n",
              " 'Data_Value_Unit',\n",
              " 'Data_Value_Type',\n",
              " 'Data_Value_Footnote_Symbol',\n",
              " 'Data_Value_Footnote',\n",
              " 'StratificationCategory1',\n",
              " 'Stratification1',\n",
              " 'StratificationCategory2',\n",
              " 'Stratification2',\n",
              " 'TopicID',\n",
              " 'LocationID',\n",
              " 'Y_lat',\n",
              " 'X_lon']"
            ]
          },
          "metadata": {
            "tags": []
          },
          "execution_count": 10
        }
      ]
    },
    {
      "cell_type": "code",
      "metadata": {
        "id": "0V1r_CvddKZY",
        "colab_type": "code",
        "colab": {}
      },
      "source": [
        "# The SoDaPy library converts this JSON object to a Python list of dictionaries\n",
        "# SODA APIs are paged, and return a maximum of 50,000 records per page\n",
        "# good practice to split up the request into multiple smaller queries \n",
        "\n",
        "# Get the total number of records in our target data set\n",
        "record_count = client.get(data_set, select=\"COUNT(*)\")\n",
        "record_count\n",
        "# while loop to fectch the record_limit during each iteration\n",
        "start = 0             # Start at 0\n",
        "record_limit = 10000     # Fetch 2000 rows at a time\n",
        "results =[]           # Empty out our result list\n",
        "while True:\n",
        "     # Fetch the set of records starting at 'start'\n",
        "     results.extend( client.get(data_set, offset=start, limit=record_limit))\n",
        "     # Move up the starting record\n",
        "     start = start + record_limit\n",
        "     # If we have fetched all of the records, bail out\n",
        "     if (start > int(record_count[0]['COUNT']) ):\n",
        "        break\n"
      ],
      "execution_count": 11,
      "outputs": []
    },
    {
      "cell_type": "code",
      "metadata": {
        "id": "ATqWNoFCKYe9",
        "colab_type": "code",
        "colab": {
          "base_uri": "https://localhost:8080/",
          "height": 479
        },
        "outputId": "a98b6256-40e0-44ad-d070-073d9c94820d"
      },
      "source": [
        "# Convert the list of dictionaries to a Pandas data frame\n",
        "# data_df = pd.DataFrame.from_records(results, coerce_float=True)\n",
        "data_df = pd.DataFrame.from_records(results)\n",
        "\n",
        "data_df.head(5)"
      ],
      "execution_count": 7,
      "outputs": [
        {
          "output_type": "execute_result",
          "data": {
            "text/html": [
              "<div>\n",
              "<style scoped>\n",
              "    .dataframe tbody tr th:only-of-type {\n",
              "        vertical-align: middle;\n",
              "    }\n",
              "\n",
              "    .dataframe tbody tr th {\n",
              "        vertical-align: top;\n",
              "    }\n",
              "\n",
              "    .dataframe thead th {\n",
              "        text-align: right;\n",
              "    }\n",
              "</style>\n",
              "<table border=\"1\" class=\"dataframe\">\n",
              "  <thead>\n",
              "    <tr style=\"text-align: right;\">\n",
              "      <th></th>\n",
              "      <th>year</th>\n",
              "      <th>locationabbr</th>\n",
              "      <th>locationdesc</th>\n",
              "      <th>geographiclevel</th>\n",
              "      <th>datasource</th>\n",
              "      <th>class</th>\n",
              "      <th>topic</th>\n",
              "      <th>data_value</th>\n",
              "      <th>data_value_unit</th>\n",
              "      <th>data_value_type</th>\n",
              "      <th>stratificationcategory1</th>\n",
              "      <th>stratification1</th>\n",
              "      <th>stratificationcategory2</th>\n",
              "      <th>stratification2</th>\n",
              "      <th>topicid</th>\n",
              "      <th>locationid</th>\n",
              "      <th>y_lat</th>\n",
              "      <th>x_lon</th>\n",
              "      <th>data_value_footnote_symbol</th>\n",
              "      <th>data_value_footnote</th>\n",
              "    </tr>\n",
              "  </thead>\n",
              "  <tbody>\n",
              "    <tr>\n",
              "      <th>0</th>\n",
              "      <td>2017</td>\n",
              "      <td>AK</td>\n",
              "      <td>Aleutians East</td>\n",
              "      <td>County</td>\n",
              "      <td>NVSS</td>\n",
              "      <td>Cardiovascular Diseases</td>\n",
              "      <td>Stroke Mortality</td>\n",
              "      <td>2</td>\n",
              "      <td>per 100,000 population</td>\n",
              "      <td>Age-adjusted, Spatially Smoothed, 3-year Avera...</td>\n",
              "      <td>Gender</td>\n",
              "      <td>Overall</td>\n",
              "      <td>Race/Ethnicity</td>\n",
              "      <td>Overall</td>\n",
              "      <td>T6</td>\n",
              "      <td>02013</td>\n",
              "      <td>55.442393334</td>\n",
              "      <td>-161.9599296</td>\n",
              "      <td>NaN</td>\n",
              "      <td>NaN</td>\n",
              "    </tr>\n",
              "    <tr>\n",
              "      <th>1</th>\n",
              "      <td>2017</td>\n",
              "      <td>AK</td>\n",
              "      <td>Aleutians West</td>\n",
              "      <td>County</td>\n",
              "      <td>NVSS</td>\n",
              "      <td>Cardiovascular Diseases</td>\n",
              "      <td>Stroke Mortality</td>\n",
              "      <td>0</td>\n",
              "      <td>per 100,000 population</td>\n",
              "      <td>Age-adjusted, Spatially Smoothed, 3-year Avera...</td>\n",
              "      <td>Gender</td>\n",
              "      <td>Overall</td>\n",
              "      <td>Race/Ethnicity</td>\n",
              "      <td>Overall</td>\n",
              "      <td>T6</td>\n",
              "      <td>02016</td>\n",
              "      <td>53.648343064</td>\n",
              "      <td>-166.9175329</td>\n",
              "      <td>NaN</td>\n",
              "      <td>NaN</td>\n",
              "    </tr>\n",
              "    <tr>\n",
              "      <th>2</th>\n",
              "      <td>2017</td>\n",
              "      <td>AK</td>\n",
              "      <td>Anchorage</td>\n",
              "      <td>County</td>\n",
              "      <td>NVSS</td>\n",
              "      <td>Cardiovascular Diseases</td>\n",
              "      <td>Stroke Mortality</td>\n",
              "      <td>67.2</td>\n",
              "      <td>per 100,000 population</td>\n",
              "      <td>Age-adjusted, Spatially Smoothed, 3-year Avera...</td>\n",
              "      <td>Gender</td>\n",
              "      <td>Overall</td>\n",
              "      <td>Race/Ethnicity</td>\n",
              "      <td>Overall</td>\n",
              "      <td>T6</td>\n",
              "      <td>02020</td>\n",
              "      <td>61.159144533</td>\n",
              "      <td>-149.1045591</td>\n",
              "      <td>NaN</td>\n",
              "      <td>NaN</td>\n",
              "    </tr>\n",
              "    <tr>\n",
              "      <th>3</th>\n",
              "      <td>2017</td>\n",
              "      <td>AK</td>\n",
              "      <td>Bethel</td>\n",
              "      <td>County</td>\n",
              "      <td>NVSS</td>\n",
              "      <td>Cardiovascular Diseases</td>\n",
              "      <td>Stroke Mortality</td>\n",
              "      <td>104.6</td>\n",
              "      <td>per 100,000 population</td>\n",
              "      <td>Age-adjusted, Spatially Smoothed, 3-year Avera...</td>\n",
              "      <td>Gender</td>\n",
              "      <td>Overall</td>\n",
              "      <td>Race/Ethnicity</td>\n",
              "      <td>Overall</td>\n",
              "      <td>T6</td>\n",
              "      <td>02050</td>\n",
              "      <td>60.923647647</td>\n",
              "      <td>-159.7532618</td>\n",
              "      <td>NaN</td>\n",
              "      <td>NaN</td>\n",
              "    </tr>\n",
              "    <tr>\n",
              "      <th>4</th>\n",
              "      <td>2017</td>\n",
              "      <td>AK</td>\n",
              "      <td>Bristol Bay</td>\n",
              "      <td>County</td>\n",
              "      <td>NVSS</td>\n",
              "      <td>Cardiovascular Diseases</td>\n",
              "      <td>Stroke Mortality</td>\n",
              "      <td>NaN</td>\n",
              "      <td>per 100,000 population</td>\n",
              "      <td>Age-adjusted, Spatially Smoothed, 3-year Avera...</td>\n",
              "      <td>Gender</td>\n",
              "      <td>Overall</td>\n",
              "      <td>Race/Ethnicity</td>\n",
              "      <td>Overall</td>\n",
              "      <td>T6</td>\n",
              "      <td>02060</td>\n",
              "      <td>58.753495988</td>\n",
              "      <td>-156.694662</td>\n",
              "      <td>~</td>\n",
              "      <td>Insufficient Data</td>\n",
              "    </tr>\n",
              "  </tbody>\n",
              "</table>\n",
              "</div>"
            ],
            "text/plain": [
              "   year locationabbr    locationdesc geographiclevel datasource  \\\n",
              "0  2017           AK  Aleutians East          County       NVSS   \n",
              "1  2017           AK  Aleutians West          County       NVSS   \n",
              "2  2017           AK       Anchorage          County       NVSS   \n",
              "3  2017           AK          Bethel          County       NVSS   \n",
              "4  2017           AK     Bristol Bay          County       NVSS   \n",
              "\n",
              "                     class             topic data_value  \\\n",
              "0  Cardiovascular Diseases  Stroke Mortality          2   \n",
              "1  Cardiovascular Diseases  Stroke Mortality          0   \n",
              "2  Cardiovascular Diseases  Stroke Mortality       67.2   \n",
              "3  Cardiovascular Diseases  Stroke Mortality      104.6   \n",
              "4  Cardiovascular Diseases  Stroke Mortality        NaN   \n",
              "\n",
              "          data_value_unit                                    data_value_type  \\\n",
              "0  per 100,000 population  Age-adjusted, Spatially Smoothed, 3-year Avera...   \n",
              "1  per 100,000 population  Age-adjusted, Spatially Smoothed, 3-year Avera...   \n",
              "2  per 100,000 population  Age-adjusted, Spatially Smoothed, 3-year Avera...   \n",
              "3  per 100,000 population  Age-adjusted, Spatially Smoothed, 3-year Avera...   \n",
              "4  per 100,000 population  Age-adjusted, Spatially Smoothed, 3-year Avera...   \n",
              "\n",
              "  stratificationcategory1 stratification1 stratificationcategory2  \\\n",
              "0                  Gender         Overall          Race/Ethnicity   \n",
              "1                  Gender         Overall          Race/Ethnicity   \n",
              "2                  Gender         Overall          Race/Ethnicity   \n",
              "3                  Gender         Overall          Race/Ethnicity   \n",
              "4                  Gender         Overall          Race/Ethnicity   \n",
              "\n",
              "  stratification2 topicid locationid         y_lat         x_lon  \\\n",
              "0         Overall      T6      02013  55.442393334  -161.9599296   \n",
              "1         Overall      T6      02016  53.648343064  -166.9175329   \n",
              "2         Overall      T6      02020  61.159144533  -149.1045591   \n",
              "3         Overall      T6      02050  60.923647647  -159.7532618   \n",
              "4         Overall      T6      02060  58.753495988   -156.694662   \n",
              "\n",
              "  data_value_footnote_symbol data_value_footnote  \n",
              "0                        NaN                 NaN  \n",
              "1                        NaN                 NaN  \n",
              "2                        NaN                 NaN  \n",
              "3                        NaN                 NaN  \n",
              "4                          ~   Insufficient Data  "
            ]
          },
          "metadata": {
            "tags": []
          },
          "execution_count": 7
        }
      ]
    },
    {
      "cell_type": "code",
      "metadata": {
        "id": "f1gFXlTzPLGU",
        "colab_type": "code",
        "colab": {
          "base_uri": "https://localhost:8080/",
          "height": 374
        },
        "outputId": "4954c823-f564-4d9c-d93f-817fbb67d0eb"
      },
      "source": [
        "# Check datacounts\n",
        "data_df.count()"
      ],
      "execution_count": 12,
      "outputs": [
        {
          "output_type": "execute_result",
          "data": {
            "text/plain": [
              "year                          59094\n",
              "locationabbr                  59094\n",
              "locationdesc                  59094\n",
              "geographiclevel               59094\n",
              "datasource                    59094\n",
              "class                         59094\n",
              "topic                         59094\n",
              "data_value                    28095\n",
              "data_value_unit               59094\n",
              "data_value_type               59094\n",
              "stratificationcategory1       59094\n",
              "stratification1               59094\n",
              "stratificationcategory2       59094\n",
              "stratification2               59094\n",
              "topicid                       59094\n",
              "locationid                    59094\n",
              "y_lat                         59076\n",
              "x_lon                         59076\n",
              "data_value_footnote_symbol    30999\n",
              "data_value_footnote           30999\n",
              "dtype: int64"
            ]
          },
          "metadata": {
            "tags": []
          },
          "execution_count": 12
        }
      ]
    },
    {
      "cell_type": "code",
      "metadata": {
        "scrolled": true,
        "id": "nTWui3eLZtbl",
        "colab_type": "code",
        "colab": {
          "base_uri": "https://localhost:8080/",
          "height": 374
        },
        "outputId": "7cf646be-e2aa-42ac-da1e-0ecf53dc217f"
      },
      "source": [
        "# Check datatypes\n",
        "data_df.dtypes"
      ],
      "execution_count": 13,
      "outputs": [
        {
          "output_type": "execute_result",
          "data": {
            "text/plain": [
              "year                          object\n",
              "locationabbr                  object\n",
              "locationdesc                  object\n",
              "geographiclevel               object\n",
              "datasource                    object\n",
              "class                         object\n",
              "topic                         object\n",
              "data_value                    object\n",
              "data_value_unit               object\n",
              "data_value_type               object\n",
              "stratificationcategory1       object\n",
              "stratification1               object\n",
              "stratificationcategory2       object\n",
              "stratification2               object\n",
              "topicid                       object\n",
              "locationid                    object\n",
              "y_lat                         object\n",
              "x_lon                         object\n",
              "data_value_footnote_symbol    object\n",
              "data_value_footnote           object\n",
              "dtype: object"
            ]
          },
          "metadata": {
            "tags": []
          },
          "execution_count": 13
        }
      ]
    },
    {
      "cell_type": "code",
      "metadata": {
        "id": "N5JMAQIzr53K",
        "colab_type": "code",
        "colab": {}
      },
      "source": [
        "client.close()"
      ],
      "execution_count": 14,
      "outputs": []
    },
    {
      "cell_type": "code",
      "metadata": {
        "id": "bmBqPOQ7qDLe",
        "colab_type": "code",
        "colab": {
          "base_uri": "https://localhost:8080/",
          "height": 374
        },
        "outputId": "3e04b91a-3c11-45cc-926b-605393da3dd7"
      },
      "source": [
        "\n",
        "data_df['year'] = pd.to_numeric(data_df['year'])\n",
        "data_df['locationid'] = pd.to_numeric(data_df['locationid'])\n",
        "data_df['data_value'] = pd.to_numeric(data_df['data_value'])\n",
        "data_df['y_lat'] = pd.to_numeric(data_df['y_lat'])\n",
        "data_df['x_lon'] = pd.to_numeric(data_df['x_lon'])\n",
        "data_df.dtypes"
      ],
      "execution_count": 15,
      "outputs": [
        {
          "output_type": "execute_result",
          "data": {
            "text/plain": [
              "year                            int64\n",
              "locationabbr                   object\n",
              "locationdesc                   object\n",
              "geographiclevel                object\n",
              "datasource                     object\n",
              "class                          object\n",
              "topic                          object\n",
              "data_value                    float64\n",
              "data_value_unit                object\n",
              "data_value_type                object\n",
              "stratificationcategory1        object\n",
              "stratification1                object\n",
              "stratificationcategory2        object\n",
              "stratification2                object\n",
              "topicid                        object\n",
              "locationid                      int64\n",
              "y_lat                         float64\n",
              "x_lon                         float64\n",
              "data_value_footnote_symbol     object\n",
              "data_value_footnote            object\n",
              "dtype: object"
            ]
          },
          "metadata": {
            "tags": []
          },
          "execution_count": 15
        }
      ]
    },
    {
      "cell_type": "code",
      "metadata": {
        "id": "PVVwYTAdZtbs",
        "colab_type": "code",
        "colab": {
          "base_uri": "https://localhost:8080/",
          "height": 309
        },
        "outputId": "3c7ff780-afec-4ad8-ec47-3590fb1838bf"
      },
      "source": [
        "# reorganize columns\n",
        "datasub_df = data_df[[ 'locationid','locationabbr','locationdesc','y_lat','x_lon',\n",
        "                      'data_value','data_value_unit', 'class','topic',\n",
        "                      'stratificationcategory1', 'stratification1' ,'stratificationcategory2' , 'stratification2' ,'year']]          \n",
        "datasub_df\n",
        "\n",
        "datasub_df.head()"
      ],
      "execution_count": 16,
      "outputs": [
        {
          "output_type": "execute_result",
          "data": {
            "text/html": [
              "<div>\n",
              "<style scoped>\n",
              "    .dataframe tbody tr th:only-of-type {\n",
              "        vertical-align: middle;\n",
              "    }\n",
              "\n",
              "    .dataframe tbody tr th {\n",
              "        vertical-align: top;\n",
              "    }\n",
              "\n",
              "    .dataframe thead th {\n",
              "        text-align: right;\n",
              "    }\n",
              "</style>\n",
              "<table border=\"1\" class=\"dataframe\">\n",
              "  <thead>\n",
              "    <tr style=\"text-align: right;\">\n",
              "      <th></th>\n",
              "      <th>locationid</th>\n",
              "      <th>locationabbr</th>\n",
              "      <th>locationdesc</th>\n",
              "      <th>y_lat</th>\n",
              "      <th>x_lon</th>\n",
              "      <th>data_value</th>\n",
              "      <th>data_value_unit</th>\n",
              "      <th>class</th>\n",
              "      <th>topic</th>\n",
              "      <th>stratificationcategory1</th>\n",
              "      <th>stratification1</th>\n",
              "      <th>stratificationcategory2</th>\n",
              "      <th>stratification2</th>\n",
              "      <th>year</th>\n",
              "    </tr>\n",
              "  </thead>\n",
              "  <tbody>\n",
              "    <tr>\n",
              "      <th>0</th>\n",
              "      <td>2013</td>\n",
              "      <td>AK</td>\n",
              "      <td>Aleutians East</td>\n",
              "      <td>55.442393</td>\n",
              "      <td>-161.959930</td>\n",
              "      <td>2.0</td>\n",
              "      <td>per 100,000 population</td>\n",
              "      <td>Cardiovascular Diseases</td>\n",
              "      <td>Stroke Mortality</td>\n",
              "      <td>Gender</td>\n",
              "      <td>Overall</td>\n",
              "      <td>Race/Ethnicity</td>\n",
              "      <td>Overall</td>\n",
              "      <td>2017</td>\n",
              "    </tr>\n",
              "    <tr>\n",
              "      <th>1</th>\n",
              "      <td>2016</td>\n",
              "      <td>AK</td>\n",
              "      <td>Aleutians West</td>\n",
              "      <td>53.648343</td>\n",
              "      <td>-166.917533</td>\n",
              "      <td>0.0</td>\n",
              "      <td>per 100,000 population</td>\n",
              "      <td>Cardiovascular Diseases</td>\n",
              "      <td>Stroke Mortality</td>\n",
              "      <td>Gender</td>\n",
              "      <td>Overall</td>\n",
              "      <td>Race/Ethnicity</td>\n",
              "      <td>Overall</td>\n",
              "      <td>2017</td>\n",
              "    </tr>\n",
              "    <tr>\n",
              "      <th>2</th>\n",
              "      <td>2020</td>\n",
              "      <td>AK</td>\n",
              "      <td>Anchorage</td>\n",
              "      <td>61.159145</td>\n",
              "      <td>-149.104559</td>\n",
              "      <td>67.2</td>\n",
              "      <td>per 100,000 population</td>\n",
              "      <td>Cardiovascular Diseases</td>\n",
              "      <td>Stroke Mortality</td>\n",
              "      <td>Gender</td>\n",
              "      <td>Overall</td>\n",
              "      <td>Race/Ethnicity</td>\n",
              "      <td>Overall</td>\n",
              "      <td>2017</td>\n",
              "    </tr>\n",
              "    <tr>\n",
              "      <th>3</th>\n",
              "      <td>2050</td>\n",
              "      <td>AK</td>\n",
              "      <td>Bethel</td>\n",
              "      <td>60.923648</td>\n",
              "      <td>-159.753262</td>\n",
              "      <td>104.6</td>\n",
              "      <td>per 100,000 population</td>\n",
              "      <td>Cardiovascular Diseases</td>\n",
              "      <td>Stroke Mortality</td>\n",
              "      <td>Gender</td>\n",
              "      <td>Overall</td>\n",
              "      <td>Race/Ethnicity</td>\n",
              "      <td>Overall</td>\n",
              "      <td>2017</td>\n",
              "    </tr>\n",
              "    <tr>\n",
              "      <th>4</th>\n",
              "      <td>2060</td>\n",
              "      <td>AK</td>\n",
              "      <td>Bristol Bay</td>\n",
              "      <td>58.753496</td>\n",
              "      <td>-156.694662</td>\n",
              "      <td>NaN</td>\n",
              "      <td>per 100,000 population</td>\n",
              "      <td>Cardiovascular Diseases</td>\n",
              "      <td>Stroke Mortality</td>\n",
              "      <td>Gender</td>\n",
              "      <td>Overall</td>\n",
              "      <td>Race/Ethnicity</td>\n",
              "      <td>Overall</td>\n",
              "      <td>2017</td>\n",
              "    </tr>\n",
              "  </tbody>\n",
              "</table>\n",
              "</div>"
            ],
            "text/plain": [
              "   locationid locationabbr    locationdesc      y_lat       x_lon  data_value  \\\n",
              "0        2013           AK  Aleutians East  55.442393 -161.959930         2.0   \n",
              "1        2016           AK  Aleutians West  53.648343 -166.917533         0.0   \n",
              "2        2020           AK       Anchorage  61.159145 -149.104559        67.2   \n",
              "3        2050           AK          Bethel  60.923648 -159.753262       104.6   \n",
              "4        2060           AK     Bristol Bay  58.753496 -156.694662         NaN   \n",
              "\n",
              "          data_value_unit                    class             topic  \\\n",
              "0  per 100,000 population  Cardiovascular Diseases  Stroke Mortality   \n",
              "1  per 100,000 population  Cardiovascular Diseases  Stroke Mortality   \n",
              "2  per 100,000 population  Cardiovascular Diseases  Stroke Mortality   \n",
              "3  per 100,000 population  Cardiovascular Diseases  Stroke Mortality   \n",
              "4  per 100,000 population  Cardiovascular Diseases  Stroke Mortality   \n",
              "\n",
              "  stratificationcategory1 stratification1 stratificationcategory2  \\\n",
              "0                  Gender         Overall          Race/Ethnicity   \n",
              "1                  Gender         Overall          Race/Ethnicity   \n",
              "2                  Gender         Overall          Race/Ethnicity   \n",
              "3                  Gender         Overall          Race/Ethnicity   \n",
              "4                  Gender         Overall          Race/Ethnicity   \n",
              "\n",
              "  stratification2  year  \n",
              "0         Overall  2017  \n",
              "1         Overall  2017  \n",
              "2         Overall  2017  \n",
              "3         Overall  2017  \n",
              "4         Overall  2017  "
            ]
          },
          "metadata": {
            "tags": []
          },
          "execution_count": 16
        }
      ]
    },
    {
      "cell_type": "code",
      "metadata": {
        "id": "EOCiJ2XuZtbv",
        "colab_type": "code",
        "colab": {
          "base_uri": "https://localhost:8080/",
          "height": 309
        },
        "outputId": "0ac54b87-4494-47c1-a296-f8e373866c27"
      },
      "source": [
        "#Rename columns \n",
        "datasub_df = datasub_df.rename(columns={\"locationid\":\"locationID\", \"y_lat\":\"lat\", \"x_lon\":\"lon\",\"locationabbr\":\"state\", \"locationdesc\": \"county\"})\n",
        "\n",
        "datasub_df.head() "
      ],
      "execution_count": 17,
      "outputs": [
        {
          "output_type": "execute_result",
          "data": {
            "text/html": [
              "<div>\n",
              "<style scoped>\n",
              "    .dataframe tbody tr th:only-of-type {\n",
              "        vertical-align: middle;\n",
              "    }\n",
              "\n",
              "    .dataframe tbody tr th {\n",
              "        vertical-align: top;\n",
              "    }\n",
              "\n",
              "    .dataframe thead th {\n",
              "        text-align: right;\n",
              "    }\n",
              "</style>\n",
              "<table border=\"1\" class=\"dataframe\">\n",
              "  <thead>\n",
              "    <tr style=\"text-align: right;\">\n",
              "      <th></th>\n",
              "      <th>locationID</th>\n",
              "      <th>state</th>\n",
              "      <th>county</th>\n",
              "      <th>lat</th>\n",
              "      <th>lon</th>\n",
              "      <th>data_value</th>\n",
              "      <th>data_value_unit</th>\n",
              "      <th>class</th>\n",
              "      <th>topic</th>\n",
              "      <th>stratificationcategory1</th>\n",
              "      <th>stratification1</th>\n",
              "      <th>stratificationcategory2</th>\n",
              "      <th>stratification2</th>\n",
              "      <th>year</th>\n",
              "    </tr>\n",
              "  </thead>\n",
              "  <tbody>\n",
              "    <tr>\n",
              "      <th>0</th>\n",
              "      <td>2013</td>\n",
              "      <td>AK</td>\n",
              "      <td>Aleutians East</td>\n",
              "      <td>55.442393</td>\n",
              "      <td>-161.959930</td>\n",
              "      <td>2.0</td>\n",
              "      <td>per 100,000 population</td>\n",
              "      <td>Cardiovascular Diseases</td>\n",
              "      <td>Stroke Mortality</td>\n",
              "      <td>Gender</td>\n",
              "      <td>Overall</td>\n",
              "      <td>Race/Ethnicity</td>\n",
              "      <td>Overall</td>\n",
              "      <td>2017</td>\n",
              "    </tr>\n",
              "    <tr>\n",
              "      <th>1</th>\n",
              "      <td>2016</td>\n",
              "      <td>AK</td>\n",
              "      <td>Aleutians West</td>\n",
              "      <td>53.648343</td>\n",
              "      <td>-166.917533</td>\n",
              "      <td>0.0</td>\n",
              "      <td>per 100,000 population</td>\n",
              "      <td>Cardiovascular Diseases</td>\n",
              "      <td>Stroke Mortality</td>\n",
              "      <td>Gender</td>\n",
              "      <td>Overall</td>\n",
              "      <td>Race/Ethnicity</td>\n",
              "      <td>Overall</td>\n",
              "      <td>2017</td>\n",
              "    </tr>\n",
              "    <tr>\n",
              "      <th>2</th>\n",
              "      <td>2020</td>\n",
              "      <td>AK</td>\n",
              "      <td>Anchorage</td>\n",
              "      <td>61.159145</td>\n",
              "      <td>-149.104559</td>\n",
              "      <td>67.2</td>\n",
              "      <td>per 100,000 population</td>\n",
              "      <td>Cardiovascular Diseases</td>\n",
              "      <td>Stroke Mortality</td>\n",
              "      <td>Gender</td>\n",
              "      <td>Overall</td>\n",
              "      <td>Race/Ethnicity</td>\n",
              "      <td>Overall</td>\n",
              "      <td>2017</td>\n",
              "    </tr>\n",
              "    <tr>\n",
              "      <th>3</th>\n",
              "      <td>2050</td>\n",
              "      <td>AK</td>\n",
              "      <td>Bethel</td>\n",
              "      <td>60.923648</td>\n",
              "      <td>-159.753262</td>\n",
              "      <td>104.6</td>\n",
              "      <td>per 100,000 population</td>\n",
              "      <td>Cardiovascular Diseases</td>\n",
              "      <td>Stroke Mortality</td>\n",
              "      <td>Gender</td>\n",
              "      <td>Overall</td>\n",
              "      <td>Race/Ethnicity</td>\n",
              "      <td>Overall</td>\n",
              "      <td>2017</td>\n",
              "    </tr>\n",
              "    <tr>\n",
              "      <th>4</th>\n",
              "      <td>2060</td>\n",
              "      <td>AK</td>\n",
              "      <td>Bristol Bay</td>\n",
              "      <td>58.753496</td>\n",
              "      <td>-156.694662</td>\n",
              "      <td>NaN</td>\n",
              "      <td>per 100,000 population</td>\n",
              "      <td>Cardiovascular Diseases</td>\n",
              "      <td>Stroke Mortality</td>\n",
              "      <td>Gender</td>\n",
              "      <td>Overall</td>\n",
              "      <td>Race/Ethnicity</td>\n",
              "      <td>Overall</td>\n",
              "      <td>2017</td>\n",
              "    </tr>\n",
              "  </tbody>\n",
              "</table>\n",
              "</div>"
            ],
            "text/plain": [
              "   locationID state          county        lat         lon  data_value  \\\n",
              "0        2013    AK  Aleutians East  55.442393 -161.959930         2.0   \n",
              "1        2016    AK  Aleutians West  53.648343 -166.917533         0.0   \n",
              "2        2020    AK       Anchorage  61.159145 -149.104559        67.2   \n",
              "3        2050    AK          Bethel  60.923648 -159.753262       104.6   \n",
              "4        2060    AK     Bristol Bay  58.753496 -156.694662         NaN   \n",
              "\n",
              "          data_value_unit                    class             topic  \\\n",
              "0  per 100,000 population  Cardiovascular Diseases  Stroke Mortality   \n",
              "1  per 100,000 population  Cardiovascular Diseases  Stroke Mortality   \n",
              "2  per 100,000 population  Cardiovascular Diseases  Stroke Mortality   \n",
              "3  per 100,000 population  Cardiovascular Diseases  Stroke Mortality   \n",
              "4  per 100,000 population  Cardiovascular Diseases  Stroke Mortality   \n",
              "\n",
              "  stratificationcategory1 stratification1 stratificationcategory2  \\\n",
              "0                  Gender         Overall          Race/Ethnicity   \n",
              "1                  Gender         Overall          Race/Ethnicity   \n",
              "2                  Gender         Overall          Race/Ethnicity   \n",
              "3                  Gender         Overall          Race/Ethnicity   \n",
              "4                  Gender         Overall          Race/Ethnicity   \n",
              "\n",
              "  stratification2  year  \n",
              "0         Overall  2017  \n",
              "1         Overall  2017  \n",
              "2         Overall  2017  \n",
              "3         Overall  2017  \n",
              "4         Overall  2017  "
            ]
          },
          "metadata": {
            "tags": []
          },
          "execution_count": 17
        }
      ]
    },
    {
      "cell_type": "code",
      "metadata": {
        "id": "_KBaiORSZtby",
        "colab_type": "code",
        "colab": {
          "base_uri": "https://localhost:8080/",
          "height": 390
        },
        "outputId": "3b0bc6c7-1d04-42b6-b294-a50230ca6375"
      },
      "source": [
        "#cleaing data\n",
        "\n",
        "cols = datasub_df.columns[:20] # first 30 columns\n",
        "colours = ['green', 'orange'] # specify the colours - orange is missing. green is not missing.\n",
        "sns.heatmap(datasub_df[cols].isnull(), cmap=sns.color_palette(colours))"
      ],
      "execution_count": 25,
      "outputs": [
        {
          "output_type": "execute_result",
          "data": {
            "text/plain": [
              "<matplotlib.axes._subplots.AxesSubplot at 0x7f378de6eb00>"
            ]
          },
          "metadata": {
            "tags": []
          },
          "execution_count": 25
        },
        {
          "output_type": "display_data",
          "data": {
            "image/png": "[encoded data removed]",
            "text/plain": [
              "<Figure size 432x288 with 2 Axes>"
            ]
          },
          "metadata": {
            "tags": [],
            "needs_background": "light"
          }
        }
      ]
    },
    {
      "cell_type": "code",
      "metadata": {
        "id": "m0E-Q8fGZtb1",
        "colab_type": "code",
        "colab": {
          "base_uri": "https://localhost:8080/",
          "height": 255
        },
        "outputId": "b4460eac-0d64-4803-fda8-4fc84cb53c0e"
      },
      "source": [
        "# if it's a larger dataset and the visualization takes too long can do this.\n",
        "# % of missing.\n",
        "for col in datasub_df.columns:\n",
        "    pct_missing = np.mean(datasub_df[col].isnull())\n",
        "    print('{} - {}%'.format(col, round(pct_missing*100)))"
      ],
      "execution_count": 47,
      "outputs": [
        {
          "output_type": "stream",
          "text": [
            "locationID - 0.0%\n",
            "state - 0.0%\n",
            "county - 0.0%\n",
            "lat - 0.0%\n",
            "long - 0.0%\n",
            "data_value - 52.0%\n",
            "data_value_unit - 0.0%\n",
            "class - 0.0%\n",
            "topic - 0.0%\n",
            "stratificationcategory1 - 0.0%\n",
            "stratification1 - 0.0%\n",
            "stratificationcategory2 - 0.0%\n",
            "stratification2 - 0.0%\n",
            "year - 0.0%\n"
          ],
          "name": "stdout"
        }
      ]
    },
    {
      "cell_type": "code",
      "metadata": {
        "scrolled": true,
        "id": "7WaA6de-Ztb7",
        "colab_type": "code",
        "colab": {
          "base_uri": "https://localhost:8080/",
          "height": 309
        },
        "outputId": "52e69e3b-c714-46f6-953b-73aa7c6093e8"
      },
      "source": [
        "#In this case the counties that had missing values will be changed by -1 to be easily recognizable\n",
        "datasub_df['data_value']= datasub_df['data_value'].fillna(-1)\n",
        "datasub_df.head()"
      ],
      "execution_count": 26,
      "outputs": [
        {
          "output_type": "execute_result",
          "data": {
            "text/html": [
              "<div>\n",
              "<style scoped>\n",
              "    .dataframe tbody tr th:only-of-type {\n",
              "        vertical-align: middle;\n",
              "    }\n",
              "\n",
              "    .dataframe tbody tr th {\n",
              "        vertical-align: top;\n",
              "    }\n",
              "\n",
              "    .dataframe thead th {\n",
              "        text-align: right;\n",
              "    }\n",
              "</style>\n",
              "<table border=\"1\" class=\"dataframe\">\n",
              "  <thead>\n",
              "    <tr style=\"text-align: right;\">\n",
              "      <th></th>\n",
              "      <th>locationID</th>\n",
              "      <th>state</th>\n",
              "      <th>county</th>\n",
              "      <th>lat</th>\n",
              "      <th>lon</th>\n",
              "      <th>data_value</th>\n",
              "      <th>data_value_unit</th>\n",
              "      <th>class</th>\n",
              "      <th>topic</th>\n",
              "      <th>stratificationcategory1</th>\n",
              "      <th>stratification1</th>\n",
              "      <th>stratificationcategory2</th>\n",
              "      <th>stratification2</th>\n",
              "      <th>year</th>\n",
              "    </tr>\n",
              "  </thead>\n",
              "  <tbody>\n",
              "    <tr>\n",
              "      <th>0</th>\n",
              "      <td>2013</td>\n",
              "      <td>AK</td>\n",
              "      <td>Aleutians East</td>\n",
              "      <td>55.442393</td>\n",
              "      <td>-161.959930</td>\n",
              "      <td>2.0</td>\n",
              "      <td>per 100,000 population</td>\n",
              "      <td>Cardiovascular Diseases</td>\n",
              "      <td>Stroke Mortality</td>\n",
              "      <td>Gender</td>\n",
              "      <td>Overall</td>\n",
              "      <td>Race/Ethnicity</td>\n",
              "      <td>Overall</td>\n",
              "      <td>2017</td>\n",
              "    </tr>\n",
              "    <tr>\n",
              "      <th>1</th>\n",
              "      <td>2016</td>\n",
              "      <td>AK</td>\n",
              "      <td>Aleutians West</td>\n",
              "      <td>53.648343</td>\n",
              "      <td>-166.917533</td>\n",
              "      <td>0.0</td>\n",
              "      <td>per 100,000 population</td>\n",
              "      <td>Cardiovascular Diseases</td>\n",
              "      <td>Stroke Mortality</td>\n",
              "      <td>Gender</td>\n",
              "      <td>Overall</td>\n",
              "      <td>Race/Ethnicity</td>\n",
              "      <td>Overall</td>\n",
              "      <td>2017</td>\n",
              "    </tr>\n",
              "    <tr>\n",
              "      <th>2</th>\n",
              "      <td>2020</td>\n",
              "      <td>AK</td>\n",
              "      <td>Anchorage</td>\n",
              "      <td>61.159145</td>\n",
              "      <td>-149.104559</td>\n",
              "      <td>67.2</td>\n",
              "      <td>per 100,000 population</td>\n",
              "      <td>Cardiovascular Diseases</td>\n",
              "      <td>Stroke Mortality</td>\n",
              "      <td>Gender</td>\n",
              "      <td>Overall</td>\n",
              "      <td>Race/Ethnicity</td>\n",
              "      <td>Overall</td>\n",
              "      <td>2017</td>\n",
              "    </tr>\n",
              "    <tr>\n",
              "      <th>3</th>\n",
              "      <td>2050</td>\n",
              "      <td>AK</td>\n",
              "      <td>Bethel</td>\n",
              "      <td>60.923648</td>\n",
              "      <td>-159.753262</td>\n",
              "      <td>104.6</td>\n",
              "      <td>per 100,000 population</td>\n",
              "      <td>Cardiovascular Diseases</td>\n",
              "      <td>Stroke Mortality</td>\n",
              "      <td>Gender</td>\n",
              "      <td>Overall</td>\n",
              "      <td>Race/Ethnicity</td>\n",
              "      <td>Overall</td>\n",
              "      <td>2017</td>\n",
              "    </tr>\n",
              "    <tr>\n",
              "      <th>4</th>\n",
              "      <td>2060</td>\n",
              "      <td>AK</td>\n",
              "      <td>Bristol Bay</td>\n",
              "      <td>58.753496</td>\n",
              "      <td>-156.694662</td>\n",
              "      <td>-1.0</td>\n",
              "      <td>per 100,000 population</td>\n",
              "      <td>Cardiovascular Diseases</td>\n",
              "      <td>Stroke Mortality</td>\n",
              "      <td>Gender</td>\n",
              "      <td>Overall</td>\n",
              "      <td>Race/Ethnicity</td>\n",
              "      <td>Overall</td>\n",
              "      <td>2017</td>\n",
              "    </tr>\n",
              "  </tbody>\n",
              "</table>\n",
              "</div>"
            ],
            "text/plain": [
              "   locationID state          county        lat         lon  data_value  \\\n",
              "0        2013    AK  Aleutians East  55.442393 -161.959930         2.0   \n",
              "1        2016    AK  Aleutians West  53.648343 -166.917533         0.0   \n",
              "2        2020    AK       Anchorage  61.159145 -149.104559        67.2   \n",
              "3        2050    AK          Bethel  60.923648 -159.753262       104.6   \n",
              "4        2060    AK     Bristol Bay  58.753496 -156.694662        -1.0   \n",
              "\n",
              "          data_value_unit                    class             topic  \\\n",
              "0  per 100,000 population  Cardiovascular Diseases  Stroke Mortality   \n",
              "1  per 100,000 population  Cardiovascular Diseases  Stroke Mortality   \n",
              "2  per 100,000 population  Cardiovascular Diseases  Stroke Mortality   \n",
              "3  per 100,000 population  Cardiovascular Diseases  Stroke Mortality   \n",
              "4  per 100,000 population  Cardiovascular Diseases  Stroke Mortality   \n",
              "\n",
              "  stratificationcategory1 stratification1 stratificationcategory2  \\\n",
              "0                  Gender         Overall          Race/Ethnicity   \n",
              "1                  Gender         Overall          Race/Ethnicity   \n",
              "2                  Gender         Overall          Race/Ethnicity   \n",
              "3                  Gender         Overall          Race/Ethnicity   \n",
              "4                  Gender         Overall          Race/Ethnicity   \n",
              "\n",
              "  stratification2  year  \n",
              "0         Overall  2017  \n",
              "1         Overall  2017  \n",
              "2         Overall  2017  \n",
              "3         Overall  2017  \n",
              "4         Overall  2017  "
            ]
          },
          "metadata": {
            "tags": []
          },
          "execution_count": 26
        }
      ]
    },
    {
      "cell_type": "code",
      "metadata": {
        "id": "-6TU-pPCtmMY",
        "colab_type": "code",
        "colab": {
          "base_uri": "https://localhost:8080/",
          "height": 272
        },
        "outputId": "bc8e4e64-9148-4ec5-c4fe-13ef93d72796"
      },
      "source": [
        "datasub_df.dtypes"
      ],
      "execution_count": 27,
      "outputs": [
        {
          "output_type": "execute_result",
          "data": {
            "text/plain": [
              "locationID                   int64\n",
              "state                       object\n",
              "county                      object\n",
              "lat                        float64\n",
              "lon                        float64\n",
              "data_value                 float64\n",
              "data_value_unit             object\n",
              "class                       object\n",
              "topic                       object\n",
              "stratificationcategory1     object\n",
              "stratification1             object\n",
              "stratificationcategory2     object\n",
              "stratification2             object\n",
              "year                         int64\n",
              "dtype: object"
            ]
          },
          "metadata": {
            "tags": []
          },
          "execution_count": 27
        }
      ]
    },
    {
      "cell_type": "code",
      "metadata": {
        "id": "d0RSb6LN-7cE",
        "colab_type": "code",
        "colab": {
          "base_uri": "https://localhost:8080/",
          "height": 34
        },
        "outputId": "d30acadb-468a-40e3-ef97-64278fac3099"
      },
      "source": [
        "datayear= datasub_df['year'][1]\n",
        "datayear"
      ],
      "execution_count": 37,
      "outputs": [
        {
          "output_type": "execute_result",
          "data": {
            "text/plain": [
              "2017"
            ]
          },
          "metadata": {
            "tags": []
          },
          "execution_count": 37
        }
      ]
    },
    {
      "cell_type": "code",
      "metadata": {
        "id": "lOdrnZGYB8Ko",
        "colab_type": "code",
        "colab": {}
      },
      "source": [
        "data2017_df=datasub_df"
      ],
      "execution_count": 39,
      "outputs": []
    },
    {
      "cell_type": "code",
      "metadata": {
        "id": "k7M3p-IuAooQ",
        "colab_type": "code",
        "colab": {}
      },
      "source": [
        ""
      ],
      "execution_count": null,
      "outputs": []
    },
    {
      "cell_type": "code",
      "metadata": {
        "id": "V1QrMU1nZtb9",
        "colab_type": "code",
        "colab": {}
      },
      "source": [
        "# Save Cleaned/Organized df to csv\n",
        "clean_df.to_csv(\"assets/data/stroke_death_clean.csv\", index=False)\n"
      ],
      "execution_count": null,
      "outputs": []
    },
    {
      "cell_type": "code",
      "metadata": {
        "id": "37r4h_lqZtcA",
        "colab_type": "code",
        "colab": {}
      },
      "source": [
        ""
      ],
      "execution_count": null,
      "outputs": []
    },
    {
      "cell_type": "code",
      "metadata": {
        "id": "ZxIKYRgKZtcD",
        "colab_type": "code",
        "colab": {}
      },
      "source": [
        ""
      ],
      "execution_count": null,
      "outputs": []
    },
    {
      "cell_type": "code",
      "metadata": {
        "id": "aufuKPvJZtcG",
        "colab_type": "code",
        "colab": {}
      },
      "source": [
        ""
      ],
      "execution_count": null,
      "outputs": []
    },
    {
      "cell_type": "code",
      "metadata": {
        "id": "sCQHt2VBZtcI",
        "colab_type": "code",
        "colab": {}
      },
      "source": [
        ""
      ],
      "execution_count": null,
      "outputs": []
    }
  ]
}