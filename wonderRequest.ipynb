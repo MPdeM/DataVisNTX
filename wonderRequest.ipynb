{
  "nbformat": 4,
  "nbformat_minor": 0,
  "metadata": {
    "colab": {
      "name": "wonderRequest.ipynb",
      "provenance": [],
      "collapsed_sections": [],
      "authorship_tag": "ABX9TyNscQMaF1LGbpLRSzPOG2yj"
    },
    "kernelspec": {
      "name": "python3",
      "display_name": "Python 3"
    }
  },
  "cells": [
    {
      "cell_type": "markdown",
      "metadata": {
        "id": "6GiYkURZPIV7",
        "colab_type": "text"
      },
      "source": [
        "# CDC WONDER API \n",
        "The following program fetches Mortality Data from the CDC Open Source Data Base using WONDER API's https://wonder.cdc.gov/\n",
        "It is based on the repository from A. Lipphart  https://github.com/alipphardt/cdc-wonder-api/ \n",
        "The CDC querry tool allows for the selections of several parameters and data can be grouped in filtered returning a table, tab-delimited line listing, that can be exported and visualized (max number of rows 75K)\n",
        "The API can also be use by POST request as a XLM over HTML. This request and the information about the parameters can be found https://wonder.cdc.gov/wonder/help/WONDER-API.html"
      ]
    },
    {
      "cell_type": "code",
      "metadata": {
        "id": "qzK4pHt6RDyr",
        "colab_type": "code",
        "colab": {}
      },
      "source": [
        "# Data is selected \"by-variables\" are are selected from the \"Group Results By\" AND the \"And By\" drop-down lists \n",
        "# in the \"Request Form.\" The \"by-variables\" categories will be rows and the measurements will be columns \n",
        "# M_ are measures to return, the default measures plus any optional measures.\n",
        "\n",
        "# For this example, will group by year and race\n",
        "\n",
        "b_parameters = {\n",
        "    \"B_1\": \"D76.V9-level1\", # D76.V9-level2\n",
        "    \"B_2\": \"D76.V9-level2\",        # D76.V5\n",
        "    \"B_3\": \"D76.V7\",        # D76.V7\n",
        "    \"B_4\": \"D76.V1-level1\", \n",
        "    \"B_5\": \"*None*\"\n",
        "}"
      ],
      "execution_count": 2,
      "outputs": []
    },
    {
      "cell_type": "code",
      "metadata": {
        "id": "xSvImBE1XxbU",
        "colab_type": "code",
        "colab": {}
      },
      "source": [
        "# measures to return, the default measures plus any optional measures\n",
        "\n",
        "# For this example, include deaths, population, and crude rate\n",
        "\n",
        "m_parameters = {\n",
        "    \"M_1\": \"D76.M1\",   # Deaths, must be included\n",
        "    \"M_2\": \"D76.M2\",   # Population, must be included\n",
        "    \"M_3\": \"D76.M3\",   # Crude rate, must be included\n",
        "    #\"M_31\": \"D76.M31\",        # Standard error (crude rate)\n",
        "    #\"M_32\": \"D76.M32\"         # 95% confidence interval (crude rate)\n",
        "    \"M_9\": \"D76.M9\",   # \n",
        "    \"M_41\": \"D76.M41\", # Standard error (age-adjusted rate)\n",
        "    \"M_42\": \"D76.M42\"  # 95% confidence interval (age-adjusted rate)\n",
        "}"
      ],
      "execution_count": 4,
      "outputs": []
    },
    {
      "cell_type": "code",
      "metadata": {
        "id": "oJfaSHmBXxnN",
        "colab_type": "code",
        "colab": {}
      },
      "source": [
        "# values highlighted in a \"Finder\" control for hierarchical lists, \n",
        "# such as the \"Regions/Divisions/States/Counties hierarchical\" list.\n",
        "\n",
        "# For this example, include all years, months, census regions, hhs regions, states. Only include ICD-10 K00-K92\n",
        "# for disease of the digestive system\n",
        "\n",
        "f_parameters = {\n",
        "    \"F_D76.V1\": [\"*All*\"], # year/month\n",
        "    \"F_D76.V10\": [\"*All*\"], # Census Regions - dont change\n",
        "    \"F_D76.V2\": [\"K00-K92\"], # ICD-10 Codes\n",
        "    \"F_D76.V27\": [\"*All*\"], # HHS Regions - dont change\n",
        "    \"F_D76.V9\": [\"*All*\"] # State County - dont change\n",
        "}"
      ],
      "execution_count": 6,
      "outputs": []
    },
    {
      "cell_type": "code",
      "metadata": {
        "id": "9Q_7JdY4Xxr3",
        "colab_type": "code",
        "colab": {}
      },
      "source": [
        "# contents of the \"Currently selected\" information areas next to \"Finder\" controls in the \"Request Form.\"\n",
        "\n",
        "# For this example, include all dates, census regions, hhs regions, and states.\n",
        "# Only include ICD-10 code K00-K92 for disease of the digestive system\n",
        "\n",
        "i_parameters = {\n",
        "    \"I_D76.V1\": \"*All* (All Dates)\",  # year/month\n",
        "    \"I_D76.V10\": \"*All* (The United States)\", # Census Regions - dont change\n",
        "    \"I_D76.V2\": \"K00-K92 (Diseases of the digestive system)\", # ICD-10 Codes\n",
        "    \"I_D76.V27\": \"*All* (The United States)\", # HHS Regions - dont change\n",
        "    \"I_D76.V9\": \"*All* (The United States)\" # State County - dont change\n",
        "}"
      ],
      "execution_count": 7,
      "outputs": []
    },
    {
      "cell_type": "code",
      "metadata": {
        "id": "kSQpNrlLXxvy",
        "colab_type": "code",
        "colab": {}
      },
      "source": [
        "# For this example, we want to include ten-year age groups for ages 15-44.\n",
        "# For all other categories, include all values\n",
        "\n",
        "v_parameters = {\n",
        "    \"V_D76.V1\": \"\",         # Year/Month\n",
        "    \"V_D76.V10\": \"\",        # Census Regions\n",
        "    \"V_D76.V11\": \"*All*\",   # 2006 Urbanization\n",
        "    \"V_D76.V12\": \"*All*\",   # ICD-10 130 Cause List (Infants)\n",
        "    \"V_D76.V17\": \"*All*\",   # Hispanic Origin\n",
        "    \"V_D76.V19\": \"*All*\",   # 2013 Urbanization\n",
        "    \"V_D76.V2\": \"\",         # ICD-10 Codes\n",
        "    \"V_D76.V20\": \"*All*\",   # Autopsy\n",
        "    \"V_D76.V21\": \"*All*\",   # Place of Death\n",
        "    \"V_D76.V22\": \"*All*\",   # Injury Intent\n",
        "    \"V_D76.V23\": \"*All*\",   # Injury Mechanism and All Other Leading Causes\n",
        "    \"V_D76.V24\": \"*All*\",   # Weekday\n",
        "    \"V_D76.V25\": \"*All*\",   # Drug/Alcohol Induced Causes\n",
        "    \"V_D76.V27\": \"\",        # HHS Regions\n",
        "    \"V_D76.V4\": \"*All*\",    # ICD-10 113 Cause List\n",
        "    \"V_D76.V5\": [\"15-24\", \"25-34\", \"35-44\"], # Ten-Year Age Groups\n",
        "    \"V_D76.V51\": \"*All*\",   # Five-Year Age Groups\n",
        "    \"V_D76.V52\": \"*All*\",   # Single-Year Ages\n",
        "    \"V_D76.V6\": \"00\",       # Infant Age Groups\n",
        "    \"V_D76.V7\": \"*All*\",    # Gender\n",
        "    \"V_D76.V8\": \"*All*\",    # Race\n",
        "    \"V_D76.V9\": \"\"          # State/County SAME   \n",
        "}"
      ],
      "execution_count": 8,
      "outputs": []
    },
    {
      "cell_type": "code",
      "metadata": {
        "id": "aqS8-3HgXxzc",
        "colab_type": "code",
        "colab": {}
      },
      "source": [
        "# other parameters, such as radio buttons, checkboxes, and lists that are not data categories\n",
        "\n",
        "# For this example, include age-adjusted rates, use ten-year age groups (D76.V5), use state location by default, \n",
        "# show rates per 100,000, use 2013 urbanization and use ICD-10 Codes (D76.V2) for cause of death category\n",
        "\n",
        "o_parameters = {\n",
        "    \"O_V10_fmode\": \"freg\",    # Use regular finder and ignore v parameter value\n",
        "    \"O_V1_fmode\": \"freg\",     # Use regular finder and ignore v parameter value\n",
        "    \"O_V27_fmode\": \"freg\",    # Use regular finder and ignore v parameter value\n",
        "    \"O_V2_fmode\": \"freg\",     # Use regular finder and ignore v parameter value\n",
        "    \"O_V9_fmode\": \"freg\",     # Use regular finder and ignore v parameter value\n",
        "    \"O_aar\": \"aar_none\",       # age-adjusted rates or aar_none \"aar_std\"\n",
        "    \"O_aar_pop\": \"0000\",      # population selection for age-adjusted rates\n",
        "    \"O_age\": \"D76.V5\",        # select age-group (e.g. ten-year, five-year, single-year, infant groups)\n",
        "    \"O_javascript\": \"on\",     # Set to on by default\n",
        "    \"O_location\": \"D76.V9\",   # select location variable to use (e.g. state/county, census, hhs regions)\n",
        "    \"O_precision\": \"1\",       # decimal places\n",
        "    \"O_rate_per\": \"100000\",   # rates calculated per X persons\n",
        "    \"O_show_totals\": \"false\",  # Show totals for \n",
        "    \"O_timeout\": \"600\",\n",
        "    \"O_title\": \"stroke\",    # title for data run\n",
        "    \"O_ucd\": \"D76.V2\",        # select underlying cause of death category\n",
        "    \"O_urban\": \"D76.V19\"      # select urbanization category\n",
        "    #\"O_oc-sect1-request\": \"close\"\n",
        "}"
      ],
      "execution_count": 9,
      "outputs": []
    },
    {
      "cell_type": "code",
      "metadata": {
        "id": "PSHT1pUQXx3k",
        "colab_type": "code",
        "colab": {}
      },
      "source": [
        "# values for non-standard age adjusted rates (see mortality online databases).\n",
        "\n",
        "# For this example, these parameters are ignored as standard age adjusted rates are used\n",
        "\n",
        "vm_parameters = {\n",
        "    \"VM_D76.M6_D76.V10\": \"\",        # Location\n",
        "    \"VM_D76.M6_D76.V17\": \"*All*\",   # Hispanic-Origin\n",
        "    \"VM_D76.M6_D76.V1_S\": \"*All*\",  # Year\n",
        "    \"VM_D76.M6_D76.V7\": \"*All*\",    # Gender\n",
        "    \"VM_D76.M6_D76.V8\": \"*All*\"     # Race\n",
        "}"
      ],
      "execution_count": 10,
      "outputs": []
    },
    {
      "cell_type": "code",
      "metadata": {
        "id": "KazSP2DmXx_H",
        "colab_type": "code",
        "colab": {}
      },
      "source": [
        "\n",
        "# Miscellaneous hidden inputs/parameters usually passed by web form. These do not change.\n",
        "misc_parameters = {\n",
        "    \"action-Send\": \"Send\",\n",
        "    \"finder-stage-D76.V1\": \"codeset\",\n",
        "    \"finder-stage-D76.V1\": \"codeset\",\n",
        "    \"finder-stage-D76.V2\": \"codeset\",\n",
        "    \"finder-stage-D76.V27\": \"codeset\",\n",
        "    \"finder-stage-D76.V9\": \"codeset\",\n",
        "    \"stage\": \"request\"\n",
        "}"
      ],
      "execution_count": 12,
      "outputs": []
    },
    {
      "cell_type": "code",
      "metadata": {
        "id": "zYmLjB1hYjp5",
        "colab_type": "code",
        "colab": {}
      },
      "source": [
        "def createParameterList(parameterList):\n",
        "    \"\"\"Helper function to create a parameter list from a dictionary object\"\"\"\n",
        "    \n",
        "    parameterString = \"\"\n",
        "    \n",
        "    for key in parameterList:\n",
        "        parameterString += \"<parameter>\\n\"\n",
        "        parameterString += \"<name>\" + key + \"</name>\\n\"\n",
        "        \n",
        "        if isinstance(parameterList[key], list):\n",
        "            for value in parameterList[key]:\n",
        "                parameterString += \"<value>\" + value + \"</value>\\n\"\n",
        "        else:\n",
        "            parameterString += \"<value>\" + parameterList[key] + \"</value>\\n\"\n",
        "        \n",
        "        parameterString += \"</parameter>\\n\"\n",
        "        \n",
        "    return parameterString"
      ],
      "execution_count": 13,
      "outputs": []
    },
    {
      "cell_type": "code",
      "metadata": {
        "id": "vfcq_Ku4Yjtp",
        "colab_type": "code",
        "colab": {}
      },
      "source": [
        "xml_request = \"<request-parameters>\\n\"\n",
        "xml_request += createParameterList(b_parameters)\n",
        "xml_request += createParameterList(m_parameters)\n",
        "xml_request += createParameterList(f_parameters)\n",
        "xml_request += createParameterList(i_parameters)\n",
        "xml_request += createParameterList(o_parameters)\n",
        "xml_request += createParameterList(vm_parameters)\n",
        "xml_request += createParameterList(v_parameters)\n",
        "xml_request += createParameterList(misc_parameters)\n",
        "xml_request += \"</request-parameters>\""
      ],
      "execution_count": 30,
      "outputs": []
    },
    {
      "cell_type": "code",
      "metadata": {
        "id": "cZr472EGYj0Q",
        "colab_type": "code",
        "colab": {}
      },
      "source": [
        "import requests\n",
        "\n",
        "url = \"https://wonder.cdc.gov/controller/datarequest/D76\"\n",
        "response = requests.post(url, data={\"request_xml\": xml_request, \"accept_datause_restrictions\": \"true\"})\n",
        "\n",
        "if response.status_code == 200:\n",
        "    data = response.text\n",
        "else:\n",
        "    print(\"something went wrong\")"
      ],
      "execution_count": 31,
      "outputs": []
    },
    {
      "cell_type": "code",
      "metadata": {
        "id": "u54z37ULYj6J",
        "colab_type": "code",
        "colab": {}
      },
      "source": [
        "\n",
        "# BeautifulSoup library facilitates parsing of XML response\n",
        "import bs4 as bs\n",
        "\n",
        "# This library faciliates 2-dimensional array operations and visualization\n",
        "import pandas as pd"
      ],
      "execution_count": 24,
      "outputs": []
    },
    {
      "cell_type": "code",
      "metadata": {
        "id": "7aPudpylYj9i",
        "colab_type": "code",
        "colab": {}
      },
      "source": [
        "def xml2df(xml_data):\n",
        "    root = bs.BeautifulSoup(xml_data,\"lxml\")\n",
        "    all_records = []\n",
        "    row_number = 0\n",
        "    rows = root.find_all(\"r\")\n",
        "    \n",
        "    for row in rows:\n",
        "        if row_number >= len(all_records):\n",
        "            all_records.append([])\n",
        "              \n",
        "        for cell in row.find_all(\"c\"):\n",
        "            if 'v' in cell.attrs:\n",
        "                try:\n",
        "                    all_records[row_number].append(float(cell.attrs[\"v\"].replace(',','')))\n",
        "                except ValueError:\n",
        "                    all_records[row_number].append(cell.attrs[\"v\"])\n",
        "            else:\n",
        "                if 'r' not in cell.attrs:\n",
        "                    all_records[row_number].append(cell.attrs[\"l\"])\n",
        "                else:\n",
        "                \n",
        "                    for row_index in range(int(cell.attrs[\"r\"])):\n",
        "                        if (row_number + row_index) >= len(all_records):\n",
        "                            all_records.append([])\n",
        "                            all_records[row_number + row_index].append(cell.attrs[\"l\"])\n",
        "                        else:\n",
        "                            all_records[row_number + row_index].append(cell.attrs[\"l\"])\n",
        "                                           \n",
        "        row_number += 1\n",
        "    return all_records"
      ],
      "execution_count": 25,
      "outputs": []
    },
    {
      "cell_type": "code",
      "metadata": {
        "id": "cYG_4wLfYkBe",
        "colab_type": "code",
        "colab": {
          "base_uri": "https://localhost:8080/",
          "height": 153
        },
        "outputId": "bcc46272-64ba-45fe-bf37-0bce2a3214c6"
      },
      "source": [
        "data_frame = xml2df(data)\n",
        "\n",
        "df = pd.DataFrame(data=data_frame, columns=[\"Year\", \"Race\", \"Deaths\", \"Population\", \"Crude Rate\", \"Age-adjusted Rate\", \"Age-adjusted Rate Standard Error\"])\n",
        "\n",
        "df.count()"
      ],
      "execution_count": 26,
      "outputs": [
        {
          "output_type": "execute_result",
          "data": {
            "text/plain": [
              "Year                                80\n",
              "Race                                80\n",
              "Deaths                              80\n",
              "Population                          80\n",
              "Crude Rate                          80\n",
              "Age-adjusted Rate                   80\n",
              "Age-adjusted Rate Standard Error    80\n",
              "dtype: int64"
            ]
          },
          "metadata": {
            "tags": []
          },
          "execution_count": 26
        }
      ]
    },
    {
      "cell_type": "code",
      "metadata": {
        "id": "r6DH0fJbaiMb",
        "colab_type": "code",
        "colab": {}
      },
      "source": [
        "# Load matplotlib for plotting and instruct jupyter to display figures inline\n",
        "from matplotlib import pyplot as plt\n",
        "%matplotlib inline"
      ],
      "execution_count": 20,
      "outputs": []
    },
    {
      "cell_type": "code",
      "metadata": {
        "id": "XkBnZeZNYjx2",
        "colab_type": "code",
        "colab": {
          "base_uri": "https://localhost:8080/",
          "height": 567
        },
        "outputId": "60c813ce-4643-4dd3-a7f6-e78a871e7a65"
      },
      "source": [
        "\n",
        "# Store figure and axis for shared plot\n",
        "fig, ax = plt.subplots()\n",
        "\n",
        "# Store labels for all race groups\n",
        "labels = []\n",
        "\n",
        "# For each group in the groupby object, grab the 'Race' label and create a line plot for it\n",
        "for key, grp in df.groupby(['Race']):\n",
        "    ax = grp.plot(ax=ax, kind='line', x='Year', y='Deaths')\n",
        "    labels.append(key)\n",
        "\n",
        "# Set the labels for each line using the group labels\n",
        "lines, _ = ax.get_legend_handles_labels()\n",
        "ax.legend(lines, labels, loc='best')\n",
        "\n",
        "# Configure chart size and title\n",
        "fig = plt.gcf()\n",
        "fig.set_size_inches(16, 9)\n",
        "plt.title(\"Deaths from Digestive Disease, by Race: United States\");"
      ],
      "execution_count": 21,
      "outputs": [
        {
          "output_type": "display_data",
          "data": {
            "image/png": "[encoded data removed]",
            "text/plain": [
              "<Figure size 1152x648 with 1 Axes>"
            ]
          },
          "metadata": {
            "tags": [],
            "needs_background": "light"
          }
        }
      ]
    }
  ]
}